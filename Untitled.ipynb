{
 "cells": [
  {
   "cell_type": "code",
   "execution_count": 1,
   "id": "e4437da7",
   "metadata": {},
   "outputs": [],
   "source": [
    "import pandas as pd\n",
    "import numpy as np\n",
    "import matplotlib.pyplot as plt\n",
    "import seaborn as sns\n",
    "from tqdm.notebook import tqdm\n",
    "from sklearn.preprocessing import MinMaxScaler\n",
    "import pickle\n",
    "import lightgbm as lgb\n",
    "from xgboost.sklearn import XGBRegressor\n",
    "from sklearn.model_selection import GridSearchCV, TimeSeriesSplit , RandomizedSearchCV\n",
    "from xgboost import plot_importance\n",
    "from matplotlib import pyplot\n",
    "from sklearn.metrics import mean_squared_error, r2_score, mean_absolute_percentage_error, mean_absolute_error,roc_curve,roc_auc_score\n",
    "import lightgbm as lgb_tuner\n",
    "from sklearn.linear_model import Lasso\n",
    "from sklearn.linear_model import Ridge\n",
    "from sklearn.tree import DecisionTreeRegressor\n",
    "from sklearn.ensemble import RandomForestRegressor\n",
    "from prettytable import PrettyTable\n",
    "from sklearn.ensemble import StackingRegressor\n",
    "from sklearn.model_selection import StratifiedKFold\n",
    "import warnings\n",
    "warnings.filterwarnings('ignore')"
   ]
  },
  {
   "cell_type": "code",
   "execution_count": 2,
   "id": "0596d02e",
   "metadata": {},
   "outputs": [],
   "source": [
    "df_train = pd.read_csv(\"sales_train.csv\") \n",
    "df_items = pd.read_csv(\"items.csv\")\n",
    "df_item_cat = pd.read_csv(\"item_categories.csv\")\n",
    "df_shops = pd.read_csv(\"shops.csv\")\n",
    "df_test = pd.read_csv(\"test.csv\")"
   ]
  },
  {
   "cell_type": "code",
   "execution_count": 3,
   "id": "d650a34c",
   "metadata": {},
   "outputs": [
    {
     "data": {
      "text/plain": [
       "(2935849, 6)"
      ]
     },
     "execution_count": 3,
     "metadata": {},
     "output_type": "execute_result"
    }
   ],
   "source": [
    "df_train.shape "
   ]
  },
  {
   "cell_type": "code",
   "execution_count": 11,
   "id": "18ec40c0",
   "metadata": {},
   "outputs": [
    {
     "data": {
      "text/html": [
       "<div>\n",
       "<style scoped>\n",
       "    .dataframe tbody tr th:only-of-type {\n",
       "        vertical-align: middle;\n",
       "    }\n",
       "\n",
       "    .dataframe tbody tr th {\n",
       "        vertical-align: top;\n",
       "    }\n",
       "\n",
       "    .dataframe thead th {\n",
       "        text-align: right;\n",
       "    }\n",
       "</style>\n",
       "<table border=\"1\" class=\"dataframe\">\n",
       "  <thead>\n",
       "    <tr style=\"text-align: right;\">\n",
       "      <th></th>\n",
       "      <th>date</th>\n",
       "      <th>date_block_num</th>\n",
       "      <th>shop_id</th>\n",
       "      <th>item_id</th>\n",
       "      <th>item_price</th>\n",
       "      <th>item_cnt_day</th>\n",
       "    </tr>\n",
       "  </thead>\n",
       "  <tbody>\n",
       "    <tr>\n",
       "      <th>0</th>\n",
       "      <td>02.01.2022</td>\n",
       "      <td>0</td>\n",
       "      <td>59</td>\n",
       "      <td>22154</td>\n",
       "      <td>999.00</td>\n",
       "      <td>1.0</td>\n",
       "    </tr>\n",
       "    <tr>\n",
       "      <th>1</th>\n",
       "      <td>03.01.2022</td>\n",
       "      <td>0</td>\n",
       "      <td>25</td>\n",
       "      <td>2552</td>\n",
       "      <td>899.00</td>\n",
       "      <td>1.0</td>\n",
       "    </tr>\n",
       "    <tr>\n",
       "      <th>2</th>\n",
       "      <td>05.01.2022</td>\n",
       "      <td>0</td>\n",
       "      <td>25</td>\n",
       "      <td>2552</td>\n",
       "      <td>899.00</td>\n",
       "      <td>-1.0</td>\n",
       "    </tr>\n",
       "    <tr>\n",
       "      <th>3</th>\n",
       "      <td>06.01.2022</td>\n",
       "      <td>0</td>\n",
       "      <td>25</td>\n",
       "      <td>2554</td>\n",
       "      <td>1709.05</td>\n",
       "      <td>1.0</td>\n",
       "    </tr>\n",
       "    <tr>\n",
       "      <th>4</th>\n",
       "      <td>15.01.2022</td>\n",
       "      <td>0</td>\n",
       "      <td>25</td>\n",
       "      <td>2555</td>\n",
       "      <td>1099.00</td>\n",
       "      <td>1.0</td>\n",
       "    </tr>\n",
       "  </tbody>\n",
       "</table>\n",
       "</div>"
      ],
      "text/plain": [
       "         date  date_block_num  shop_id  item_id  item_price  item_cnt_day\n",
       "0  02.01.2022               0       59    22154      999.00           1.0\n",
       "1  03.01.2022               0       25     2552      899.00           1.0\n",
       "2  05.01.2022               0       25     2552      899.00          -1.0\n",
       "3  06.01.2022               0       25     2554     1709.05           1.0\n",
       "4  15.01.2022               0       25     2555     1099.00           1.0"
      ]
     },
     "execution_count": 11,
     "metadata": {},
     "output_type": "execute_result"
    }
   ],
   "source": [
    "df_train.head()"
   ]
  },
  {
   "cell_type": "code",
   "execution_count": 5,
   "id": "aa258bec",
   "metadata": {},
   "outputs": [
    {
     "name": "stdout",
     "output_type": "stream",
     "text": [
      "<class 'pandas.core.frame.DataFrame'>\n",
      "RangeIndex: 2935849 entries, 0 to 2935848\n",
      "Data columns (total 6 columns):\n",
      " #   Column          Dtype  \n",
      "---  ------          -----  \n",
      " 0   date            object \n",
      " 1   date_block_num  int64  \n",
      " 2   shop_id         int64  \n",
      " 3   item_id         int64  \n",
      " 4   item_price      float64\n",
      " 5   item_cnt_day    float64\n",
      "dtypes: float64(2), int64(3), object(1)\n",
      "memory usage: 134.4+ MB\n"
     ]
    }
   ],
   "source": [
    "df_train.info() "
   ]
  },
  {
   "cell_type": "code",
   "execution_count": 6,
   "id": "0a69f190",
   "metadata": {},
   "outputs": [
    {
     "data": {
      "text/html": [
       "<div>\n",
       "<style scoped>\n",
       "    .dataframe tbody tr th:only-of-type {\n",
       "        vertical-align: middle;\n",
       "    }\n",
       "\n",
       "    .dataframe tbody tr th {\n",
       "        vertical-align: top;\n",
       "    }\n",
       "\n",
       "    .dataframe thead th {\n",
       "        text-align: right;\n",
       "    }\n",
       "</style>\n",
       "<table border=\"1\" class=\"dataframe\">\n",
       "  <thead>\n",
       "    <tr style=\"text-align: right;\">\n",
       "      <th></th>\n",
       "      <th>date_block_num</th>\n",
       "      <th>shop_id</th>\n",
       "      <th>item_id</th>\n",
       "      <th>item_price</th>\n",
       "      <th>item_cnt_day</th>\n",
       "    </tr>\n",
       "  </thead>\n",
       "  <tbody>\n",
       "    <tr>\n",
       "      <th>count</th>\n",
       "      <td>2.935849e+06</td>\n",
       "      <td>2.935849e+06</td>\n",
       "      <td>2.935849e+06</td>\n",
       "      <td>2.935849e+06</td>\n",
       "      <td>2.935849e+06</td>\n",
       "    </tr>\n",
       "    <tr>\n",
       "      <th>mean</th>\n",
       "      <td>1.456991e+01</td>\n",
       "      <td>3.300173e+01</td>\n",
       "      <td>1.019723e+04</td>\n",
       "      <td>8.908532e+02</td>\n",
       "      <td>1.242641e+00</td>\n",
       "    </tr>\n",
       "    <tr>\n",
       "      <th>std</th>\n",
       "      <td>9.422988e+00</td>\n",
       "      <td>1.622697e+01</td>\n",
       "      <td>6.324297e+03</td>\n",
       "      <td>1.729800e+03</td>\n",
       "      <td>2.618834e+00</td>\n",
       "    </tr>\n",
       "    <tr>\n",
       "      <th>min</th>\n",
       "      <td>0.000000e+00</td>\n",
       "      <td>0.000000e+00</td>\n",
       "      <td>0.000000e+00</td>\n",
       "      <td>-1.000000e+00</td>\n",
       "      <td>-2.200000e+01</td>\n",
       "    </tr>\n",
       "    <tr>\n",
       "      <th>25%</th>\n",
       "      <td>7.000000e+00</td>\n",
       "      <td>2.200000e+01</td>\n",
       "      <td>4.476000e+03</td>\n",
       "      <td>2.490000e+02</td>\n",
       "      <td>1.000000e+00</td>\n",
       "    </tr>\n",
       "    <tr>\n",
       "      <th>50%</th>\n",
       "      <td>1.400000e+01</td>\n",
       "      <td>3.100000e+01</td>\n",
       "      <td>9.343000e+03</td>\n",
       "      <td>3.990000e+02</td>\n",
       "      <td>1.000000e+00</td>\n",
       "    </tr>\n",
       "    <tr>\n",
       "      <th>75%</th>\n",
       "      <td>2.300000e+01</td>\n",
       "      <td>4.700000e+01</td>\n",
       "      <td>1.568400e+04</td>\n",
       "      <td>9.990000e+02</td>\n",
       "      <td>1.000000e+00</td>\n",
       "    </tr>\n",
       "    <tr>\n",
       "      <th>max</th>\n",
       "      <td>3.300000e+01</td>\n",
       "      <td>5.900000e+01</td>\n",
       "      <td>2.216900e+04</td>\n",
       "      <td>3.079800e+05</td>\n",
       "      <td>2.169000e+03</td>\n",
       "    </tr>\n",
       "  </tbody>\n",
       "</table>\n",
       "</div>"
      ],
      "text/plain": [
       "       date_block_num       shop_id       item_id    item_price  item_cnt_day\n",
       "count    2.935849e+06  2.935849e+06  2.935849e+06  2.935849e+06  2.935849e+06\n",
       "mean     1.456991e+01  3.300173e+01  1.019723e+04  8.908532e+02  1.242641e+00\n",
       "std      9.422988e+00  1.622697e+01  6.324297e+03  1.729800e+03  2.618834e+00\n",
       "min      0.000000e+00  0.000000e+00  0.000000e+00 -1.000000e+00 -2.200000e+01\n",
       "25%      7.000000e+00  2.200000e+01  4.476000e+03  2.490000e+02  1.000000e+00\n",
       "50%      1.400000e+01  3.100000e+01  9.343000e+03  3.990000e+02  1.000000e+00\n",
       "75%      2.300000e+01  4.700000e+01  1.568400e+04  9.990000e+02  1.000000e+00\n",
       "max      3.300000e+01  5.900000e+01  2.216900e+04  3.079800e+05  2.169000e+03"
      ]
     },
     "execution_count": 6,
     "metadata": {},
     "output_type": "execute_result"
    }
   ],
   "source": [
    "df_train.describe()"
   ]
  },
  {
   "cell_type": "code",
   "execution_count": 7,
   "id": "d2a60630",
   "metadata": {},
   "outputs": [
    {
     "data": {
      "text/plain": [
       "date              0\n",
       "date_block_num    0\n",
       "shop_id           0\n",
       "item_id           0\n",
       "item_price        0\n",
       "item_cnt_day      0\n",
       "dtype: int64"
      ]
     },
     "execution_count": 7,
     "metadata": {},
     "output_type": "execute_result"
    }
   ],
   "source": [
    "df_train.isnull().sum()"
   ]
  },
  {
   "cell_type": "code",
   "execution_count": 70,
   "id": "e1bbc411",
   "metadata": {},
   "outputs": [
    {
     "name": "stdout",
     "output_type": "stream",
     "text": [
      "Количество дубликатов 6\n"
     ]
    }
   ],
   "source": [
    "print(\"Количество дубликатов\" ,len(df_train[df_train.duplicated()]))"
   ]
  },
  {
   "cell_type": "code",
   "execution_count": 17,
   "id": "0fc589ab",
   "metadata": {},
   "outputs": [
    {
     "name": "stdout",
     "output_type": "stream",
     "text": [
      "Записи даты с 2020-01-01 по 2022-10-30\n"
     ]
    }
   ],
   "source": [
    "print(\"Записи даты с {} по {}\".format(df_train.date.min().date(),df_train.date.max().date()))"
   ]
  },
  {
   "cell_type": "code",
   "execution_count": 74,
   "id": "ff56a9ee",
   "metadata": {},
   "outputs": [
    {
     "name": "stdout",
     "output_type": "stream",
     "text": [
      "id магазинов в train data: 60  Из: 60\n",
      "id товаров в train data: 21807  Из: 22170\n",
      "id категорий товаров в train data: 84  Из: 84\n"
     ]
    }
   ],
   "source": [
    "df_train_2 = df_train.merge(df_items, on='item_id', how='left' )\n",
    "print(\"id магазинов в train data:\", len(df_train.shop_id.unique()), \" Из:\", len(df_shops.shop_id.unique()))\n",
    "print(\"id товаров в train data:\", len(df_train.item_id.unique()), \" Из:\", len(df_items.item_id.unique()))\n",
    "print(\"id категорий товаров в train data:\", len(df_train_2.item_category_id.unique()), \" Из:\", len(df_items.item_category_id.unique()))"
   ]
  },
  {
   "cell_type": "code",
   "execution_count": 75,
   "id": "f23748b6",
   "metadata": {},
   "outputs": [
    {
     "name": "stdout",
     "output_type": "stream",
     "text": [
      "id магазинов в test data: 42  Из: 60\n",
      "id товаров в test data: 5100  Из: 22170\n",
      "id категорий товаров в test data: 62  Из: 84\n"
     ]
    }
   ],
   "source": [
    "df_test_2 = df_test.merge(df_items, on='item_id', how='left' )\n",
    "print(\"id магазинов в test data:\", len(df_test.shop_id.unique()), \" Из:\", len(df_shops.shop_id.unique()))\n",
    "print(\"id товаров в test data:\", len(df_test.item_id.unique()), \" Из:\", len(df_items.item_id.unique()))\n",
    "print(\"id категорий товаров в test data:\", len(df_test_2.item_category_id.unique()), \" Из:\", len(df_items.item_category_id.unique()))"
   ]
  },
  {
   "cell_type": "code",
   "execution_count": 76,
   "id": "3a32f2fc",
   "metadata": {},
   "outputs": [
    {
     "name": "stdout",
     "output_type": "stream",
     "text": [
      "90-й процентиль количества элементов: 2.0\n",
      "91-й процентиль количества элементов: 2.0\n",
      "92-й процентиль количества элементов: 2.0\n",
      "93-й процентиль количества элементов: 2.0\n",
      "94-й процентиль количества элементов: 2.0\n",
      "95-й процентиль количества элементов: 2.0\n",
      "96-й процентиль количества элементов: 2.0\n",
      "97-й процентиль количества элементов: 3.0\n",
      "98-й процентиль количества элементов: 3.0\n",
      "99-й процентиль количества элементов: 5.0\n",
      "100-й процентиль количества элементов: 2169.0\n"
     ]
    },
    {
     "data": {
      "image/png": "[encoded data removed]",
      "text/plain": [
       "<Figure size 720x288 with 1 Axes>"
      ]
     },
     "metadata": {
      "needs_background": "light"
     },
     "output_type": "display_data"
    }
   ],
   "source": [
    "plt.figure(figsize=(10,4))\n",
    "sns.boxplot(x=df_train.item_cnt_day)\n",
    "for i in range(90,101):\n",
    "  print(\"{}-й процентиль количества элементов: {}\".format(i,np.percentile(df_train.item_cnt_day.values,i)))\n",
    "outlier_item_cnt = np.percentile(df_train.item_cnt_day.values,100) \n",
    "#99% записей содержат менее 5 элементов Только 1% записей содержит более 5 элементов."
   ]
  },
  {
   "cell_type": "code",
   "execution_count": 77,
   "id": "a3310cef",
   "metadata": {},
   "outputs": [
    {
     "name": "stdout",
     "output_type": "stream",
     "text": [
      "90-й процентиль стоимости товара: 1999.0\n",
      "91-й процентиль стоимости товара: 2090.0\n",
      "92-й процентиль стоимости товара: 2299.0\n",
      "93-й процентиль стоимости товара: 2499.0\n",
      "94-й процентиль стоимости товара: 2599.0\n",
      "95-й процентиль стоимости товара: 2690.0\n",
      "96-й процентиль стоимости товара: 2999.0\n",
      "97-й процентиль стоимости товара: 3190.0\n",
      "98-й процентиль стоимости товара: 3590.0\n",
      "99-й процентиль стоимости товара: 5999.0\n",
      "100-й процентиль стоимости товара: 307980.0\n"
     ]
    },
    {
     "data": {
      "image/png": "[encoded data removed]",
      "text/plain": [
       "<Figure size 720x288 with 1 Axes>"
      ]
     },
     "metadata": {
      "needs_background": "light"
     },
     "output_type": "display_data"
    }
   ],
   "source": [
    "plt.figure(figsize=(10,4))\n",
    "sns.boxplot(x=df_train.item_price)\n",
    "for i in range(90,101):\n",
    "  print(\"{}-й процентиль стоимости товара: {}\".format(i,np.percentile(df_train.item_price.values,i)))\n",
    "outlier_item_price = np.percentile(df_train.item_price.values,100) \n",
    "#99% записей имеют цену 5999 или меньше. 1% записей имеет цену более 5999."
   ]
  },
  {
   "cell_type": "code",
   "execution_count": 78,
   "id": "634b639d",
   "metadata": {},
   "outputs": [
    {
     "data": {
      "image/png": "[encoded data removed]",
      "text/plain": [
       "<Figure size 1440x288 with 1 Axes>"
      ]
     },
     "metadata": {
      "needs_background": "light"
     },
     "output_type": "display_data"
    }
   ],
   "source": [
    "df_train_3 = df_train.groupby(['shop_id'], as_index=False)['item_cnt_day'].sum()\n",
    "plt.figure(figsize=(20,4))\n",
    "sns.barplot(x=\"shop_id\",y=\"item_cnt_day\", data=df_train_3)\n",
    "plt.show()\n",
    "#Продажа магазина"
   ]
  },
  {
   "cell_type": "code",
   "execution_count": 79,
   "id": "c1b3cc8c",
   "metadata": {},
   "outputs": [
    {
     "data": {
      "image/png": "[encoded data removed]",
      "text/plain": [
       "<Figure size 1656x288 with 1 Axes>"
      ]
     },
     "metadata": {
      "needs_background": "light"
     },
     "output_type": "display_data"
    }
   ],
   "source": [
    "df_train_3 = df_train_2.groupby(['item_category_id'], as_index=False)['item_cnt_day'].sum()\n",
    "plt.figure(figsize=(23,4))\n",
    "sns.barplot(x=\"item_category_id\",y=\"item_cnt_day\", data = df_train_3)\n",
    "plt.show()\n",
    "#продажа категорий товара  "
   ]
  },
  {
   "cell_type": "code",
   "execution_count": 80,
   "id": "fc5a5602",
   "metadata": {},
   "outputs": [
    {
     "data": {
      "image/png": "[encoded data removed]",
      "text/plain": [
       "<Figure size 1080x216 with 1 Axes>"
      ]
     },
     "metadata": {
      "needs_background": "light"
     },
     "output_type": "display_data"
    }
   ],
   "source": [
    "#продажи по датам\n",
    "df_train_3 = df_train.groupby(['date_block_num'], as_index=False)['item_cnt_day'].sum()\n",
    "plt.figure(figsize=(15,3))\n",
    "sns.barplot(x=\"date_block_num\",y=\"item_cnt_day\", data = df_train_3)\n",
    "plt.show()"
   ]
  },
  {
   "cell_type": "code",
   "execution_count": 81,
   "id": "15f6ca8b",
   "metadata": {},
   "outputs": [],
   "source": [
    "test_shop = df_test['shop_id'].unique()\n",
    "test_item = df_test['item_id'].unique()\n",
    "# Только id магазинов из test data\n",
    "_train = df_train[df_train['shop_id'].isin(test_shop)]\n",
    "# Только id товаров из test data\n",
    "_train = _train[_train['item_id'].isin(test_item)]"
   ]
  },
  {
   "cell_type": "code",
   "execution_count": 82,
   "id": "71f60e11",
   "metadata": {},
   "outputs": [
    {
     "name": "stdout",
     "output_type": "stream",
     "text": [
      "размер после исключения нежелательных id магазинов и товаров (1224439, 6)\n"
     ]
    }
   ],
   "source": [
    "print(\"размер после исключения нежелательных id магазинов и товаров\",_train.shape)"
   ]
  },
  {
   "cell_type": "code",
   "execution_count": 84,
   "id": "9c3bceef",
   "metadata": {},
   "outputs": [
    {
     "name": "stdout",
     "output_type": "stream",
     "text": [
      "90-й процентиль количества элементов: 2.0\n",
      "91-й процентиль количества элементов: 2.0\n",
      "92-й процентиль количества элементов: 2.0\n",
      "93-й процентиль количества элементов: 2.0\n",
      "94-й процентиль количества элементов: 2.0\n",
      "95-й процентиль количества элементов: 2.0\n",
      "96-й процентиль количества элементов: 3.0\n",
      "97-й процентиль количества элементов: 3.0\n",
      "98-й процентиль количества элементов: 4.0\n",
      "99-й процентиль количества элементов: 7.0\n",
      "100-й процентиль количества элементов: 2169.0\n"
     ]
    },
    {
     "data": {
      "image/png": "[encoded data removed]",
      "text/plain": [
       "<Figure size 720x288 with 1 Axes>"
      ]
     },
     "metadata": {
      "needs_background": "light"
     },
     "output_type": "display_data"
    }
   ],
   "source": [
    "plt.figure(figsize=(10,4))\n",
    "sns.boxplot(x=_train.item_cnt_day)\n",
    "for i in range(90,101):\n",
    "  print(\"{}-й процентиль количества элементов: {}\".format(i,np.percentile(_train.item_cnt_day.values,i)))\n",
    "outlier_item_cnt = np.percentile(_train.item_cnt_day.values,100) \n",
    "#99% данных имеет 7 или менее продаж"
   ]
  },
  {
   "cell_type": "code",
   "execution_count": 85,
   "id": "f7b42518",
   "metadata": {},
   "outputs": [
    {
     "name": "stdout",
     "output_type": "stream",
     "text": [
      "90-й процентиль стоимости товара: 2499.0\n",
      "91-й процентиль стоимости товара: 2599.0\n",
      "92-й процентиль стоимости товара: 2599.0\n",
      "93-й процентиль стоимости товара: 2599.0\n",
      "94-й процентиль стоимости товара: 2799.0\n",
      "95-й процентиль стоимости товара: 2999.0\n",
      "96-й процентиль стоимости товара: 3190.0\n",
      "97-й процентиль стоимости товара: 3490.0\n",
      "98-й процентиль стоимости товара: 3790.0\n",
      "99-й процентиль стоимости товара: 4990.0\n",
      "100-й процентиль стоимости товара: 59200.0\n"
     ]
    },
    {
     "data": {
      "image/png": "[encoded data removed]",
      "text/plain": [
       "<Figure size 720x288 with 1 Axes>"
      ]
     },
     "metadata": {
      "needs_background": "light"
     },
     "output_type": "display_data"
    }
   ],
   "source": [
    "plt.figure(figsize=(10,4))\n",
    "sns.boxplot(x=_train.item_price)\n",
    "for i in range(90,101):\n",
    "  print(\"{}-й процентиль стоимости товара: {}\".format(i,np.percentile(_train.item_price.values,i)))\n",
    "outlier_item_price = np.percentile(_train.item_price.values,100) \n",
    "#99% данных имеет цену товара 4990 или меньше."
   ]
  },
  {
   "cell_type": "code",
   "execution_count": 86,
   "id": "33c89d9d",
   "metadata": {},
   "outputs": [
    {
     "data": {
      "image/png": "[encoded data removed]",
      "text/plain": [
       "<Figure size 1440x288 with 1 Axes>"
      ]
     },
     "metadata": {
      "needs_background": "light"
     },
     "output_type": "display_data"
    }
   ],
   "source": [
    "#продажи магазинов\n",
    "df_train_3 = _train.groupby(['shop_id'], as_index=False)['item_cnt_day'].sum()\n",
    "plt.figure(figsize=(20,4))\n",
    "sns.barplot(x=\"shop_id\",y=\"item_cnt_day\", data=df_train_3)\n",
    "plt.show()"
   ]
  },
  {
   "cell_type": "code",
   "execution_count": 88,
   "id": "32bfb07e",
   "metadata": {},
   "outputs": [
    {
     "data": {
      "image/png": "[encoded data removed]",
      "text/plain": [
       "<Figure size 1656x288 with 1 Axes>"
      ]
     },
     "metadata": {
      "needs_background": "light"
     },
     "output_type": "display_data"
    }
   ],
   "source": [
    "# продажи по категориям товаров\n",
    "_train_2 = _train.merge(df_items, on='item_id', how='left' )\n",
    "df_train_3 = _train_2.groupby(['item_category_id'], as_index=False)['item_cnt_day'].sum()\n",
    "plt.figure(figsize=(23,4))\n",
    "sns.barplot(x=\"item_category_id\",y=\"item_cnt_day\", data = df_train_3)\n",
    "plt.show()"
   ]
  },
  {
   "cell_type": "code",
   "execution_count": 89,
   "id": "8e0e9a88",
   "metadata": {},
   "outputs": [
    {
     "data": {
      "image/png": "[encoded data removed]",
      "text/plain": [
       "<Figure size 1080x216 with 1 Axes>"
      ]
     },
     "metadata": {
      "needs_background": "light"
     },
     "output_type": "display_data"
    }
   ],
   "source": [
    "# продажи по датам (месяцам)\n",
    "df_train_3 = _train.groupby(['date_block_num'], as_index=False)['item_cnt_day'].sum()\n",
    "plt.figure(figsize=(15,3))\n",
    "sns.barplot(x=\"date_block_num\",y=\"item_cnt_day\", data = df_train_3)\n",
    "plt.show()"
   ]
  },
  {
   "cell_type": "code",
   "execution_count": 90,
   "id": "8ed8b840",
   "metadata": {},
   "outputs": [],
   "source": [
    "# объединяем данные\n",
    "train = df_train.join(df_items, on='item_id', rsuffix='_').drop(['item_id_','item_name'], axis=1)\n",
    "# удаляем выбросы\n",
    "train = train[(train.item_price < 50000 )& (train.item_cnt_day < 1000)]\n",
    "# удаляем отрицательную цену товара и день подсчета товара\n",
    "train = train[(train.item_price > 0) & (train.item_cnt_day >= 0)].reset_index(drop = True)\n",
    "\n",
    "# Очищяем данные по магазинам\n",
    "# У нас есть разные id для магазинов с одинаковыми названиями, таких как 0-57, 1-58, 11,10, 40-39.\n",
    "# У нас нет 0,1,11 и 40 shop_id в тестовых данных, поэтому мы заменяем их на shop_id с похожими именами.\n",
    "train.loc[train.shop_id == 0, 'shop_id'] = 57\n",
    "\n",
    "train.loc[train.shop_id == 1, 'shop_id'] = 58\n",
    "\n",
    "train.loc[train.shop_id == 11, 'shop_id'] = 10\n",
    "\n",
    "train.loc[train.shop_id == 40, 'shop_id'] = 39"
   ]
  },
  {
   "cell_type": "code",
   "execution_count": 91,
   "id": "adbc835f",
   "metadata": {},
   "outputs": [],
   "source": [
    "# Называем столбцы\n",
    "train_monthly = train[['date', 'date_block_num', 'shop_id', 'item_category_id', 'item_id', 'item_price', 'item_cnt_day']]\n",
    "train_monthly['revenue'] = train_monthly['item_price'] * train_monthly['item_cnt_day']\n",
    "\n",
    "# Группируем по месяцам, в данном случае «date_block_num», и применяем функцию агрегации\n",
    "train_monthly = train_monthly.sort_values('date').groupby(['date_block_num', 'shop_id', 'item_category_id', 'item_id'], as_index=False)\n",
    "train_monthly = train_monthly.agg({ 'item_cnt_day':['sum', 'mean'],'item_price':['mean'], 'revenue':['sum']})\n",
    "\n",
    "# Переименовываем столбцы\n",
    "train_monthly.columns = ['date_block_num', 'shop_id', 'item_category_id', 'item_id', 'item_cnt_month', 'mean_item_cnt', 'mean_item_price', 'revenue_month']\n"
   ]
  },
  {
   "cell_type": "code",
   "execution_count": 92,
   "id": "c3942e23",
   "metadata": {},
   "outputs": [
    {
     "data": {
      "application/vnd.jupyter.widget-view+json": {
       "model_id": "458a9034098e405bbeb2716dfc594bb4",
       "version_major": 2,
       "version_minor": 0
      },
      "text/plain": [
       "  0%|          | 0/34 [00:00<?, ?it/s]"
      ]
     },
     "metadata": {},
     "output_type": "display_data"
    }
   ],
   "source": [
    "test=df_test\n",
    "# Создаем dataset со всеми возможными комбинациями ['date_block_num','shop_id','item_id'], чтобы у нас не было пропущенных записей\n",
    "shop_ids = test['shop_id'].unique()\n",
    "item_ids = test['item_id'].unique()\n",
    "all_posible = []\n",
    "for i in tqdm(range(34)):\n",
    "    for shop in shop_ids:\n",
    "        for item in item_ids:\n",
    "            all_posible.append([i, shop, item])\n",
    "    \n",
    "empty_df = pd.DataFrame(all_posible, columns=['date_block_num','shop_id','item_id'])\n",
    "\n",
    "# Создаем test dataset для месяца 34\n",
    "test[\"date_block_num\"] = 34\n",
    "test[\"date_block_num\"] = test[\"date_block_num\"].astype(np.int8)\n",
    "test[\"shop_id\"] = test.shop_id.astype(np.int8)\n",
    "test[\"item_id\"] = test.item_id.astype(np.int16)\n",
    "\n",
    "# Объединяем empty_df и test dataset\n",
    "empty_df = pd.concat([empty_df, test.drop([\"ID\"],axis = 1)], ignore_index=True, sort=False, keys=[\"date_block_num\", \"shop_id\", \"item_id\"])\n",
    "empty_df.fillna( 0, inplace = True )"
   ]
  },
  {
   "cell_type": "code",
   "execution_count": 93,
   "id": "c1f80c14",
   "metadata": {},
   "outputs": [],
   "source": [
    "# Эта функция перебирает все столбцы dataset и изменяет тип данных, чтобы уменьшить использование памяти. \n",
    "def reduce_mem_usage(df):\n",
    "    start_mem = df.memory_usage().sum() / 1024**2\n",
    "    print('Количетсво памяти для dataset - {:.2f} MB'.format(start_mem))\n",
    "    \n",
    "    for col in df.columns:\n",
    "        col_type = df[col].dtype\n",
    "        \n",
    "        if col_type != object:\n",
    "            c_min = df[col].min()\n",
    "            c_max = df[col].max()\n",
    "            if str(col_type)[:3] == 'int':\n",
    "                if c_min > np.iinfo(np.int8).min and c_max < np.iinfo(np.int8).max:\n",
    "                    df[col] = df[col].astype(np.int8)\n",
    "                elif c_min > np.iinfo(np.int16).min and c_max < np.iinfo(np.int16).max:\n",
    "                    df[col] = df[col].astype(np.int16)\n",
    "                elif c_min > np.iinfo(np.int32).min and c_max < np.iinfo(np.int32).max:\n",
    "                    df[col] = df[col].astype(np.int32)\n",
    "                elif c_min > np.iinfo(np.int64).min and c_max < np.iinfo(np.int64).max:\n",
    "                    df[col] = df[col].astype(np.int64)  \n",
    "            else:\n",
    "                if c_min > np.finfo(np.float16).min and c_max < np.finfo(np.float16).max:\n",
    "                    df[col] = df[col].astype(np.float16)\n",
    "                elif c_min > np.finfo(np.float32).min and c_max < np.finfo(np.float32).max:\n",
    "                    df[col] = df[col].astype(np.float32)\n",
    "                else:\n",
    "                    df[col] = df[col].astype(np.float64)\n",
    "        else:\n",
    "            df[col] = df[col].astype('category')\n",
    "\n",
    "    end_mem = df.memory_usage().sum() / 1024**2\n",
    "    print('Количество памяти после оптимизации {:.2f} MB'.format(end_mem))\n",
    "    print('Уменьшено на {:.1f}%'.format(100 * (start_mem - end_mem) / start_mem))\n",
    "    \n",
    "    return df\n",
    "\n",
    "# Функция создает dataset и оптимизирует количетво памяти для его хранения\n",
    "def import_data(file):\n",
    "    df = pd.read_csv(file, parse_dates=True, keep_date_col=True)\n",
    "    df = reduce_mem_usage(df)\n",
    "    return df"
   ]
  },
  {
   "cell_type": "code",
   "execution_count": 94,
   "id": "66bcf8fa",
   "metadata": {},
   "outputs": [
    {
     "name": "stdout",
     "output_type": "stream",
     "text": [
      "Количетсво памяти для dataset - 743.57 MB\n",
      "Количество памяти после оптимизации 214.49 MB\n",
      "Уменьшено на 71.2%\n"
     ]
    }
   ],
   "source": [
    "items=df_items\n",
    "# Объединяем train dataset с общим dataset и заполняем пустые строчки 0\n",
    "train_monthly = pd.merge(empty_df, train_monthly, on=['date_block_num','shop_id','item_id'], how='left')\n",
    "train_monthly.fillna(0, inplace=True)\n",
    "\n",
    "# Добавляем id товара для 34 месяца в test dataset\n",
    "train_monthly = train_monthly.drop(['item_category_id'], axis=1).join(items, on='item_id', rsuffix='_').drop(['item_id_','item_name'], axis=1)\n",
    "\n",
    "# Расположение столбцов\n",
    "train_monthly = train_monthly[['date_block_num', 'shop_id', 'item_category_id', 'item_id', 'revenue_month', 'item_cnt_month', 'mean_item_cnt','mean_item_price']]\n",
    "\n",
    "train_monthly['item_cnt_month'] = train_monthly['item_cnt_month'].fillna(0).clip(0, 20)\n",
    "\n",
    "# Извлечение функций, основанных на времени (месяце)\n",
    "train_monthly['month'] = train_monthly['date_block_num'].apply(lambda x: (x % 12))\n",
    "\n",
    "# добавляем date_block_shop_mean\n",
    "date_block_shop_mean = train_monthly.groupby(['date_block_num', 'shop_id']).agg({'item_cnt_month': ['mean']})\n",
    "date_block_shop_mean.columns = ['date_block_shop_mean']\n",
    "date_block_shop_mean.reset_index(inplace=True)\n",
    "train_monthly = pd.merge(train_monthly, date_block_shop_mean, on=['date_block_num', 'shop_id'], how='left')\n",
    "\n",
    "# добавляем date_block_item_mean\n",
    "date_block_item_mean = train_monthly.groupby(['date_block_num', 'item_id']).agg({'item_cnt_month': ['mean']})\n",
    "date_block_item_mean.columns = ['date_block_item_mean']\n",
    "date_block_item_mean.reset_index(inplace=True)\n",
    "train_monthly = pd.merge(train_monthly, date_block_item_mean, on=['date_block_num', 'item_id'], how='left')\n",
    "\n",
    "# добавляем date_category_mean\n",
    "date_category_mean = train_monthly.groupby(['date_block_num', 'item_category_id']).agg({'item_cnt_month': ['mean']})\n",
    "date_category_mean.columns = ['date_cat_mean']\n",
    "date_category_mean.reset_index(inplace=True)\n",
    "train_monthly = pd.merge(train_monthly, date_category_mean, on=['date_block_num', 'item_category_id'], how='left')\n",
    "\n",
    "train_monthly.fillna(0, inplace=True)\n",
    "train_monthly = reduce_mem_usage(train_monthly)"
   ]
  },
  {
   "cell_type": "code",
   "execution_count": 95,
   "id": "9786c002",
   "metadata": {},
   "outputs": [],
   "source": [
    "# функция для вычисления признаков задержки\n",
    "def lag_feature( df,lags, cols ):\n",
    "    for col in cols:\n",
    "        tmp = df[[\"date_block_num\", \"shop_id\",\"item_id\",col ]]\n",
    "        print(col)\n",
    "        for i in tqdm(range(1,lags+1)):\n",
    "            shifted = tmp.copy()\n",
    "            shifted.columns = [\"date_block_num\", \"shop_id\", \"item_id\", col + \"_lag_\"+str(i)]\n",
    "            shifted.date_block_num = shifted.date_block_num + i\n",
    "            df = pd.merge(df, shifted, on=['date_block_num','shop_id','item_id'], how='left')\n",
    "    return df"
   ]
  },
  {
   "cell_type": "code",
   "execution_count": 96,
   "id": "e155cf62",
   "metadata": {
    "scrolled": true
   },
   "outputs": [
    {
     "name": "stdout",
     "output_type": "stream",
     "text": [
      "item_cnt_month\n"
     ]
    },
    {
     "data": {
      "application/vnd.jupyter.widget-view+json": {
       "model_id": "b31d5f80ead34218a2ab132b0dd1d3de",
       "version_major": 2,
       "version_minor": 0
      },
      "text/plain": [
       "  0%|          | 0/3 [00:00<?, ?it/s]"
      ]
     },
     "metadata": {},
     "output_type": "display_data"
    },
    {
     "name": "stdout",
     "output_type": "stream",
     "text": [
      "revenue_month\n"
     ]
    },
    {
     "data": {
      "application/vnd.jupyter.widget-view+json": {
       "model_id": "c9cd330afb9b4ab683b191b10813b7ce",
       "version_major": 2,
       "version_minor": 0
      },
      "text/plain": [
       "  0%|          | 0/3 [00:00<?, ?it/s]"
      ]
     },
     "metadata": {},
     "output_type": "display_data"
    },
    {
     "name": "stdout",
     "output_type": "stream",
     "text": [
      "mean_item_cnt\n"
     ]
    },
    {
     "data": {
      "application/vnd.jupyter.widget-view+json": {
       "model_id": "c4ea522606214976ac2242742b2b5946",
       "version_major": 2,
       "version_minor": 0
      },
      "text/plain": [
       "  0%|          | 0/3 [00:00<?, ?it/s]"
      ]
     },
     "metadata": {},
     "output_type": "display_data"
    },
    {
     "name": "stdout",
     "output_type": "stream",
     "text": [
      "mean_item_price\n"
     ]
    },
    {
     "data": {
      "application/vnd.jupyter.widget-view+json": {
       "model_id": "67a351cdd1e944cfa7b537cac1b848d6",
       "version_major": 2,
       "version_minor": 0
      },
      "text/plain": [
       "  0%|          | 0/3 [00:00<?, ?it/s]"
      ]
     },
     "metadata": {},
     "output_type": "display_data"
    },
    {
     "name": "stdout",
     "output_type": "stream",
     "text": [
      "date_block_shop_mean\n"
     ]
    },
    {
     "data": {
      "application/vnd.jupyter.widget-view+json": {
       "model_id": "201a3e8e36054c01bdbcb174ff6e71e9",
       "version_major": 2,
       "version_minor": 0
      },
      "text/plain": [
       "  0%|          | 0/3 [00:00<?, ?it/s]"
      ]
     },
     "metadata": {},
     "output_type": "display_data"
    },
    {
     "name": "stdout",
     "output_type": "stream",
     "text": [
      "date_block_item_mean\n"
     ]
    },
    {
     "data": {
      "application/vnd.jupyter.widget-view+json": {
       "model_id": "61b52092299e4a099fa8695404f21bc3",
       "version_major": 2,
       "version_minor": 0
      },
      "text/plain": [
       "  0%|          | 0/3 [00:00<?, ?it/s]"
      ]
     },
     "metadata": {},
     "output_type": "display_data"
    },
    {
     "name": "stdout",
     "output_type": "stream",
     "text": [
      "date_cat_mean\n"
     ]
    },
    {
     "data": {
      "application/vnd.jupyter.widget-view+json": {
       "model_id": "31f620ff45c042dab0da44f9d9165b17",
       "version_major": 2,
       "version_minor": 0
      },
      "text/plain": [
       "  0%|          | 0/3 [00:00<?, ?it/s]"
      ]
     },
     "metadata": {},
     "output_type": "display_data"
    },
    {
     "name": "stdout",
     "output_type": "stream",
     "text": [
      "Количетсво памяти для dataset - 557.68 MB\n",
      "Количество памяти после оптимизации 557.68 MB\n",
      "Уменьшено на 0.0%\n"
     ]
    }
   ],
   "source": [
    "# добавляем lag features \n",
    "train_monthly = lag_feature( train_monthly, 3 , ['item_cnt_month','revenue_month','mean_item_cnt','mean_item_price', 'date_block_shop_mean','date_block_item_mean','date_cat_mean'] )\n",
    "\n",
    "# заполняем null значения нулями и оптимизируем память\n",
    "train_monthly = train_monthly.fillna(0)\n",
    "train_monthly = reduce_mem_usage(train_monthly)"
   ]
  },
  {
   "cell_type": "code",
   "execution_count": 97,
   "id": "a40192af",
   "metadata": {},
   "outputs": [],
   "source": [
    "\n",
    "# Добавить четверть среднего количества\n",
    "train_monthly['qmean_item_cnt'] = train_monthly[['item_cnt_month_lag_1', \n",
    "                                    'item_cnt_month_lag_2', \n",
    "                                    'item_cnt_month_lag_3']].mean(skipna=True, axis=1)\n",
    "# добавляем четверть квадратичного отклонения количества \n",
    "train_monthly['qstd_item_cnt'] = train_monthly[['item_cnt_month_lag_1', \n",
    "                                    'item_cnt_month_lag_2', \n",
    "                                    'item_cnt_month_lag_3']].std(skipna=True, axis=1)\n",
    "# добавляем четверть минимум количества\n",
    "train_monthly['qmin_item_cnt'] = train_monthly[['item_cnt_month_lag_1', \n",
    "                                    'item_cnt_month_lag_2', \n",
    "                                    'item_cnt_month_lag_3']].min(skipna=True, axis=1)\n",
    "# Добавляем четверть максимум количества\n",
    "train_monthly['qmax_item_cnt'] = train_monthly[['item_cnt_month_lag_1', \n",
    "                                    'item_cnt_month_lag_2', \n",
    "                                    'item_cnt_month_lag_3']].max(skipna=True, axis=1)"
   ]
  },
  {
   "cell_type": "code",
   "execution_count": 98,
   "id": "fb7ed46c",
   "metadata": {},
   "outputs": [
    {
     "data": {
      "application/vnd.jupyter.widget-view+json": {
       "model_id": "c89f27a4ad454e10a39a3fe360538db8",
       "version_major": 2,
       "version_minor": 0
      },
      "text/plain": [
       "  0%|          | 0/26 [00:00<?, ?it/s]"
      ]
     },
     "metadata": {},
     "output_type": "display_data"
    },
    {
     "name": "stdout",
     "output_type": "stream",
     "text": [
      "Количетсво памяти для dataset - 550.53 MB\n",
      "Количество памяти после оптимизации 464.73 MB\n",
      "Уменьшено на 15.6%\n"
     ]
    }
   ],
   "source": [
    "from sklearn.preprocessing import MinMaxScaler\n",
    "X = train_monthly.drop(['item_cnt_month','mean_item_price','revenue_month','mean_item_cnt', 'date_block_shop_mean','date_block_item_mean','date_cat_mean'], axis=1)\n",
    "y = train_monthly['item_cnt_month']\n",
    "\n",
    "# нормализуем Dataset\n",
    "scaler = MinMaxScaler()\n",
    "for col in tqdm(X.columns[4:]):\n",
    "    X[col] = scaler.fit_transform(X[col].values.reshape(-1,1))\n",
    "\n",
    "# сохраняем окончательно предобработанные данные\n",
    "X = reduce_mem_usage(X)\n",
    "pickle.dump((X,y),open('preprocessed_set2','wb'))"
   ]
  },
  {
   "cell_type": "code",
   "execution_count": 8,
   "id": "254f0fe6",
   "metadata": {},
   "outputs": [],
   "source": [
    "with open('preprocessed_set2','rb') as loc:\n",
    "    X, y = pickle.load(loc)"
   ]
  },
  {
   "cell_type": "code",
   "execution_count": 9,
   "id": "1fe9e5ef",
   "metadata": {},
   "outputs": [],
   "source": [
    "X_train = X[X['date_block_num']<33]\n",
    "X_train = X_train[X['date_block_num']>2]\n",
    "y_train = y[X['date_block_num']<33]\n",
    "y_train = y_train[X['date_block_num']>2]\n",
    "\n",
    "X_val = X[X['date_block_num']==33]\n",
    "y_val = y[X['date_block_num']==33]\n",
    "\n",
    "X_test = X[X['date_block_num']==34]"
   ]
  },
  {
   "cell_type": "code",
   "execution_count": 6,
   "id": "acb83f0c",
   "metadata": {},
   "outputs": [],
   "source": [
    "pickle.dump(X_test,open('data','wb'))"
   ]
  },
  {
   "cell_type": "markdown",
   "id": "73935910",
   "metadata": {},
   "source": [
    "Lasso Regression"
   ]
  },
  {
   "cell_type": "code",
   "execution_count": 100,
   "id": "1e9eab15",
   "metadata": {
    "scrolled": true
   },
   "outputs": [
    {
     "data": {
      "application/vnd.jupyter.widget-view+json": {
       "model_id": "b14a24fffaac420fbb1b248cc6261765",
       "version_major": 2,
       "version_minor": 0
      },
      "text/plain": [
       "  0%|          | 0/8 [00:00<?, ?it/s]"
      ]
     },
     "metadata": {},
     "output_type": "display_data"
    },
    {
     "name": "stdout",
     "output_type": "stream",
     "text": [
      "alpha = 1e-06 \n",
      "model saving.....\n",
      "Training Loss - 0.7768840193748474 \n",
      "Validation Loss - 0.8960034847259521 \n",
      "--------------------------------------------------\n",
      "alpha = 1e-05 \n",
      "Training Loss - 0.7771657109260559 \n",
      "Validation Loss - 0.8962958455085754 \n",
      "--------------------------------------------------\n",
      "alpha = 0.0001 \n",
      "Training Loss - 0.7779375910758972 \n",
      "Validation Loss - 0.8962554931640625 \n",
      "--------------------------------------------------\n",
      "alpha = 0.001 \n",
      "Training Loss - 0.7823495268821716 \n",
      "Validation Loss - 0.9005436897277832 \n",
      "--------------------------------------------------\n",
      "alpha = 0.01 \n",
      "Training Loss - 0.8254987597465515 \n",
      "Validation Loss - 0.9233331084251404 \n",
      "--------------------------------------------------\n",
      "alpha = 0.1 \n",
      "Training Loss - 1.0584886074066162 \n",
      "Validation Loss - 1.0881121158599854 \n",
      "--------------------------------------------------\n",
      "alpha = 1 \n",
      "Training Loss - 1.0613807439804077 \n",
      "Validation Loss - 1.0924110412597656 \n",
      "--------------------------------------------------\n",
      "alpha = 10 \n",
      "Training Loss - 1.061523199081421 \n",
      "Validation Loss - 1.0925512313842773 \n",
      "--------------------------------------------------\n"
     ]
    }
   ],
   "source": [
    "from sklearn.linear_model import Lasso\n",
    "alpha = [10**i for i in range(-6,2)]\n",
    "\n",
    "\n",
    "train_score = []\n",
    "val_score = []\n",
    "lr_best_train_loss=0\n",
    "lr_best_val_loss=0\n",
    "for i in tqdm(alpha):\n",
    "    \n",
    "    print(\"alpha = {} \".format(i))\n",
    "    _model = Lasso(alpha= i)\n",
    "    _model.fit(X_train, y_train)\n",
    "    rmse_train = mean_squared_error(_model.predict(X_train).clip(0,20),y_train, squared=False)\n",
    "    rmse_val = mean_squared_error(_model.predict(X_val).clip(0,20),y_val, squared=False)\n",
    "\n",
    "    if val_score:\n",
    "        if sorted(val_score)[0] > rmse_val:\n",
    "            print(\"Сохранение модели.....\")\n",
    "            pickle.dump(_model, open('lr_model.pkl', 'wb'))\n",
    "            lr_best_train_loss=rmse_train\n",
    "            lr_best_val_loss=rmse_val\n",
    "    else:\n",
    "        print(\"Сохранение модели.....\")\n",
    "        pickle.dump(_model, open('lr_model.pkl', 'wb'))\n",
    "        lr_best_train_loss=rmse_train\n",
    "        lr_best_val_loss=rmse_val\n",
    "\n",
    "    train_score.append(rmse_train)\n",
    "    val_score.append(rmse_val)\n",
    "    print(\"Training Loss - {} \".format(rmse_train))\n",
    "    print(\"Validation Loss - {} \".format(rmse_val))\n",
    "    print(\"-\"*50)\n",
    "    \n",
    "pickle.dump((train_score,val_score,alpha), open('lr_log.pkl', 'wb'))"
   ]
  },
  {
   "cell_type": "code",
   "execution_count": 4,
   "id": "aedac002",
   "metadata": {},
   "outputs": [],
   "source": [
    "best_ridge = pickle.load(open('lr_model.pkl', 'rb'))\n",
    "train_score,val_score,alpha = pickle.load(open('lr_log.pkl', 'rb'))"
   ]
  },
  {
   "cell_type": "code",
   "execution_count": 7,
   "id": "c84e2688",
   "metadata": {},
   "outputs": [
    {
     "data": {
      "image/png": "[encoded data removed]",
      "text/plain": [
       "<Figure size 1080x720 with 1 Axes>"
      ]
     },
     "metadata": {
      "needs_background": "light"
     },
     "output_type": "display_data"
    }
   ],
   "source": [
    "params = [str(i) for i in alpha]\n",
    "fig, ax = plt.subplots(figsize=(15,10))\n",
    "ax.plot(params, val_score,c='g')\n",
    "for i, txt in enumerate(np.round(val_score,3)):\n",
    "    ax.annotate((params[i],np.round(txt,3)), (params[i],val_score[i]))\n",
    "plt.grid()\n",
    "plt.title(\"Cross Validation rmse \")\n",
    "plt.xlabel(\"Alpha\")\n",
    "plt.ylabel(\"Validation Loss\")\n",
    "plt.show()"
   ]
  },
  {
   "cell_type": "markdown",
   "id": "774fceee",
   "metadata": {},
   "source": [
    "Ridge Regression"
   ]
  },
  {
   "cell_type": "code",
   "execution_count": 42,
   "id": "2e758463",
   "metadata": {
    "scrolled": true
   },
   "outputs": [
    {
     "data": {
      "application/vnd.jupyter.widget-view+json": {
       "model_id": "1021660bbfe8498aa7fcddeb4bf7985a",
       "version_major": 2,
       "version_minor": 0
      },
      "text/plain": [
       "  0%|          | 0/12 [00:00<?, ?it/s]"
      ]
     },
     "metadata": {},
     "output_type": "display_data"
    },
    {
     "name": "stdout",
     "output_type": "stream",
     "text": [
      "alpha = 1e-10 \n",
      "model saving.....\n",
      "Training Loss is 0.7773743271827698 \n",
      "Validation Loss is 0.8964605927467346 \n",
      "--------------------------------------------------\n",
      "alpha = 1e-09 \n",
      "Training Loss is 0.7773743271827698 \n",
      "Validation Loss is 0.8964605927467346 \n",
      "--------------------------------------------------\n",
      "alpha = 1e-08 \n",
      "Training Loss is 0.7773743271827698 \n",
      "Validation Loss is 0.8964605927467346 \n",
      "--------------------------------------------------\n",
      "alpha = 1e-07 \n",
      "Training Loss is 0.7773743271827698 \n",
      "Validation Loss is 0.8964605927467346 \n",
      "--------------------------------------------------\n",
      "alpha = 1e-06 \n",
      "Training Loss is 0.7773743271827698 \n",
      "Validation Loss is 0.8964605927467346 \n",
      "--------------------------------------------------\n",
      "alpha = 1e-05 \n",
      "model saving.....\n",
      "Training Loss is 0.777374267578125 \n",
      "Validation Loss is 0.8964605331420898 \n",
      "--------------------------------------------------\n",
      "alpha = 0.0001 \n",
      "Training Loss is 0.7773743271827698 \n",
      "Validation Loss is 0.8964605331420898 \n",
      "--------------------------------------------------\n",
      "alpha = 0.001 \n",
      "model saving.....\n",
      "Training Loss is 0.7773740887641907 \n",
      "Validation Loss is 0.8964601159095764 \n",
      "--------------------------------------------------\n",
      "alpha = 0.01 \n",
      "model saving.....\n",
      "Training Loss is 0.7773716449737549 \n",
      "Validation Loss is 0.8964569568634033 \n",
      "--------------------------------------------------\n",
      "alpha = 0.1 \n",
      "model saving.....\n",
      "Training Loss is 0.7773529291152954 \n",
      "Validation Loss is 0.8964332342147827 \n",
      "--------------------------------------------------\n",
      "alpha = 1 \n",
      "model saving.....\n",
      "Training Loss is 0.77733314037323 \n",
      "Validation Loss is 0.8964130878448486 \n",
      "--------------------------------------------------\n",
      "alpha = 10 \n",
      "Training Loss is 0.7774409651756287 \n",
      "Validation Loss is 0.8964536786079407 \n",
      "--------------------------------------------------\n"
     ]
    }
   ],
   "source": [
    "alpha = [10**i for i in range(-10,2)]\n",
    "\n",
    "\n",
    "train_score = []\n",
    "val_score = []\n",
    "rr_best_val_loss=0\n",
    "rr_best_train_loss=0\n",
    "for i in tqdm(alpha):\n",
    "    \n",
    "    print(\"alpha = {} \".format(i))\n",
    "    _model = Ridge(alpha= i)\n",
    "    _model.fit(X_train, y_train)\n",
    "    rmse_train = mean_squared_error(_model.predict(X_train).clip(0,20),y_train, squared=False)\n",
    "    rmse_val = mean_squared_error(_model.predict(X_val).clip(0,20),y_val, squared=False)\n",
    "    if val_score:\n",
    "        if sorted(val_score)[0] > rmse_val:\n",
    "            print(\"сохранение модели.....\")\n",
    "            pickle.dump(_model, open('rr_model.pkl', 'wb'))\n",
    "            rr_best_train_loss=rmse_train\n",
    "            rr_best_val_loss=rmse_val\n",
    "    else:\n",
    "        print(\"сохранение модели.....\")\n",
    "        pickle.dump(_model, open('rr_model.pkl', 'wb'))\n",
    "        rr_best_train_loss=rmse_train\n",
    "        rr_best_val_loss=rmse_val\n",
    "\n",
    "   \n",
    "\n",
    "    train_score.append(rmse_train)\n",
    "    val_score.append(rmse_val)\n",
    "    print(\"Training Loss {} \".format(rmse_train))\n",
    "    print(\"Validation Loss {} \".format(rmse_val))\n",
    "    print(\"-\"*50)\n",
    "    \n",
    "pickle.dump((train_score,val_score,alpha), open('rr_log.pkl', 'wb'))"
   ]
  },
  {
   "cell_type": "code",
   "execution_count": 8,
   "id": "fa1992ce",
   "metadata": {},
   "outputs": [],
   "source": [
    "best_ridge = pickle.load(open('rr_model.pkl', 'rb'))\n",
    "train_score,val_score,alpha = pickle.load(open('rr_log.pkl', 'rb'))"
   ]
  },
  {
   "cell_type": "code",
   "execution_count": 9,
   "id": "b599300b",
   "metadata": {},
   "outputs": [
    {
     "data": {
      "image/png": "[encoded data removed]",
      "text/plain": [
       "<Figure size 1080x720 with 1 Axes>"
      ]
     },
     "metadata": {
      "needs_background": "light"
     },
     "output_type": "display_data"
    }
   ],
   "source": [
    "params = [str(i) for i in alpha]\n",
    "fig, ax = plt.subplots(figsize=(15,10))\n",
    "ax.plot(params, val_score,c='g')\n",
    "for i, txt in enumerate(np.round(val_score,3)):\n",
    "    ax.annotate((params[i],np.round(txt,3)), (params[i],val_score[i]))\n",
    "plt.grid()\n",
    "plt.title(\"Cross Validation rmse\")\n",
    "plt.xlabel(\"Alpha\")\n",
    "plt.ylabel(\"Validation Loss\")\n",
    "plt.show()"
   ]
  },
  {
   "cell_type": "markdown",
   "id": "8d87f39b",
   "metadata": {},
   "source": [
    "Decision Tree Regressor"
   ]
  },
  {
   "cell_type": "code",
   "execution_count": 47,
   "id": "f6700c60",
   "metadata": {
    "scrolled": true
   },
   "outputs": [
    {
     "data": {
      "application/vnd.jupyter.widget-view+json": {
       "model_id": "1cfb401be6f842e398fd332b4c9c6180",
       "version_major": 2,
       "version_minor": 0
      },
      "text/plain": [
       "  0%|          | 0/5 [00:00<?, ?it/s]"
      ]
     },
     "metadata": {},
     "output_type": "display_data"
    },
    {
     "name": "stdout",
     "output_type": "stream",
     "text": [
      "alpha = 3 \n",
      "model saving.....\n",
      "Training Loss is 0.8036969091426813 \n",
      "Validation Loss is 0.92170921301671 \n",
      "--------------------------------------------------\n",
      "alpha = 5 \n",
      "model saving.....\n",
      "Training Loss is 0.7804948263500386 \n",
      "Validation Loss is 0.9035761655190938 \n",
      "--------------------------------------------------\n",
      "alpha = 7 \n",
      "Training Loss is 0.7641830314861898 \n",
      "Validation Loss is 0.906097961374619 \n",
      "--------------------------------------------------\n",
      "alpha = 9 \n",
      "model saving.....\n",
      "Training Loss is 0.7448521301630757 \n",
      "Validation Loss is 0.8997861889292302 \n",
      "--------------------------------------------------\n",
      "alpha = 12 \n",
      "Training Loss is 0.6986650032639502 \n",
      "Validation Loss is 0.9308350620940863 \n",
      "--------------------------------------------------\n"
     ]
    }
   ],
   "source": [
    "max_depth = [3,5,7,9,12]\n",
    "\n",
    "\n",
    "train_score = []\n",
    "val_score = []\n",
    "dtr_best_train_loss=0\n",
    "dtr_best_val_loss=0\n",
    "for i in tqdm(max_depth):\n",
    "    \n",
    "    print(\"max_depth = {} \".format(i))\n",
    "    _model = DecisionTreeRegressor(max_depth = i)\n",
    "    _model.fit(X_train, y_train)\n",
    "    rmse_train = mean_squared_error(_model.predict(X_train).clip(0,20),y_train, squared=False)\n",
    "    rmse_val = mean_squared_error(_model.predict(X_val).clip(0,20),y_val, squared=False)\n",
    "    if val_score:\n",
    "        if sorted(val_score)[0] > rmse_val:\n",
    "            print(\"сохранение модели.....\")\n",
    "            pickle.dump(_model, open('dtr_model.pkl', 'wb'))\n",
    "            dtr_best_train_loss=rmse_train\n",
    "            dtr_best_val_loss=rmse_val\n",
    "    else:\n",
    "        print(\"сохранение модели.....\")\n",
    "        pickle.dump(_model, open('dtr_model.pkl', 'wb'))\n",
    "        dtr_best_train_loss=rmse_train\n",
    "        dtr_best_val_loss=rmse_val\n",
    "\n",
    "    \n",
    "    train_score.append(rmse_train)\n",
    "    val_score.append(rmse_val)\n",
    "    print(\"Training Loss {} \".format(rmse_train))\n",
    "    print(\"Validation Loss {} \".format(rmse_val))\n",
    "    print(\"-\"*50)\n",
    "pickle.dump((train_score,val_score,alpha), open('dtr_log.pkl', 'wb'))"
   ]
  },
  {
   "cell_type": "code",
   "execution_count": 22,
   "id": "fc960ed7",
   "metadata": {},
   "outputs": [],
   "source": [
    "best_dt = pickle.load(open('dtr_model.pkl', 'rb'))\n",
    "train_score,val_score,alpha = pickle.load(open('dtr_log.pkl', 'rb'))"
   ]
  },
  {
   "cell_type": "code",
   "execution_count": 23,
   "id": "22e4e08e",
   "metadata": {},
   "outputs": [
    {
     "data": {
      "image/png": "[encoded data removed]",
      "text/plain": [
       "<Figure size 1080x720 with 1 Axes>"
      ]
     },
     "metadata": {
      "needs_background": "light"
     },
     "output_type": "display_data"
    }
   ],
   "source": [
    "params = [str(i) for i in alpha]\n",
    "fig, ax = plt.subplots(figsize=(15,10))\n",
    "ax.plot(params, val_score,c='g')\n",
    "for i, txt in enumerate(np.round(val_score,3)):\n",
    "    ax.annotate((params[i],np.round(txt,3)), (params[i],val_score[i]))\n",
    "plt.grid()\n",
    "plt.title(\"Cross Validation rmse\")\n",
    "plt.xlabel(\"Max_depth\")\n",
    "plt.ylabel(\"Validation Loss\")\n",
    "plt.show()"
   ]
  },
  {
   "cell_type": "code",
   "execution_count": 50,
   "id": "4fc6fff0",
   "metadata": {},
   "outputs": [
    {
     "data": {
      "text/plain": [
       "<AxesSubplot:>"
      ]
     },
     "execution_count": 50,
     "metadata": {},
     "output_type": "execute_result"
    },
    {
     "data": {
      "image/png": "[encoded data removed]",
      "text/plain": [
       "<Figure size 720x576 with 1 Axes>"
      ]
     },
     "metadata": {
      "needs_background": "light"
     },
     "output_type": "display_data"
    }
   ],
   "source": [
    "feat_importances = pd.DataFrame(best_dt.feature_importances_, index=X.columns, columns=[\"Importance\"])\n",
    "feat_importances.sort_values(by='Importance', ascending=True, inplace=True)\n",
    "feat_importances.plot.barh(figsize=(10,8))"
   ]
  },
  {
   "cell_type": "markdown",
   "id": "8a0600d0",
   "metadata": {},
   "source": [
    "Random Forest Regressor"
   ]
  },
  {
   "cell_type": "code",
   "execution_count": 63,
   "id": "7dd60c6a",
   "metadata": {},
   "outputs": [
    {
     "data": {
      "application/vnd.jupyter.widget-view+json": {
       "model_id": "09a99bd7c44448b89a29904b6bad2d40",
       "version_major": 2,
       "version_minor": 0
      },
      "text/plain": [
       "  0%|          | 0/4 [00:00<?, ?it/s]"
      ]
     },
     "metadata": {},
     "output_type": "display_data"
    },
    {
     "name": "stdout",
     "output_type": "stream",
     "text": [
      "alpha = 3 \n",
      "model saving.....\n",
      "Training Loss is 0.7978916872235607 \n",
      "Validation Loss is 0.9168942006688782 \n",
      "--------------------------------------------------\n",
      "alpha = 5 \n",
      "model saving.....\n",
      "Training Loss is 0.7750447902608305 \n",
      "Validation Loss is 0.9031759155211573 \n",
      "--------------------------------------------------\n",
      "alpha = 7 \n",
      "model saving.....\n",
      "Training Loss is 0.7566286223394328 \n",
      "Validation Loss is 0.8936116989152921 \n",
      "--------------------------------------------------\n",
      "alpha = 9 \n",
      "model saving.....\n",
      "Training Loss is 0.7337278291731633 \n",
      "Validation Loss is 0.8866620028436644 \n",
      "--------------------------------------------------\n"
     ]
    }
   ],
   "source": [
    "max_depth = [3,5,7,9]\n",
    "\n",
    "\n",
    "train_score = []\n",
    "val_score = []\n",
    "rfr_best_train_loss=0\n",
    "rfr_best_val_loss=0\n",
    "for i in tqdm(max_depth):\n",
    "    \n",
    "    print(\"max_depth = {} \".format(i))\n",
    "    _model = RandomForestRegressor(max_depth = i)\n",
    "    _model.fit(X_train, y_train)\n",
    "    rmse_train = mean_squared_error(_model.predict(X_train).clip(0,20),y_train, squared=False)\n",
    "    rmse_val = mean_squared_error(_model.predict(X_val).clip(0,20),y_val, squared=False)\n",
    "\n",
    "    \n",
    "    if val_score:\n",
    "        if sorted(val_score)[0] > rmse_val:\n",
    "            print(\"сохранение модели.....\")\n",
    "            pickle.dump(_model, open('rfr_model.pkl', 'wb'))\n",
    "            rfr_best_train_loss=rmse_train\n",
    "            rfr_best_val_loss=rmse_val\n",
    "    else:\n",
    "        print(\"сохранение модели.....\")\n",
    "        pickle.dump(_model, open('rfr_model.pkl', 'wb'))\n",
    "        rfr_best_train_loss=rmse_train\n",
    "        rfr_best_val_loss=rmse_val\n",
    "    \n",
    "\n",
    "    train_score.append(rmse_train)\n",
    "    val_score.append(rmse_val)\n",
    "    print(\"Training Loss {} \".format(rmse_train))\n",
    "    print(\"Validation Loss {} \".format(rmse_val))\n",
    "    print(\"-\"*50)\n",
    "pickle.dump((train_score,val_score,alpha), open('rfr_log.pkl', 'wb'))"
   ]
  },
  {
   "cell_type": "code",
   "execution_count": 19,
   "id": "b299c33b",
   "metadata": {},
   "outputs": [],
   "source": [
    "best_rf = pickle.load(open('rfr_model.pkl', 'rb'))\n",
    "train_score,val_score,alpha = pickle.load(open('rfr_log.pkl', 'rb'))"
   ]
  },
  {
   "cell_type": "code",
   "execution_count": 21,
   "id": "ac0a34ac",
   "metadata": {},
   "outputs": [
    {
     "data": {
      "image/png": "[encoded data removed]",
      "text/plain": [
       "<Figure size 1080x720 with 1 Axes>"
      ]
     },
     "metadata": {
      "needs_background": "light"
     },
     "output_type": "display_data"
    }
   ],
   "source": [
    "params = [str(i) for i in alpha]\n",
    "fig, ax = plt.subplots(figsize=(15,10))\n",
    "ax.plot(params, val_score,c='g')\n",
    "for i, txt in enumerate(np.round(val_score,3)):\n",
    "    ax.annotate((params[i],np.round(txt,3)), (params[i],val_score[i]))\n",
    "plt.grid()\n",
    "plt.title(\"Cross Validation rmse\")\n",
    "plt.xlabel(\"max_depth\")\n",
    "plt.ylabel(\"Validation Loss\")\n",
    "plt.show()"
   ]
  },
  {
   "cell_type": "code",
   "execution_count": 19,
   "id": "19f7bb70",
   "metadata": {},
   "outputs": [
    {
     "data": {
      "text/plain": [
       "<AxesSubplot:>"
      ]
     },
     "execution_count": 19,
     "metadata": {},
     "output_type": "execute_result"
    },
    {
     "data": {
      "image/png": "[encoded data removed]",
      "text/plain": [
       "<Figure size 720x576 with 1 Axes>"
      ]
     },
     "metadata": {
      "needs_background": "light"
     },
     "output_type": "display_data"
    }
   ],
   "source": [
    "feat_importances = pd.DataFrame(best_rf.feature_importances_, index=X.columns, columns=[\"Importance\"])\n",
    "feat_importances.sort_values(by='Importance', ascending=True, inplace=True)\n",
    "feat_importances.plot.barh(figsize=(10,8))"
   ]
  },
  {
   "cell_type": "markdown",
   "id": "d1efe25b",
   "metadata": {},
   "source": [
    "XGBoost Regressor"
   ]
  },
  {
   "cell_type": "markdown",
   "id": "1a0f2b94",
   "metadata": {},
   "source": [
    "Custom Grid search Part 1"
   ]
  },
  {
   "cell_type": "code",
   "execution_count": 52,
   "id": "3f7b284b",
   "metadata": {
    "scrolled": true
   },
   "outputs": [
    {
     "name": "stdout",
     "output_type": "stream",
     "text": [
      "Tuning parameter subsamle and cosample_bytree\n",
      "set subsamle = 4 and cosample_bytree = 1\n",
      "[12:50:59] WARNING: C:\\Users\\dev-admin\\croot2\\xgboost-split_1675461376218\\work\\src\\learner.cc:767: \n",
      "Parameters: { \"verbose\" } are not used.\n",
      "\n",
      "[0]\tvalidation_0-rmse:1.07568\n",
      "[1]\tvalidation_0-rmse:1.04006\n",
      "[2]\tvalidation_0-rmse:1.01086\n",
      "[3]\tvalidation_0-rmse:0.98754\n",
      "[4]\tvalidation_0-rmse:0.96857\n",
      "[5]\tvalidation_0-rmse:0.95224\n",
      "[6]\tvalidation_0-rmse:0.93983\n",
      "[7]\tvalidation_0-rmse:0.92909\n",
      "[8]\tvalidation_0-rmse:0.92141\n",
      "[9]\tvalidation_0-rmse:0.91447\n",
      "[10]\tvalidation_0-rmse:0.90896\n",
      "[11]\tvalidation_0-rmse:0.90481\n",
      "[12]\tvalidation_0-rmse:0.90067\n",
      "[13]\tvalidation_0-rmse:0.89796\n",
      "[14]\tvalidation_0-rmse:0.89609\n",
      "[15]\tvalidation_0-rmse:0.89433\n",
      "[16]\tvalidation_0-rmse:0.89296\n",
      "[17]\tvalidation_0-rmse:0.89198\n",
      "[18]\tvalidation_0-rmse:0.89119\n",
      "[19]\tvalidation_0-rmse:0.89016\n",
      "[20]\tvalidation_0-rmse:0.88959\n",
      "[21]\tvalidation_0-rmse:0.88925\n",
      "[22]\tvalidation_0-rmse:0.88927\n",
      "[23]\tvalidation_0-rmse:0.88908\n",
      "[24]\tvalidation_0-rmse:0.88868\n",
      "[25]\tvalidation_0-rmse:0.88850\n",
      "[26]\tvalidation_0-rmse:0.88821\n",
      "[27]\tvalidation_0-rmse:0.88787\n",
      "[28]\tvalidation_0-rmse:0.88731\n",
      "[29]\tvalidation_0-rmse:0.88747\n",
      "[30]\tvalidation_0-rmse:0.88737\n",
      "[31]\tvalidation_0-rmse:0.88719\n",
      "[32]\tvalidation_0-rmse:0.88715\n",
      "[33]\tvalidation_0-rmse:0.88681\n",
      "[34]\tvalidation_0-rmse:0.88672\n",
      "[35]\tvalidation_0-rmse:0.88652\n",
      "[36]\tvalidation_0-rmse:0.88606\n",
      "[37]\tvalidation_0-rmse:0.88567\n",
      "[38]\tvalidation_0-rmse:0.88529\n",
      "[39]\tvalidation_0-rmse:0.88521\n",
      "[40]\tvalidation_0-rmse:0.88553\n",
      "[41]\tvalidation_0-rmse:0.88548\n",
      "[42]\tvalidation_0-rmse:0.88539\n",
      "[43]\tvalidation_0-rmse:0.88518\n",
      "[44]\tvalidation_0-rmse:0.88526\n",
      "[45]\tvalidation_0-rmse:0.88510\n",
      "[46]\tvalidation_0-rmse:0.88509\n",
      "[47]\tvalidation_0-rmse:0.88460\n",
      "[48]\tvalidation_0-rmse:0.88447\n",
      "[49]\tvalidation_0-rmse:0.88443\n",
      "[50]\tvalidation_0-rmse:0.88404\n",
      "[51]\tvalidation_0-rmse:0.88427\n",
      "[52]\tvalidation_0-rmse:0.88441\n",
      "[53]\tvalidation_0-rmse:0.88398\n",
      "[54]\tvalidation_0-rmse:0.88380\n",
      "[55]\tvalidation_0-rmse:0.88357\n",
      "[56]\tvalidation_0-rmse:0.88324\n",
      "[57]\tvalidation_0-rmse:0.88325\n",
      "[58]\tvalidation_0-rmse:0.88320\n",
      "[59]\tvalidation_0-rmse:0.88300\n",
      "[60]\tvalidation_0-rmse:0.88291\n",
      "[61]\tvalidation_0-rmse:0.88269\n",
      "[62]\tvalidation_0-rmse:0.88232\n",
      "[63]\tvalidation_0-rmse:0.88206\n",
      "[64]\tvalidation_0-rmse:0.88221\n",
      "[65]\tvalidation_0-rmse:0.88215\n",
      "[66]\tvalidation_0-rmse:0.88243\n",
      "[67]\tvalidation_0-rmse:0.88204\n",
      "[68]\tvalidation_0-rmse:0.88202\n",
      "[69]\tvalidation_0-rmse:0.88158\n",
      "[70]\tvalidation_0-rmse:0.88153\n",
      "[71]\tvalidation_0-rmse:0.88117\n",
      "[72]\tvalidation_0-rmse:0.88091\n",
      "[73]\tvalidation_0-rmse:0.88085\n",
      "[74]\tvalidation_0-rmse:0.88084\n",
      "[75]\tvalidation_0-rmse:0.88093\n",
      "[76]\tvalidation_0-rmse:0.88118\n",
      "[77]\tvalidation_0-rmse:0.88125\n",
      "[78]\tvalidation_0-rmse:0.88080\n",
      "[79]\tvalidation_0-rmse:0.88058\n",
      "[80]\tvalidation_0-rmse:0.88050\n",
      "[81]\tvalidation_0-rmse:0.88035\n",
      "[82]\tvalidation_0-rmse:0.88029\n",
      "[83]\tvalidation_0-rmse:0.87994\n",
      "[84]\tvalidation_0-rmse:0.87990\n",
      "[85]\tvalidation_0-rmse:0.87965\n",
      "[86]\tvalidation_0-rmse:0.87969\n",
      "[87]\tvalidation_0-rmse:0.87973\n",
      "[88]\tvalidation_0-rmse:0.87964\n",
      "[89]\tvalidation_0-rmse:0.87966\n",
      "[90]\tvalidation_0-rmse:0.87945\n",
      "[91]\tvalidation_0-rmse:0.87936\n",
      "[92]\tvalidation_0-rmse:0.87928\n",
      "[93]\tvalidation_0-rmse:0.87895\n",
      "[94]\tvalidation_0-rmse:0.87875\n",
      "[95]\tvalidation_0-rmse:0.87856\n",
      "[96]\tvalidation_0-rmse:0.87852\n",
      "[97]\tvalidation_0-rmse:0.87835\n",
      "[98]\tvalidation_0-rmse:0.87836\n",
      "[99]\tvalidation_0-rmse:0.87803\n",
      "[100]\tvalidation_0-rmse:0.87793\n",
      "[101]\tvalidation_0-rmse:0.87817\n",
      "[102]\tvalidation_0-rmse:0.87806\n",
      "[103]\tvalidation_0-rmse:0.87800\n",
      "[104]\tvalidation_0-rmse:0.87799\n",
      "[105]\tvalidation_0-rmse:0.87767\n",
      "[106]\tvalidation_0-rmse:0.87724\n",
      "[107]\tvalidation_0-rmse:0.87720\n",
      "[108]\tvalidation_0-rmse:0.87690\n",
      "[109]\tvalidation_0-rmse:0.87687\n",
      "[110]\tvalidation_0-rmse:0.87700\n",
      "[111]\tvalidation_0-rmse:0.87695\n",
      "[112]\tvalidation_0-rmse:0.87668\n",
      "[113]\tvalidation_0-rmse:0.87668\n",
      "[114]\tvalidation_0-rmse:0.87675\n",
      "[115]\tvalidation_0-rmse:0.87661\n",
      "[116]\tvalidation_0-rmse:0.87641\n",
      "[117]\tvalidation_0-rmse:0.87612\n",
      "[118]\tvalidation_0-rmse:0.87597\n",
      "[119]\tvalidation_0-rmse:0.87613\n",
      "[120]\tvalidation_0-rmse:0.87602\n",
      "[121]\tvalidation_0-rmse:0.87598\n",
      "[122]\tvalidation_0-rmse:0.87582\n",
      "[123]\tvalidation_0-rmse:0.87589\n",
      "[124]\tvalidation_0-rmse:0.87588\n",
      "[125]\tvalidation_0-rmse:0.87587\n",
      "[126]\tvalidation_0-rmse:0.87554\n",
      "[127]\tvalidation_0-rmse:0.87536\n",
      "[128]\tvalidation_0-rmse:0.87538\n",
      "[129]\tvalidation_0-rmse:0.87541\n",
      "[130]\tvalidation_0-rmse:0.87526\n",
      "[131]\tvalidation_0-rmse:0.87502\n",
      "[132]\tvalidation_0-rmse:0.87512\n",
      "[133]\tvalidation_0-rmse:0.87501\n",
      "[134]\tvalidation_0-rmse:0.87476\n",
      "[135]\tvalidation_0-rmse:0.87475\n",
      "[136]\tvalidation_0-rmse:0.87465\n",
      "[137]\tvalidation_0-rmse:0.87476\n",
      "[138]\tvalidation_0-rmse:0.87448\n",
      "[139]\tvalidation_0-rmse:0.87437\n",
      "[140]\tvalidation_0-rmse:0.87431\n",
      "[141]\tvalidation_0-rmse:0.87433\n",
      "[142]\tvalidation_0-rmse:0.87426\n",
      "[143]\tvalidation_0-rmse:0.87414\n",
      "[144]\tvalidation_0-rmse:0.87417\n",
      "[145]\tvalidation_0-rmse:0.87408\n",
      "[146]\tvalidation_0-rmse:0.87401\n",
      "[147]\tvalidation_0-rmse:0.87341\n",
      "[148]\tvalidation_0-rmse:0.87326\n",
      "[149]\tvalidation_0-rmse:0.87311\n",
      "[150]\tvalidation_0-rmse:0.87301\n",
      "[151]\tvalidation_0-rmse:0.87296\n",
      "[152]\tvalidation_0-rmse:0.87295\n",
      "[153]\tvalidation_0-rmse:0.87282\n",
      "[154]\tvalidation_0-rmse:0.87283\n",
      "[155]\tvalidation_0-rmse:0.87291\n",
      "[156]\tvalidation_0-rmse:0.87300\n",
      "[157]\tvalidation_0-rmse:0.87309\n",
      "[158]\tvalidation_0-rmse:0.87311\n",
      "[159]\tvalidation_0-rmse:0.87306\n",
      "[160]\tvalidation_0-rmse:0.87306\n",
      "[161]\tvalidation_0-rmse:0.87304\n",
      "[162]\tvalidation_0-rmse:0.87303\n",
      "[163]\tvalidation_0-rmse:0.87296\n",
      "[164]\tvalidation_0-rmse:0.87297\n",
      "[165]\tvalidation_0-rmse:0.87284\n",
      "[166]\tvalidation_0-rmse:0.87282\n",
      "[167]\tvalidation_0-rmse:0.87274\n",
      "[168]\tvalidation_0-rmse:0.87270\n",
      "[169]\tvalidation_0-rmse:0.87257\n",
      "[170]\tvalidation_0-rmse:0.87252\n",
      "[171]\tvalidation_0-rmse:0.87246\n",
      "[172]\tvalidation_0-rmse:0.87248\n",
      "[173]\tvalidation_0-rmse:0.87240\n",
      "[174]\tvalidation_0-rmse:0.87246\n",
      "[175]\tvalidation_0-rmse:0.87244\n",
      "[176]\tvalidation_0-rmse:0.87245\n",
      "[177]\tvalidation_0-rmse:0.87239\n",
      "[178]\tvalidation_0-rmse:0.87235\n",
      "[179]\tvalidation_0-rmse:0.87237\n",
      "[180]\tvalidation_0-rmse:0.87237\n",
      "[181]\tvalidation_0-rmse:0.87242\n",
      "[182]\tvalidation_0-rmse:0.87243\n",
      "[183]\tvalidation_0-rmse:0.87228\n",
      "[184]\tvalidation_0-rmse:0.87232\n",
      "[185]\tvalidation_0-rmse:0.87203\n",
      "[186]\tvalidation_0-rmse:0.87203\n",
      "[187]\tvalidation_0-rmse:0.87196\n",
      "[188]\tvalidation_0-rmse:0.87207\n",
      "[189]\tvalidation_0-rmse:0.87217\n",
      "[190]\tvalidation_0-rmse:0.87151\n",
      "[191]\tvalidation_0-rmse:0.87144\n",
      "[192]\tvalidation_0-rmse:0.87149\n",
      "[193]\tvalidation_0-rmse:0.87150\n",
      "[194]\tvalidation_0-rmse:0.87185\n",
      "[195]\tvalidation_0-rmse:0.87181\n",
      "[196]\tvalidation_0-rmse:0.87177\n",
      "[197]\tvalidation_0-rmse:0.87169\n",
      "[198]\tvalidation_0-rmse:0.87168\n",
      "[199]\tvalidation_0-rmse:0.87166\n",
      "[200]\tvalidation_0-rmse:0.87171\n",
      "[201]\tvalidation_0-rmse:0.87171\n",
      "[202]\tvalidation_0-rmse:0.87167\n",
      "[203]\tvalidation_0-rmse:0.87109\n",
      "[204]\tvalidation_0-rmse:0.87116\n",
      "[205]\tvalidation_0-rmse:0.87111\n",
      "[206]\tvalidation_0-rmse:0.87109\n",
      "[207]\tvalidation_0-rmse:0.87105\n",
      "[208]\tvalidation_0-rmse:0.87081\n",
      "[209]\tvalidation_0-rmse:0.87078\n",
      "[210]\tvalidation_0-rmse:0.87077\n",
      "[211]\tvalidation_0-rmse:0.87064\n",
      "[212]\tvalidation_0-rmse:0.87056\n",
      "[213]\tvalidation_0-rmse:0.87042\n",
      "[214]\tvalidation_0-rmse:0.87049\n",
      "[215]\tvalidation_0-rmse:0.87043\n",
      "[216]\tvalidation_0-rmse:0.87048\n",
      "[217]\tvalidation_0-rmse:0.87049\n",
      "[218]\tvalidation_0-rmse:0.87042\n",
      "[219]\tvalidation_0-rmse:0.87038\n",
      "[220]\tvalidation_0-rmse:0.87036\n",
      "[221]\tvalidation_0-rmse:0.87029\n",
      "[222]\tvalidation_0-rmse:0.87035\n",
      "[223]\tvalidation_0-rmse:0.87032\n",
      "[224]\tvalidation_0-rmse:0.87027\n",
      "[225]\tvalidation_0-rmse:0.86992\n",
      "[226]\tvalidation_0-rmse:0.86996\n",
      "[227]\tvalidation_0-rmse:0.86991\n",
      "[228]\tvalidation_0-rmse:0.86985\n",
      "[229]\tvalidation_0-rmse:0.86987\n",
      "[230]\tvalidation_0-rmse:0.86989\n",
      "[231]\tvalidation_0-rmse:0.87033\n",
      "[232]\tvalidation_0-rmse:0.87031\n",
      "[233]\tvalidation_0-rmse:0.87031\n",
      "[234]\tvalidation_0-rmse:0.87015\n",
      "[235]\tvalidation_0-rmse:0.87011\n",
      "[236]\tvalidation_0-rmse:0.86980\n",
      "[237]\tvalidation_0-rmse:0.86978\n",
      "[238]\tvalidation_0-rmse:0.86981\n",
      "[239]\tvalidation_0-rmse:0.86977\n",
      "[240]\tvalidation_0-rmse:0.86951\n",
      "[241]\tvalidation_0-rmse:0.86934\n",
      "[242]\tvalidation_0-rmse:0.86933\n",
      "[243]\tvalidation_0-rmse:0.86914\n",
      "[244]\tvalidation_0-rmse:0.86905\n",
      "[245]\tvalidation_0-rmse:0.86914\n",
      "[246]\tvalidation_0-rmse:0.86917\n",
      "[247]\tvalidation_0-rmse:0.86915\n",
      "[248]\tvalidation_0-rmse:0.86946\n",
      "[249]\tvalidation_0-rmse:0.86950\n",
      "[250]\tvalidation_0-rmse:0.86949\n",
      "[251]\tvalidation_0-rmse:0.86950\n",
      "[252]\tvalidation_0-rmse:0.86952\n"
     ]
    },
    {
     "name": "stdout",
     "output_type": "stream",
     "text": [
      "[253]\tvalidation_0-rmse:0.86952\n",
      "[254]\tvalidation_0-rmse:0.86948\n",
      "[255]\tvalidation_0-rmse:0.86934\n",
      "[256]\tvalidation_0-rmse:0.86936\n",
      "[257]\tvalidation_0-rmse:0.86938\n",
      "[258]\tvalidation_0-rmse:0.86943\n",
      "[259]\tvalidation_0-rmse:0.86942\n",
      "[260]\tvalidation_0-rmse:0.86942\n",
      "[261]\tvalidation_0-rmse:0.86942\n",
      "[262]\tvalidation_0-rmse:0.86945\n",
      "[263]\tvalidation_0-rmse:0.86942\n",
      "model saving.....\n",
      "Training Loss when max_depth=4 and min_child_weight=1 is 0.7248243093490601 \n",
      "Validation Loss when max_depth=4 and min_child_weight=1 is 0.8690173029899597 \n",
      "--------------------------------------------------\n",
      "Tuning parameter subsamle and cosample_bytree\n",
      "set subsamle = 4 and cosample_bytree = 10\n",
      "[12:54:58] WARNING: C:\\Users\\dev-admin\\croot2\\xgboost-split_1675461376218\\work\\src\\learner.cc:767: \n",
      "Parameters: { \"verbose\" } are not used.\n",
      "\n",
      "[0]\tvalidation_0-rmse:1.07568\n",
      "[1]\tvalidation_0-rmse:1.04006\n",
      "[2]\tvalidation_0-rmse:1.01086\n",
      "[3]\tvalidation_0-rmse:0.98754\n",
      "[4]\tvalidation_0-rmse:0.96857\n",
      "[5]\tvalidation_0-rmse:0.95224\n",
      "[6]\tvalidation_0-rmse:0.93983\n",
      "[7]\tvalidation_0-rmse:0.92909\n",
      "[8]\tvalidation_0-rmse:0.92141\n",
      "[9]\tvalidation_0-rmse:0.91447\n",
      "[10]\tvalidation_0-rmse:0.90896\n",
      "[11]\tvalidation_0-rmse:0.90481\n",
      "[12]\tvalidation_0-rmse:0.90067\n",
      "[13]\tvalidation_0-rmse:0.89796\n",
      "[14]\tvalidation_0-rmse:0.89609\n",
      "[15]\tvalidation_0-rmse:0.89433\n",
      "[16]\tvalidation_0-rmse:0.89296\n",
      "[17]\tvalidation_0-rmse:0.89198\n",
      "[18]\tvalidation_0-rmse:0.89119\n",
      "[19]\tvalidation_0-rmse:0.89016\n",
      "[20]\tvalidation_0-rmse:0.88959\n",
      "[21]\tvalidation_0-rmse:0.88925\n",
      "[22]\tvalidation_0-rmse:0.88927\n",
      "[23]\tvalidation_0-rmse:0.88908\n",
      "[24]\tvalidation_0-rmse:0.88868\n",
      "[25]\tvalidation_0-rmse:0.88850\n",
      "[26]\tvalidation_0-rmse:0.88821\n",
      "[27]\tvalidation_0-rmse:0.88787\n",
      "[28]\tvalidation_0-rmse:0.88731\n",
      "[29]\tvalidation_0-rmse:0.88747\n",
      "[30]\tvalidation_0-rmse:0.88737\n",
      "[31]\tvalidation_0-rmse:0.88719\n",
      "[32]\tvalidation_0-rmse:0.88715\n",
      "[33]\tvalidation_0-rmse:0.88681\n",
      "[34]\tvalidation_0-rmse:0.88662\n",
      "[35]\tvalidation_0-rmse:0.88642\n",
      "[36]\tvalidation_0-rmse:0.88601\n",
      "[37]\tvalidation_0-rmse:0.88596\n",
      "[38]\tvalidation_0-rmse:0.88587\n",
      "[39]\tvalidation_0-rmse:0.88624\n",
      "[40]\tvalidation_0-rmse:0.88607\n",
      "[41]\tvalidation_0-rmse:0.88573\n",
      "[42]\tvalidation_0-rmse:0.88536\n",
      "[43]\tvalidation_0-rmse:0.88520\n",
      "[44]\tvalidation_0-rmse:0.88532\n",
      "[45]\tvalidation_0-rmse:0.88524\n",
      "[46]\tvalidation_0-rmse:0.88469\n",
      "[47]\tvalidation_0-rmse:0.88503\n",
      "[48]\tvalidation_0-rmse:0.88499\n",
      "[49]\tvalidation_0-rmse:0.88485\n",
      "[50]\tvalidation_0-rmse:0.88455\n",
      "[51]\tvalidation_0-rmse:0.88463\n",
      "[52]\tvalidation_0-rmse:0.88442\n",
      "[53]\tvalidation_0-rmse:0.88422\n",
      "[54]\tvalidation_0-rmse:0.88412\n",
      "[55]\tvalidation_0-rmse:0.88426\n",
      "[56]\tvalidation_0-rmse:0.88421\n",
      "[57]\tvalidation_0-rmse:0.88402\n",
      "[58]\tvalidation_0-rmse:0.88349\n",
      "[59]\tvalidation_0-rmse:0.88374\n",
      "[60]\tvalidation_0-rmse:0.88378\n",
      "[61]\tvalidation_0-rmse:0.88368\n",
      "[62]\tvalidation_0-rmse:0.88363\n",
      "[63]\tvalidation_0-rmse:0.88339\n",
      "[64]\tvalidation_0-rmse:0.88307\n",
      "[65]\tvalidation_0-rmse:0.88289\n",
      "[66]\tvalidation_0-rmse:0.88304\n",
      "[67]\tvalidation_0-rmse:0.88300\n",
      "[68]\tvalidation_0-rmse:0.88296\n",
      "[69]\tvalidation_0-rmse:0.88294\n",
      "[70]\tvalidation_0-rmse:0.88280\n",
      "[71]\tvalidation_0-rmse:0.88267\n",
      "[72]\tvalidation_0-rmse:0.88249\n",
      "[73]\tvalidation_0-rmse:0.88240\n",
      "[74]\tvalidation_0-rmse:0.88206\n",
      "[75]\tvalidation_0-rmse:0.88190\n",
      "[76]\tvalidation_0-rmse:0.88175\n",
      "[77]\tvalidation_0-rmse:0.88171\n",
      "[78]\tvalidation_0-rmse:0.88180\n",
      "[79]\tvalidation_0-rmse:0.88116\n",
      "[80]\tvalidation_0-rmse:0.88085\n",
      "[81]\tvalidation_0-rmse:0.88061\n",
      "[82]\tvalidation_0-rmse:0.88057\n",
      "[83]\tvalidation_0-rmse:0.88050\n",
      "[84]\tvalidation_0-rmse:0.88027\n",
      "[85]\tvalidation_0-rmse:0.88042\n",
      "[86]\tvalidation_0-rmse:0.88022\n",
      "[87]\tvalidation_0-rmse:0.88001\n",
      "[88]\tvalidation_0-rmse:0.88003\n",
      "[89]\tvalidation_0-rmse:0.87989\n",
      "[90]\tvalidation_0-rmse:0.87968\n",
      "[91]\tvalidation_0-rmse:0.87961\n",
      "[92]\tvalidation_0-rmse:0.87930\n",
      "[93]\tvalidation_0-rmse:0.87918\n",
      "[94]\tvalidation_0-rmse:0.87921\n",
      "[95]\tvalidation_0-rmse:0.87918\n",
      "[96]\tvalidation_0-rmse:0.87910\n",
      "[97]\tvalidation_0-rmse:0.87908\n",
      "[98]\tvalidation_0-rmse:0.87893\n",
      "[99]\tvalidation_0-rmse:0.87892\n",
      "[100]\tvalidation_0-rmse:0.87855\n",
      "[101]\tvalidation_0-rmse:0.87851\n",
      "[102]\tvalidation_0-rmse:0.87825\n",
      "[103]\tvalidation_0-rmse:0.87817\n",
      "[104]\tvalidation_0-rmse:0.87813\n",
      "[105]\tvalidation_0-rmse:0.87813\n",
      "[106]\tvalidation_0-rmse:0.87792\n",
      "[107]\tvalidation_0-rmse:0.87746\n",
      "[108]\tvalidation_0-rmse:0.87743\n",
      "[109]\tvalidation_0-rmse:0.87726\n",
      "[110]\tvalidation_0-rmse:0.87714\n",
      "[111]\tvalidation_0-rmse:0.87713\n",
      "[112]\tvalidation_0-rmse:0.87710\n",
      "[113]\tvalidation_0-rmse:0.87682\n",
      "[114]\tvalidation_0-rmse:0.87683\n",
      "[115]\tvalidation_0-rmse:0.87677\n",
      "[116]\tvalidation_0-rmse:0.87692\n",
      "[117]\tvalidation_0-rmse:0.87688\n",
      "[118]\tvalidation_0-rmse:0.87656\n",
      "[119]\tvalidation_0-rmse:0.87654\n",
      "[120]\tvalidation_0-rmse:0.87654\n",
      "[121]\tvalidation_0-rmse:0.87643\n",
      "[122]\tvalidation_0-rmse:0.87631\n",
      "[123]\tvalidation_0-rmse:0.87775\n",
      "[124]\tvalidation_0-rmse:0.87753\n",
      "[125]\tvalidation_0-rmse:0.87739\n",
      "[126]\tvalidation_0-rmse:0.87726\n",
      "[127]\tvalidation_0-rmse:0.87717\n",
      "[128]\tvalidation_0-rmse:0.87710\n",
      "[129]\tvalidation_0-rmse:0.87712\n",
      "[130]\tvalidation_0-rmse:0.87706\n",
      "[131]\tvalidation_0-rmse:0.87717\n",
      "[132]\tvalidation_0-rmse:0.87710\n",
      "[133]\tvalidation_0-rmse:0.87698\n",
      "[134]\tvalidation_0-rmse:0.87680\n",
      "[135]\tvalidation_0-rmse:0.87664\n",
      "[136]\tvalidation_0-rmse:0.87664\n",
      "[137]\tvalidation_0-rmse:0.87656\n",
      "[138]\tvalidation_0-rmse:0.87633\n",
      "[139]\tvalidation_0-rmse:0.87621\n",
      "[140]\tvalidation_0-rmse:0.87619\n",
      "[141]\tvalidation_0-rmse:0.87627\n",
      "[142]\tvalidation_0-rmse:0.87608\n",
      "[143]\tvalidation_0-rmse:0.87590\n",
      "[144]\tvalidation_0-rmse:0.87593\n",
      "[145]\tvalidation_0-rmse:0.87595\n",
      "[146]\tvalidation_0-rmse:0.87586\n",
      "[147]\tvalidation_0-rmse:0.87585\n",
      "[148]\tvalidation_0-rmse:0.87572\n",
      "[149]\tvalidation_0-rmse:0.87566\n",
      "[150]\tvalidation_0-rmse:0.87567\n",
      "[151]\tvalidation_0-rmse:0.87549\n",
      "[152]\tvalidation_0-rmse:0.87520\n",
      "[153]\tvalidation_0-rmse:0.87499\n",
      "[154]\tvalidation_0-rmse:0.87491\n",
      "[155]\tvalidation_0-rmse:0.87493\n",
      "[156]\tvalidation_0-rmse:0.87496\n",
      "[157]\tvalidation_0-rmse:0.87497\n",
      "[158]\tvalidation_0-rmse:0.87462\n",
      "[159]\tvalidation_0-rmse:0.87468\n",
      "[160]\tvalidation_0-rmse:0.87467\n",
      "[161]\tvalidation_0-rmse:0.87473\n",
      "[162]\tvalidation_0-rmse:0.87469\n",
      "[163]\tvalidation_0-rmse:0.87470\n",
      "[164]\tvalidation_0-rmse:0.87464\n",
      "[165]\tvalidation_0-rmse:0.87460\n",
      "[166]\tvalidation_0-rmse:0.87464\n",
      "[167]\tvalidation_0-rmse:0.87472\n",
      "[168]\tvalidation_0-rmse:0.87474\n",
      "[169]\tvalidation_0-rmse:0.87446\n",
      "[170]\tvalidation_0-rmse:0.87435\n",
      "[171]\tvalidation_0-rmse:0.87433\n",
      "[172]\tvalidation_0-rmse:0.87418\n",
      "[173]\tvalidation_0-rmse:0.87417\n",
      "[174]\tvalidation_0-rmse:0.87384\n",
      "[175]\tvalidation_0-rmse:0.87389\n",
      "[176]\tvalidation_0-rmse:0.87367\n",
      "[177]\tvalidation_0-rmse:0.87399\n",
      "[178]\tvalidation_0-rmse:0.87398\n",
      "[179]\tvalidation_0-rmse:0.87395\n",
      "[180]\tvalidation_0-rmse:0.87371\n",
      "[181]\tvalidation_0-rmse:0.87371\n",
      "[182]\tvalidation_0-rmse:0.87365\n",
      "[183]\tvalidation_0-rmse:0.87359\n",
      "[184]\tvalidation_0-rmse:0.87368\n",
      "[185]\tvalidation_0-rmse:0.87371\n",
      "[186]\tvalidation_0-rmse:0.87329\n",
      "[187]\tvalidation_0-rmse:0.87310\n",
      "[188]\tvalidation_0-rmse:0.87304\n",
      "[189]\tvalidation_0-rmse:0.87283\n",
      "[190]\tvalidation_0-rmse:0.87275\n",
      "[191]\tvalidation_0-rmse:0.87274\n",
      "[192]\tvalidation_0-rmse:0.87270\n",
      "[193]\tvalidation_0-rmse:0.87275\n",
      "[194]\tvalidation_0-rmse:0.87271\n",
      "[195]\tvalidation_0-rmse:0.87254\n",
      "[196]\tvalidation_0-rmse:0.87242\n",
      "[197]\tvalidation_0-rmse:0.87244\n",
      "[198]\tvalidation_0-rmse:0.87238\n",
      "[199]\tvalidation_0-rmse:0.87245\n",
      "[200]\tvalidation_0-rmse:0.87239\n",
      "[201]\tvalidation_0-rmse:0.87248\n",
      "[202]\tvalidation_0-rmse:0.87244\n",
      "[203]\tvalidation_0-rmse:0.87235\n",
      "[204]\tvalidation_0-rmse:0.87262\n",
      "[205]\tvalidation_0-rmse:0.87265\n",
      "[206]\tvalidation_0-rmse:0.87260\n",
      "[207]\tvalidation_0-rmse:0.87239\n",
      "[208]\tvalidation_0-rmse:0.87240\n",
      "[209]\tvalidation_0-rmse:0.87241\n",
      "[210]\tvalidation_0-rmse:0.87257\n",
      "[211]\tvalidation_0-rmse:0.87255\n",
      "[212]\tvalidation_0-rmse:0.87271\n",
      "[213]\tvalidation_0-rmse:0.87245\n",
      "[214]\tvalidation_0-rmse:0.87241\n",
      "[215]\tvalidation_0-rmse:0.87243\n",
      "[216]\tvalidation_0-rmse:0.87242\n",
      "[217]\tvalidation_0-rmse:0.87240\n",
      "[218]\tvalidation_0-rmse:0.87242\n",
      "[219]\tvalidation_0-rmse:0.87241\n",
      "[220]\tvalidation_0-rmse:0.87243\n",
      "[221]\tvalidation_0-rmse:0.87230\n",
      "[222]\tvalidation_0-rmse:0.87229\n",
      "[223]\tvalidation_0-rmse:0.87220\n",
      "[224]\tvalidation_0-rmse:0.87211\n",
      "[225]\tvalidation_0-rmse:0.87208\n",
      "[226]\tvalidation_0-rmse:0.87207\n",
      "[227]\tvalidation_0-rmse:0.87174\n",
      "[228]\tvalidation_0-rmse:0.87177\n",
      "[229]\tvalidation_0-rmse:0.87188\n",
      "[230]\tvalidation_0-rmse:0.87185\n",
      "[231]\tvalidation_0-rmse:0.87162\n",
      "[232]\tvalidation_0-rmse:0.87164\n",
      "[233]\tvalidation_0-rmse:0.87154\n",
      "[234]\tvalidation_0-rmse:0.87133\n"
     ]
    },
    {
     "name": "stdout",
     "output_type": "stream",
     "text": [
      "[235]\tvalidation_0-rmse:0.87126\n",
      "[236]\tvalidation_0-rmse:0.87116\n",
      "[237]\tvalidation_0-rmse:0.87101\n",
      "[238]\tvalidation_0-rmse:0.87103\n",
      "[239]\tvalidation_0-rmse:0.87106\n",
      "[240]\tvalidation_0-rmse:0.87152\n",
      "[241]\tvalidation_0-rmse:0.87154\n",
      "[242]\tvalidation_0-rmse:0.87150\n",
      "[243]\tvalidation_0-rmse:0.87150\n",
      "[244]\tvalidation_0-rmse:0.87147\n",
      "[245]\tvalidation_0-rmse:0.87157\n",
      "[246]\tvalidation_0-rmse:0.87146\n",
      "[247]\tvalidation_0-rmse:0.87153\n",
      "[248]\tvalidation_0-rmse:0.87147\n",
      "[249]\tvalidation_0-rmse:0.87143\n",
      "[250]\tvalidation_0-rmse:0.87145\n",
      "[251]\tvalidation_0-rmse:0.87139\n",
      "[252]\tvalidation_0-rmse:0.87143\n",
      "[253]\tvalidation_0-rmse:0.87126\n",
      "[254]\tvalidation_0-rmse:0.87126\n",
      "[255]\tvalidation_0-rmse:0.87125\n",
      "[256]\tvalidation_0-rmse:0.87128\n",
      "Training Loss when max_depth=4 and min_child_weight=10 is 0.724435567855835 \n",
      "Validation Loss when max_depth=4 and min_child_weight=10 is 0.8709809184074402 \n",
      "--------------------------------------------------\n",
      "Tuning parameter subsamle and cosample_bytree\n",
      "set subsamle = 4 and cosample_bytree = 100\n",
      "[12:58:47] WARNING: C:\\Users\\dev-admin\\croot2\\xgboost-split_1675461376218\\work\\src\\learner.cc:767: \n",
      "Parameters: { \"verbose\" } are not used.\n",
      "\n",
      "[0]\tvalidation_0-rmse:1.07568\n",
      "[1]\tvalidation_0-rmse:1.04006\n",
      "[2]\tvalidation_0-rmse:1.01086\n",
      "[3]\tvalidation_0-rmse:0.98754\n",
      "[4]\tvalidation_0-rmse:0.96857\n",
      "[5]\tvalidation_0-rmse:0.95224\n",
      "[6]\tvalidation_0-rmse:0.93983\n",
      "[7]\tvalidation_0-rmse:0.92909\n",
      "[8]\tvalidation_0-rmse:0.92141\n",
      "[9]\tvalidation_0-rmse:0.91447\n",
      "[10]\tvalidation_0-rmse:0.90896\n",
      "[11]\tvalidation_0-rmse:0.90481\n",
      "[12]\tvalidation_0-rmse:0.90089\n",
      "[13]\tvalidation_0-rmse:0.89816\n",
      "[14]\tvalidation_0-rmse:0.89629\n",
      "[15]\tvalidation_0-rmse:0.89458\n",
      "[16]\tvalidation_0-rmse:0.89321\n",
      "[17]\tvalidation_0-rmse:0.89190\n",
      "[18]\tvalidation_0-rmse:0.89131\n",
      "[19]\tvalidation_0-rmse:0.89052\n",
      "[20]\tvalidation_0-rmse:0.89016\n",
      "[21]\tvalidation_0-rmse:0.88976\n",
      "[22]\tvalidation_0-rmse:0.88921\n",
      "[23]\tvalidation_0-rmse:0.88855\n",
      "[24]\tvalidation_0-rmse:0.88807\n",
      "[25]\tvalidation_0-rmse:0.88760\n",
      "[26]\tvalidation_0-rmse:0.88747\n",
      "[27]\tvalidation_0-rmse:0.88685\n",
      "[28]\tvalidation_0-rmse:0.88666\n",
      "[29]\tvalidation_0-rmse:0.88657\n",
      "[30]\tvalidation_0-rmse:0.88640\n",
      "[31]\tvalidation_0-rmse:0.88596\n",
      "[32]\tvalidation_0-rmse:0.88616\n",
      "[33]\tvalidation_0-rmse:0.88592\n",
      "[34]\tvalidation_0-rmse:0.88561\n",
      "[35]\tvalidation_0-rmse:0.88572\n",
      "[36]\tvalidation_0-rmse:0.88546\n",
      "[37]\tvalidation_0-rmse:0.88535\n",
      "[38]\tvalidation_0-rmse:0.88511\n",
      "[39]\tvalidation_0-rmse:0.88527\n",
      "[40]\tvalidation_0-rmse:0.88533\n",
      "[41]\tvalidation_0-rmse:0.88542\n",
      "[42]\tvalidation_0-rmse:0.88558\n",
      "[43]\tvalidation_0-rmse:0.88563\n",
      "[44]\tvalidation_0-rmse:0.88523\n",
      "[45]\tvalidation_0-rmse:0.88540\n",
      "[46]\tvalidation_0-rmse:0.88530\n",
      "[47]\tvalidation_0-rmse:0.88542\n",
      "[48]\tvalidation_0-rmse:0.88558\n",
      "[49]\tvalidation_0-rmse:0.88541\n",
      "[50]\tvalidation_0-rmse:0.88529\n",
      "[51]\tvalidation_0-rmse:0.88522\n",
      "[52]\tvalidation_0-rmse:0.88501\n",
      "[53]\tvalidation_0-rmse:0.88476\n",
      "[54]\tvalidation_0-rmse:0.88396\n",
      "[55]\tvalidation_0-rmse:0.88388\n",
      "[56]\tvalidation_0-rmse:0.88397\n",
      "[57]\tvalidation_0-rmse:0.88393\n",
      "[58]\tvalidation_0-rmse:0.88372\n",
      "[59]\tvalidation_0-rmse:0.88380\n",
      "[60]\tvalidation_0-rmse:0.88373\n",
      "[61]\tvalidation_0-rmse:0.88348\n",
      "[62]\tvalidation_0-rmse:0.88349\n",
      "[63]\tvalidation_0-rmse:0.88385\n",
      "[64]\tvalidation_0-rmse:0.88373\n",
      "[65]\tvalidation_0-rmse:0.88352\n",
      "[66]\tvalidation_0-rmse:0.88337\n",
      "[67]\tvalidation_0-rmse:0.88305\n",
      "[68]\tvalidation_0-rmse:0.88274\n",
      "[69]\tvalidation_0-rmse:0.88266\n",
      "[70]\tvalidation_0-rmse:0.88261\n",
      "[71]\tvalidation_0-rmse:0.88251\n",
      "[72]\tvalidation_0-rmse:0.88268\n",
      "[73]\tvalidation_0-rmse:0.88229\n",
      "[74]\tvalidation_0-rmse:0.88211\n",
      "[75]\tvalidation_0-rmse:0.88194\n",
      "[76]\tvalidation_0-rmse:0.88167\n",
      "[77]\tvalidation_0-rmse:0.88127\n",
      "[78]\tvalidation_0-rmse:0.88123\n",
      "[79]\tvalidation_0-rmse:0.88098\n",
      "[80]\tvalidation_0-rmse:0.88093\n",
      "[81]\tvalidation_0-rmse:0.88080\n",
      "[82]\tvalidation_0-rmse:0.88080\n",
      "[83]\tvalidation_0-rmse:0.88048\n",
      "[84]\tvalidation_0-rmse:0.88006\n",
      "[85]\tvalidation_0-rmse:0.88004\n",
      "[86]\tvalidation_0-rmse:0.87984\n",
      "[87]\tvalidation_0-rmse:0.87973\n",
      "[88]\tvalidation_0-rmse:0.87963\n",
      "[89]\tvalidation_0-rmse:0.87995\n",
      "[90]\tvalidation_0-rmse:0.87982\n",
      "[91]\tvalidation_0-rmse:0.87963\n",
      "[92]\tvalidation_0-rmse:0.87955\n",
      "[93]\tvalidation_0-rmse:0.87961\n",
      "[94]\tvalidation_0-rmse:0.87945\n",
      "[95]\tvalidation_0-rmse:0.87944\n",
      "[96]\tvalidation_0-rmse:0.87942\n",
      "[97]\tvalidation_0-rmse:0.87938\n",
      "[98]\tvalidation_0-rmse:0.87935\n",
      "[99]\tvalidation_0-rmse:0.87925\n",
      "[100]\tvalidation_0-rmse:0.87927\n",
      "[101]\tvalidation_0-rmse:0.87919\n",
      "[102]\tvalidation_0-rmse:0.87901\n",
      "[103]\tvalidation_0-rmse:0.87909\n",
      "[104]\tvalidation_0-rmse:0.87902\n",
      "[105]\tvalidation_0-rmse:0.87882\n",
      "[106]\tvalidation_0-rmse:0.87892\n",
      "[107]\tvalidation_0-rmse:0.87892\n",
      "[108]\tvalidation_0-rmse:0.87894\n",
      "[109]\tvalidation_0-rmse:0.87901\n",
      "[110]\tvalidation_0-rmse:0.87914\n",
      "[111]\tvalidation_0-rmse:0.87906\n",
      "[112]\tvalidation_0-rmse:0.87891\n",
      "[113]\tvalidation_0-rmse:0.87890\n",
      "[114]\tvalidation_0-rmse:0.87858\n",
      "[115]\tvalidation_0-rmse:0.87849\n",
      "[116]\tvalidation_0-rmse:0.87858\n",
      "[117]\tvalidation_0-rmse:0.87861\n",
      "[118]\tvalidation_0-rmse:0.87844\n",
      "[119]\tvalidation_0-rmse:0.87836\n",
      "[120]\tvalidation_0-rmse:0.87836\n",
      "[121]\tvalidation_0-rmse:0.87829\n",
      "[122]\tvalidation_0-rmse:0.87826\n",
      "[123]\tvalidation_0-rmse:0.87824\n",
      "[124]\tvalidation_0-rmse:0.87653\n",
      "[125]\tvalidation_0-rmse:0.87665\n",
      "[126]\tvalidation_0-rmse:0.87636\n",
      "[127]\tvalidation_0-rmse:0.87630\n",
      "[128]\tvalidation_0-rmse:0.87622\n",
      "[129]\tvalidation_0-rmse:0.87610\n",
      "[130]\tvalidation_0-rmse:0.87603\n",
      "[131]\tvalidation_0-rmse:0.87604\n",
      "[132]\tvalidation_0-rmse:0.87588\n",
      "[133]\tvalidation_0-rmse:0.87578\n",
      "[134]\tvalidation_0-rmse:0.87562\n",
      "[135]\tvalidation_0-rmse:0.87535\n",
      "[136]\tvalidation_0-rmse:0.87535\n",
      "[137]\tvalidation_0-rmse:0.87523\n",
      "[138]\tvalidation_0-rmse:0.87514\n",
      "[139]\tvalidation_0-rmse:0.87510\n",
      "[140]\tvalidation_0-rmse:0.87513\n",
      "[141]\tvalidation_0-rmse:0.87478\n",
      "[142]\tvalidation_0-rmse:0.87468\n",
      "[143]\tvalidation_0-rmse:0.87460\n",
      "[144]\tvalidation_0-rmse:0.87457\n",
      "[145]\tvalidation_0-rmse:0.87453\n",
      "[146]\tvalidation_0-rmse:0.87462\n",
      "[147]\tvalidation_0-rmse:0.87454\n",
      "[148]\tvalidation_0-rmse:0.87458\n",
      "[149]\tvalidation_0-rmse:0.87443\n",
      "[150]\tvalidation_0-rmse:0.87442\n",
      "[151]\tvalidation_0-rmse:0.87420\n",
      "[152]\tvalidation_0-rmse:0.87412\n",
      "[153]\tvalidation_0-rmse:0.87411\n",
      "[154]\tvalidation_0-rmse:0.87407\n",
      "[155]\tvalidation_0-rmse:0.87408\n",
      "[156]\tvalidation_0-rmse:0.87327\n",
      "[157]\tvalidation_0-rmse:0.87315\n",
      "[158]\tvalidation_0-rmse:0.87304\n",
      "[159]\tvalidation_0-rmse:0.87308\n",
      "[160]\tvalidation_0-rmse:0.87309\n",
      "[161]\tvalidation_0-rmse:0.87289\n",
      "[162]\tvalidation_0-rmse:0.87248\n",
      "[163]\tvalidation_0-rmse:0.87246\n",
      "[164]\tvalidation_0-rmse:0.87250\n",
      "[165]\tvalidation_0-rmse:0.87249\n",
      "[166]\tvalidation_0-rmse:0.87234\n",
      "[167]\tvalidation_0-rmse:0.87223\n",
      "[168]\tvalidation_0-rmse:0.87215\n",
      "[169]\tvalidation_0-rmse:0.87209\n",
      "[170]\tvalidation_0-rmse:0.87145\n",
      "[171]\tvalidation_0-rmse:0.87154\n",
      "[172]\tvalidation_0-rmse:0.87151\n",
      "[173]\tvalidation_0-rmse:0.87148\n",
      "[174]\tvalidation_0-rmse:0.87133\n",
      "[175]\tvalidation_0-rmse:0.87123\n",
      "[176]\tvalidation_0-rmse:0.87117\n",
      "[177]\tvalidation_0-rmse:0.87111\n",
      "[178]\tvalidation_0-rmse:0.87110\n",
      "[179]\tvalidation_0-rmse:0.87097\n",
      "[180]\tvalidation_0-rmse:0.87100\n",
      "[181]\tvalidation_0-rmse:0.87094\n",
      "[182]\tvalidation_0-rmse:0.87095\n",
      "[183]\tvalidation_0-rmse:0.87092\n",
      "[184]\tvalidation_0-rmse:0.87098\n",
      "[185]\tvalidation_0-rmse:0.87094\n",
      "[186]\tvalidation_0-rmse:0.87027\n",
      "[187]\tvalidation_0-rmse:0.87013\n",
      "[188]\tvalidation_0-rmse:0.87008\n",
      "[189]\tvalidation_0-rmse:0.86997\n",
      "[190]\tvalidation_0-rmse:0.86986\n",
      "[191]\tvalidation_0-rmse:0.86958\n",
      "[192]\tvalidation_0-rmse:0.86957\n",
      "[193]\tvalidation_0-rmse:0.86964\n",
      "[194]\tvalidation_0-rmse:0.86955\n",
      "[195]\tvalidation_0-rmse:0.86948\n",
      "[196]\tvalidation_0-rmse:0.86941\n",
      "[197]\tvalidation_0-rmse:0.86937\n",
      "[198]\tvalidation_0-rmse:0.86936\n",
      "[199]\tvalidation_0-rmse:0.86940\n",
      "[200]\tvalidation_0-rmse:0.86937\n",
      "[201]\tvalidation_0-rmse:0.86939\n",
      "[202]\tvalidation_0-rmse:0.86936\n",
      "[203]\tvalidation_0-rmse:0.86928\n",
      "[204]\tvalidation_0-rmse:0.86917\n",
      "[205]\tvalidation_0-rmse:0.86918\n",
      "[206]\tvalidation_0-rmse:0.86914\n",
      "[207]\tvalidation_0-rmse:0.86907\n",
      "[208]\tvalidation_0-rmse:0.86907\n",
      "[209]\tvalidation_0-rmse:0.86901\n",
      "[210]\tvalidation_0-rmse:0.86896\n",
      "[211]\tvalidation_0-rmse:0.86911\n",
      "[212]\tvalidation_0-rmse:0.86910\n",
      "[213]\tvalidation_0-rmse:0.86903\n",
      "[214]\tvalidation_0-rmse:0.86900\n",
      "[215]\tvalidation_0-rmse:0.86888\n",
      "[216]\tvalidation_0-rmse:0.86885\n",
      "[217]\tvalidation_0-rmse:0.86890\n",
      "[218]\tvalidation_0-rmse:0.86872\n",
      "[219]\tvalidation_0-rmse:0.86873\n",
      "[220]\tvalidation_0-rmse:0.86870\n",
      "[221]\tvalidation_0-rmse:0.86864\n",
      "[222]\tvalidation_0-rmse:0.86853\n",
      "[223]\tvalidation_0-rmse:0.86869\n"
     ]
    },
    {
     "name": "stdout",
     "output_type": "stream",
     "text": [
      "[224]\tvalidation_0-rmse:0.86881\n",
      "[225]\tvalidation_0-rmse:0.86835\n",
      "[226]\tvalidation_0-rmse:0.86843\n",
      "[227]\tvalidation_0-rmse:0.86850\n",
      "[228]\tvalidation_0-rmse:0.86855\n",
      "[229]\tvalidation_0-rmse:0.86898\n",
      "[230]\tvalidation_0-rmse:0.86889\n",
      "[231]\tvalidation_0-rmse:0.86878\n",
      "[232]\tvalidation_0-rmse:0.86883\n",
      "[233]\tvalidation_0-rmse:0.86877\n",
      "[234]\tvalidation_0-rmse:0.86880\n",
      "[235]\tvalidation_0-rmse:0.86866\n",
      "[236]\tvalidation_0-rmse:0.86868\n",
      "[237]\tvalidation_0-rmse:0.86865\n",
      "[238]\tvalidation_0-rmse:0.86851\n",
      "[239]\tvalidation_0-rmse:0.86837\n",
      "[240]\tvalidation_0-rmse:0.86820\n",
      "[241]\tvalidation_0-rmse:0.86813\n",
      "[242]\tvalidation_0-rmse:0.86806\n",
      "[243]\tvalidation_0-rmse:0.86805\n",
      "[244]\tvalidation_0-rmse:0.86790\n",
      "[245]\tvalidation_0-rmse:0.86791\n",
      "[246]\tvalidation_0-rmse:0.86788\n",
      "[247]\tvalidation_0-rmse:0.86785\n",
      "[248]\tvalidation_0-rmse:0.86773\n",
      "[249]\tvalidation_0-rmse:0.86770\n",
      "[250]\tvalidation_0-rmse:0.86770\n",
      "[251]\tvalidation_0-rmse:0.86757\n",
      "[252]\tvalidation_0-rmse:0.86748\n",
      "[253]\tvalidation_0-rmse:0.86745\n",
      "[254]\tvalidation_0-rmse:0.86741\n",
      "[255]\tvalidation_0-rmse:0.86751\n",
      "[256]\tvalidation_0-rmse:0.86748\n",
      "[257]\tvalidation_0-rmse:0.86743\n",
      "[258]\tvalidation_0-rmse:0.86737\n",
      "[259]\tvalidation_0-rmse:0.86736\n",
      "[260]\tvalidation_0-rmse:0.86763\n",
      "[261]\tvalidation_0-rmse:0.86757\n",
      "[262]\tvalidation_0-rmse:0.86755\n",
      "[263]\tvalidation_0-rmse:0.86753\n",
      "[264]\tvalidation_0-rmse:0.86753\n",
      "[265]\tvalidation_0-rmse:0.86750\n",
      "[266]\tvalidation_0-rmse:0.86741\n",
      "[267]\tvalidation_0-rmse:0.86744\n",
      "[268]\tvalidation_0-rmse:0.86738\n",
      "[269]\tvalidation_0-rmse:0.86736\n",
      "[270]\tvalidation_0-rmse:0.86743\n",
      "[271]\tvalidation_0-rmse:0.86742\n",
      "[272]\tvalidation_0-rmse:0.86723\n",
      "[273]\tvalidation_0-rmse:0.86720\n",
      "[274]\tvalidation_0-rmse:0.86728\n",
      "[275]\tvalidation_0-rmse:0.86725\n",
      "[276]\tvalidation_0-rmse:0.86724\n",
      "[277]\tvalidation_0-rmse:0.86721\n",
      "[278]\tvalidation_0-rmse:0.86720\n",
      "[279]\tvalidation_0-rmse:0.86726\n",
      "[280]\tvalidation_0-rmse:0.86720\n",
      "[281]\tvalidation_0-rmse:0.86719\n",
      "[282]\tvalidation_0-rmse:0.86714\n",
      "[283]\tvalidation_0-rmse:0.86736\n",
      "[284]\tvalidation_0-rmse:0.86752\n",
      "[285]\tvalidation_0-rmse:0.86761\n",
      "[286]\tvalidation_0-rmse:0.86759\n",
      "[287]\tvalidation_0-rmse:0.86757\n",
      "[288]\tvalidation_0-rmse:0.86755\n",
      "[289]\tvalidation_0-rmse:0.86747\n",
      "[290]\tvalidation_0-rmse:0.86746\n",
      "[291]\tvalidation_0-rmse:0.86730\n",
      "[292]\tvalidation_0-rmse:0.86726\n",
      "[293]\tvalidation_0-rmse:0.86724\n",
      "[294]\tvalidation_0-rmse:0.86719\n",
      "[295]\tvalidation_0-rmse:0.86707\n",
      "[296]\tvalidation_0-rmse:0.86713\n",
      "[297]\tvalidation_0-rmse:0.86727\n",
      "[298]\tvalidation_0-rmse:0.86719\n",
      "[299]\tvalidation_0-rmse:0.86718\n",
      "[300]\tvalidation_0-rmse:0.86713\n",
      "[301]\tvalidation_0-rmse:0.86714\n",
      "[302]\tvalidation_0-rmse:0.86715\n",
      "[303]\tvalidation_0-rmse:0.86712\n",
      "[304]\tvalidation_0-rmse:0.86698\n",
      "[305]\tvalidation_0-rmse:0.86693\n",
      "[306]\tvalidation_0-rmse:0.86689\n",
      "[307]\tvalidation_0-rmse:0.86687\n",
      "[308]\tvalidation_0-rmse:0.86687\n",
      "[309]\tvalidation_0-rmse:0.86690\n",
      "[310]\tvalidation_0-rmse:0.86682\n",
      "[311]\tvalidation_0-rmse:0.86681\n",
      "[312]\tvalidation_0-rmse:0.86670\n",
      "[313]\tvalidation_0-rmse:0.86656\n",
      "[314]\tvalidation_0-rmse:0.86645\n",
      "[315]\tvalidation_0-rmse:0.86691\n",
      "[316]\tvalidation_0-rmse:0.86707\n",
      "[317]\tvalidation_0-rmse:0.86686\n",
      "[318]\tvalidation_0-rmse:0.86714\n",
      "[319]\tvalidation_0-rmse:0.86714\n",
      "[320]\tvalidation_0-rmse:0.86710\n",
      "[321]\tvalidation_0-rmse:0.86713\n",
      "[322]\tvalidation_0-rmse:0.86715\n",
      "[323]\tvalidation_0-rmse:0.86716\n",
      "[324]\tvalidation_0-rmse:0.86713\n",
      "[325]\tvalidation_0-rmse:0.86719\n",
      "[326]\tvalidation_0-rmse:0.86712\n",
      "[327]\tvalidation_0-rmse:0.86711\n",
      "[328]\tvalidation_0-rmse:0.86699\n",
      "[329]\tvalidation_0-rmse:0.86699\n",
      "[330]\tvalidation_0-rmse:0.86711\n",
      "[331]\tvalidation_0-rmse:0.86707\n",
      "[332]\tvalidation_0-rmse:0.86709\n",
      "[333]\tvalidation_0-rmse:0.86709\n",
      "model saving.....\n",
      "Training Loss when max_depth=4 and min_child_weight=100 is 0.7214778661727905 \n",
      "Validation Loss when max_depth=4 and min_child_weight=100 is 0.8663529753684998 \n",
      "--------------------------------------------------\n",
      "Tuning parameter subsamle and cosample_bytree\n",
      "set subsamle = 6 and cosample_bytree = 1\n",
      "[13:03:34] WARNING: C:\\Users\\dev-admin\\croot2\\xgboost-split_1675461376218\\work\\src\\learner.cc:767: \n",
      "Parameters: { \"verbose\" } are not used.\n",
      "\n",
      "[0]\tvalidation_0-rmse:1.07358\n",
      "[1]\tvalidation_0-rmse:1.03730\n",
      "[2]\tvalidation_0-rmse:1.00839\n",
      "[3]\tvalidation_0-rmse:0.98345\n",
      "[4]\tvalidation_0-rmse:0.96392\n",
      "[5]\tvalidation_0-rmse:0.94757\n",
      "[6]\tvalidation_0-rmse:0.93385\n",
      "[7]\tvalidation_0-rmse:0.92258\n",
      "[8]\tvalidation_0-rmse:0.91323\n",
      "[9]\tvalidation_0-rmse:0.90635\n",
      "[10]\tvalidation_0-rmse:0.90055\n",
      "[11]\tvalidation_0-rmse:0.89609\n",
      "[12]\tvalidation_0-rmse:0.89235\n",
      "[13]\tvalidation_0-rmse:0.88959\n",
      "[14]\tvalidation_0-rmse:0.88727\n",
      "[15]\tvalidation_0-rmse:0.88536\n",
      "[16]\tvalidation_0-rmse:0.88393\n",
      "[17]\tvalidation_0-rmse:0.88260\n",
      "[18]\tvalidation_0-rmse:0.88172\n",
      "[19]\tvalidation_0-rmse:0.88102\n",
      "[20]\tvalidation_0-rmse:0.88031\n",
      "[21]\tvalidation_0-rmse:0.87942\n",
      "[22]\tvalidation_0-rmse:0.87901\n",
      "[23]\tvalidation_0-rmse:0.87867\n",
      "[24]\tvalidation_0-rmse:0.87816\n",
      "[25]\tvalidation_0-rmse:0.87765\n",
      "[26]\tvalidation_0-rmse:0.87721\n",
      "[27]\tvalidation_0-rmse:0.87671\n",
      "[28]\tvalidation_0-rmse:0.87631\n",
      "[29]\tvalidation_0-rmse:0.87599\n",
      "[30]\tvalidation_0-rmse:0.87597\n",
      "[31]\tvalidation_0-rmse:0.87577\n",
      "[32]\tvalidation_0-rmse:0.87535\n",
      "[33]\tvalidation_0-rmse:0.87532\n",
      "[34]\tvalidation_0-rmse:0.87486\n",
      "[35]\tvalidation_0-rmse:0.87489\n",
      "[36]\tvalidation_0-rmse:0.87487\n",
      "[37]\tvalidation_0-rmse:0.87522\n",
      "[38]\tvalidation_0-rmse:0.87509\n",
      "[39]\tvalidation_0-rmse:0.87500\n",
      "[40]\tvalidation_0-rmse:0.87507\n",
      "[41]\tvalidation_0-rmse:0.87500\n",
      "[42]\tvalidation_0-rmse:0.87490\n",
      "[43]\tvalidation_0-rmse:0.87504\n",
      "[44]\tvalidation_0-rmse:0.87481\n",
      "[45]\tvalidation_0-rmse:0.87455\n",
      "[46]\tvalidation_0-rmse:0.87446\n",
      "[47]\tvalidation_0-rmse:0.87436\n",
      "[48]\tvalidation_0-rmse:0.87438\n",
      "[49]\tvalidation_0-rmse:0.87423\n",
      "[50]\tvalidation_0-rmse:0.87417\n",
      "[51]\tvalidation_0-rmse:0.87410\n",
      "[52]\tvalidation_0-rmse:0.87391\n",
      "[53]\tvalidation_0-rmse:0.87405\n",
      "[54]\tvalidation_0-rmse:0.87405\n",
      "[55]\tvalidation_0-rmse:0.87370\n",
      "[56]\tvalidation_0-rmse:0.87373\n",
      "[57]\tvalidation_0-rmse:0.87364\n",
      "[58]\tvalidation_0-rmse:0.87362\n",
      "[59]\tvalidation_0-rmse:0.87348\n",
      "[60]\tvalidation_0-rmse:0.87324\n",
      "[61]\tvalidation_0-rmse:0.87306\n",
      "[62]\tvalidation_0-rmse:0.87312\n",
      "[63]\tvalidation_0-rmse:0.87310\n",
      "[64]\tvalidation_0-rmse:0.87345\n",
      "[65]\tvalidation_0-rmse:0.87300\n",
      "[66]\tvalidation_0-rmse:0.87314\n",
      "[67]\tvalidation_0-rmse:0.87253\n",
      "[68]\tvalidation_0-rmse:0.87240\n",
      "[69]\tvalidation_0-rmse:0.87239\n",
      "[70]\tvalidation_0-rmse:0.87207\n",
      "[71]\tvalidation_0-rmse:0.87214\n",
      "[72]\tvalidation_0-rmse:0.87201\n",
      "[73]\tvalidation_0-rmse:0.87205\n",
      "[74]\tvalidation_0-rmse:0.87198\n",
      "[75]\tvalidation_0-rmse:0.87384\n",
      "[76]\tvalidation_0-rmse:0.87380\n",
      "[77]\tvalidation_0-rmse:0.87371\n",
      "[78]\tvalidation_0-rmse:0.87366\n",
      "[79]\tvalidation_0-rmse:0.87366\n",
      "[80]\tvalidation_0-rmse:0.87393\n",
      "[81]\tvalidation_0-rmse:0.87391\n",
      "[82]\tvalidation_0-rmse:0.87396\n",
      "[83]\tvalidation_0-rmse:0.87365\n",
      "[84]\tvalidation_0-rmse:0.87361\n",
      "[85]\tvalidation_0-rmse:0.87373\n",
      "[86]\tvalidation_0-rmse:0.87359\n",
      "[87]\tvalidation_0-rmse:0.87350\n",
      "[88]\tvalidation_0-rmse:0.87356\n",
      "[89]\tvalidation_0-rmse:0.87339\n",
      "[90]\tvalidation_0-rmse:0.87320\n",
      "[91]\tvalidation_0-rmse:0.87315\n",
      "[92]\tvalidation_0-rmse:0.87310\n",
      "[93]\tvalidation_0-rmse:0.87291\n",
      "[94]\tvalidation_0-rmse:0.87279\n",
      "Training Loss when max_depth=6 and min_child_weight=1 is 0.7191706895828247 \n",
      "Validation Loss when max_depth=6 and min_child_weight=1 is 0.8719663619995117 \n",
      "--------------------------------------------------\n",
      "Tuning parameter subsamle and cosample_bytree\n",
      "set subsamle = 6 and cosample_bytree = 10\n",
      "[13:05:41] WARNING: C:\\Users\\dev-admin\\croot2\\xgboost-split_1675461376218\\work\\src\\learner.cc:767: \n",
      "Parameters: { \"verbose\" } are not used.\n",
      "\n",
      "[0]\tvalidation_0-rmse:1.07359\n",
      "[1]\tvalidation_0-rmse:1.03731\n",
      "[2]\tvalidation_0-rmse:1.00839\n",
      "[3]\tvalidation_0-rmse:0.98346\n",
      "[4]\tvalidation_0-rmse:0.96391\n",
      "[5]\tvalidation_0-rmse:0.94794\n",
      "[6]\tvalidation_0-rmse:0.93412\n",
      "[7]\tvalidation_0-rmse:0.92328\n",
      "[8]\tvalidation_0-rmse:0.91417\n",
      "[9]\tvalidation_0-rmse:0.90766\n",
      "[10]\tvalidation_0-rmse:0.90165\n",
      "[11]\tvalidation_0-rmse:0.89692\n",
      "[12]\tvalidation_0-rmse:0.89339\n",
      "[13]\tvalidation_0-rmse:0.89037\n",
      "[14]\tvalidation_0-rmse:0.88783\n",
      "[15]\tvalidation_0-rmse:0.88592\n",
      "[16]\tvalidation_0-rmse:0.88431\n",
      "[17]\tvalidation_0-rmse:0.88311\n",
      "[18]\tvalidation_0-rmse:0.88244\n",
      "[19]\tvalidation_0-rmse:0.88168\n",
      "[20]\tvalidation_0-rmse:0.88071\n",
      "[21]\tvalidation_0-rmse:0.88018\n",
      "[22]\tvalidation_0-rmse:0.87972\n",
      "[23]\tvalidation_0-rmse:0.87933\n",
      "[24]\tvalidation_0-rmse:0.87871\n",
      "[25]\tvalidation_0-rmse:0.87832\n",
      "[26]\tvalidation_0-rmse:0.87794\n",
      "[27]\tvalidation_0-rmse:0.87756\n"
     ]
    },
    {
     "name": "stdout",
     "output_type": "stream",
     "text": [
      "[28]\tvalidation_0-rmse:0.87720\n",
      "[29]\tvalidation_0-rmse:0.87686\n",
      "[30]\tvalidation_0-rmse:0.87675\n",
      "[31]\tvalidation_0-rmse:0.87653\n",
      "[32]\tvalidation_0-rmse:0.87683\n",
      "[33]\tvalidation_0-rmse:0.87681\n",
      "[34]\tvalidation_0-rmse:0.87666\n",
      "[35]\tvalidation_0-rmse:0.87670\n",
      "[36]\tvalidation_0-rmse:0.87630\n",
      "[37]\tvalidation_0-rmse:0.87634\n",
      "[38]\tvalidation_0-rmse:0.87648\n",
      "[39]\tvalidation_0-rmse:0.87604\n",
      "[40]\tvalidation_0-rmse:0.87574\n",
      "[41]\tvalidation_0-rmse:0.87591\n",
      "[42]\tvalidation_0-rmse:0.87636\n",
      "[43]\tvalidation_0-rmse:0.87629\n",
      "[44]\tvalidation_0-rmse:0.87602\n",
      "[45]\tvalidation_0-rmse:0.87591\n",
      "[46]\tvalidation_0-rmse:0.87583\n",
      "[47]\tvalidation_0-rmse:0.87564\n",
      "[48]\tvalidation_0-rmse:0.87555\n",
      "[49]\tvalidation_0-rmse:0.87523\n",
      "[50]\tvalidation_0-rmse:0.87459\n",
      "[51]\tvalidation_0-rmse:0.87456\n",
      "[52]\tvalidation_0-rmse:0.87464\n",
      "[53]\tvalidation_0-rmse:0.87415\n",
      "[54]\tvalidation_0-rmse:0.87416\n",
      "[55]\tvalidation_0-rmse:0.87419\n",
      "[56]\tvalidation_0-rmse:0.87421\n",
      "[57]\tvalidation_0-rmse:0.87412\n",
      "[58]\tvalidation_0-rmse:0.87375\n",
      "[59]\tvalidation_0-rmse:0.87387\n",
      "[60]\tvalidation_0-rmse:0.87322\n",
      "[61]\tvalidation_0-rmse:0.87318\n",
      "[62]\tvalidation_0-rmse:0.87313\n",
      "[63]\tvalidation_0-rmse:0.87335\n",
      "[64]\tvalidation_0-rmse:0.87329\n",
      "[65]\tvalidation_0-rmse:0.87304\n",
      "[66]\tvalidation_0-rmse:0.87317\n",
      "[67]\tvalidation_0-rmse:0.87309\n",
      "[68]\tvalidation_0-rmse:0.87308\n",
      "[69]\tvalidation_0-rmse:0.87292\n",
      "[70]\tvalidation_0-rmse:0.87265\n",
      "[71]\tvalidation_0-rmse:0.87260\n",
      "[72]\tvalidation_0-rmse:0.87209\n",
      "[73]\tvalidation_0-rmse:0.87185\n",
      "[74]\tvalidation_0-rmse:0.87166\n",
      "[75]\tvalidation_0-rmse:0.87150\n",
      "[76]\tvalidation_0-rmse:0.87144\n",
      "[77]\tvalidation_0-rmse:0.87163\n",
      "[78]\tvalidation_0-rmse:0.87163\n",
      "[79]\tvalidation_0-rmse:0.87153\n",
      "[80]\tvalidation_0-rmse:0.87103\n",
      "[81]\tvalidation_0-rmse:0.87093\n",
      "[82]\tvalidation_0-rmse:0.87100\n",
      "[83]\tvalidation_0-rmse:0.87088\n",
      "[84]\tvalidation_0-rmse:0.87075\n",
      "[85]\tvalidation_0-rmse:0.87057\n",
      "[86]\tvalidation_0-rmse:0.87047\n",
      "[87]\tvalidation_0-rmse:0.87041\n",
      "[88]\tvalidation_0-rmse:0.87009\n",
      "[89]\tvalidation_0-rmse:0.87029\n",
      "[90]\tvalidation_0-rmse:0.87031\n",
      "[91]\tvalidation_0-rmse:0.87017\n",
      "[92]\tvalidation_0-rmse:0.87052\n",
      "[93]\tvalidation_0-rmse:0.87040\n",
      "[94]\tvalidation_0-rmse:0.86972\n",
      "[95]\tvalidation_0-rmse:0.86953\n",
      "[96]\tvalidation_0-rmse:0.86946\n",
      "[97]\tvalidation_0-rmse:0.86923\n",
      "[98]\tvalidation_0-rmse:0.86925\n",
      "[99]\tvalidation_0-rmse:0.86909\n",
      "[100]\tvalidation_0-rmse:0.86891\n",
      "[101]\tvalidation_0-rmse:0.86893\n",
      "[102]\tvalidation_0-rmse:0.86882\n",
      "[103]\tvalidation_0-rmse:0.86876\n",
      "[104]\tvalidation_0-rmse:0.86869\n",
      "[105]\tvalidation_0-rmse:0.86864\n",
      "[106]\tvalidation_0-rmse:0.86841\n",
      "[107]\tvalidation_0-rmse:0.87040\n",
      "[108]\tvalidation_0-rmse:0.87060\n",
      "[109]\tvalidation_0-rmse:0.87067\n",
      "[110]\tvalidation_0-rmse:0.87054\n",
      "[111]\tvalidation_0-rmse:0.87071\n",
      "[112]\tvalidation_0-rmse:0.87046\n",
      "[113]\tvalidation_0-rmse:0.87062\n",
      "[114]\tvalidation_0-rmse:0.87056\n",
      "[115]\tvalidation_0-rmse:0.87043\n",
      "[116]\tvalidation_0-rmse:0.87044\n",
      "[117]\tvalidation_0-rmse:0.87040\n",
      "[118]\tvalidation_0-rmse:0.87037\n",
      "[119]\tvalidation_0-rmse:0.87128\n",
      "[120]\tvalidation_0-rmse:0.87063\n",
      "[121]\tvalidation_0-rmse:0.87039\n",
      "[122]\tvalidation_0-rmse:0.87049\n",
      "[123]\tvalidation_0-rmse:0.87054\n",
      "[124]\tvalidation_0-rmse:0.87046\n",
      "[125]\tvalidation_0-rmse:0.87038\n",
      "[126]\tvalidation_0-rmse:0.87039\n",
      "Training Loss when max_depth=6 and min_child_weight=10 is 0.7111870646476746 \n",
      "Validation Loss when max_depth=6 and min_child_weight=10 is 0.8683550953865051 \n",
      "--------------------------------------------------\n",
      "Tuning parameter subsamle and cosample_bytree\n",
      "set subsamle = 6 and cosample_bytree = 100\n",
      "[13:08:22] WARNING: C:\\Users\\dev-admin\\croot2\\xgboost-split_1675461376218\\work\\src\\learner.cc:767: \n",
      "Parameters: { \"verbose\" } are not used.\n",
      "\n",
      "[0]\tvalidation_0-rmse:1.07316\n",
      "[1]\tvalidation_0-rmse:1.03665\n",
      "[2]\tvalidation_0-rmse:1.00773\n",
      "[3]\tvalidation_0-rmse:0.98251\n",
      "[4]\tvalidation_0-rmse:0.96313\n",
      "[5]\tvalidation_0-rmse:0.94704\n",
      "[6]\tvalidation_0-rmse:0.93331\n",
      "[7]\tvalidation_0-rmse:0.92264\n",
      "[8]\tvalidation_0-rmse:0.91385\n",
      "[9]\tvalidation_0-rmse:0.90660\n",
      "[10]\tvalidation_0-rmse:0.90105\n",
      "[11]\tvalidation_0-rmse:0.89641\n",
      "[12]\tvalidation_0-rmse:0.89251\n",
      "[13]\tvalidation_0-rmse:0.88910\n",
      "[14]\tvalidation_0-rmse:0.88689\n",
      "[15]\tvalidation_0-rmse:0.88484\n",
      "[16]\tvalidation_0-rmse:0.88303\n",
      "[17]\tvalidation_0-rmse:0.88148\n",
      "[18]\tvalidation_0-rmse:0.88116\n",
      "[19]\tvalidation_0-rmse:0.88035\n",
      "[20]\tvalidation_0-rmse:0.87962\n",
      "[21]\tvalidation_0-rmse:0.87887\n",
      "[22]\tvalidation_0-rmse:0.87840\n",
      "[23]\tvalidation_0-rmse:0.87832\n",
      "[24]\tvalidation_0-rmse:0.87795\n",
      "[25]\tvalidation_0-rmse:0.87744\n",
      "[26]\tvalidation_0-rmse:0.87746\n",
      "[27]\tvalidation_0-rmse:0.87708\n",
      "[28]\tvalidation_0-rmse:0.87671\n",
      "[29]\tvalidation_0-rmse:0.87667\n",
      "[30]\tvalidation_0-rmse:0.87664\n",
      "[31]\tvalidation_0-rmse:0.87685\n",
      "[32]\tvalidation_0-rmse:0.87681\n",
      "[33]\tvalidation_0-rmse:0.87712\n",
      "[34]\tvalidation_0-rmse:0.87732\n",
      "[35]\tvalidation_0-rmse:0.87749\n",
      "[36]\tvalidation_0-rmse:0.87753\n",
      "[37]\tvalidation_0-rmse:0.87767\n",
      "[38]\tvalidation_0-rmse:0.87728\n",
      "[39]\tvalidation_0-rmse:0.87721\n",
      "[40]\tvalidation_0-rmse:0.87711\n",
      "[41]\tvalidation_0-rmse:0.87730\n",
      "[42]\tvalidation_0-rmse:0.87742\n",
      "[43]\tvalidation_0-rmse:0.87731\n",
      "[44]\tvalidation_0-rmse:0.87730\n",
      "[45]\tvalidation_0-rmse:0.87735\n",
      "[46]\tvalidation_0-rmse:0.87746\n",
      "[47]\tvalidation_0-rmse:0.87735\n",
      "[48]\tvalidation_0-rmse:0.87743\n",
      "[49]\tvalidation_0-rmse:0.87733\n",
      "Training Loss when max_depth=6 and min_child_weight=100 is 0.7416090965270996 \n",
      "Validation Loss when max_depth=6 and min_child_weight=100 is 0.8766412138938904 \n",
      "--------------------------------------------------\n",
      "Tuning parameter subsamle and cosample_bytree\n",
      "set subsamle = 8 and cosample_bytree = 1\n",
      "[13:09:42] WARNING: C:\\Users\\dev-admin\\croot2\\xgboost-split_1675461376218\\work\\src\\learner.cc:767: \n",
      "Parameters: { \"verbose\" } are not used.\n",
      "\n",
      "[0]\tvalidation_0-rmse:1.07313\n",
      "[1]\tvalidation_0-rmse:1.03584\n",
      "[2]\tvalidation_0-rmse:1.00492\n",
      "[3]\tvalidation_0-rmse:0.97952\n",
      "[4]\tvalidation_0-rmse:0.95872\n",
      "[5]\tvalidation_0-rmse:0.94203\n",
      "[6]\tvalidation_0-rmse:0.92867\n",
      "[7]\tvalidation_0-rmse:0.91789\n",
      "[8]\tvalidation_0-rmse:0.90864\n",
      "[9]\tvalidation_0-rmse:0.90122\n",
      "[10]\tvalidation_0-rmse:0.89521\n",
      "[11]\tvalidation_0-rmse:0.89017\n",
      "[12]\tvalidation_0-rmse:0.88623\n",
      "[13]\tvalidation_0-rmse:0.88275\n",
      "[14]\tvalidation_0-rmse:0.88065\n",
      "[15]\tvalidation_0-rmse:0.87816\n",
      "[16]\tvalidation_0-rmse:0.87612\n",
      "[17]\tvalidation_0-rmse:0.87506\n",
      "[18]\tvalidation_0-rmse:0.87398\n",
      "[19]\tvalidation_0-rmse:0.87327\n",
      "[20]\tvalidation_0-rmse:0.87249\n",
      "[21]\tvalidation_0-rmse:0.87136\n",
      "[22]\tvalidation_0-rmse:0.87062\n",
      "[23]\tvalidation_0-rmse:0.87026\n",
      "[24]\tvalidation_0-rmse:0.86978\n",
      "[25]\tvalidation_0-rmse:0.86925\n",
      "[26]\tvalidation_0-rmse:0.86937\n",
      "[27]\tvalidation_0-rmse:0.86937\n",
      "[28]\tvalidation_0-rmse:0.86913\n",
      "[29]\tvalidation_0-rmse:0.86913\n",
      "[30]\tvalidation_0-rmse:0.86912\n",
      "[31]\tvalidation_0-rmse:0.86902\n",
      "[32]\tvalidation_0-rmse:0.86881\n",
      "[33]\tvalidation_0-rmse:0.86881\n",
      "[34]\tvalidation_0-rmse:0.86897\n",
      "[35]\tvalidation_0-rmse:0.86886\n",
      "[36]\tvalidation_0-rmse:0.86868\n",
      "[37]\tvalidation_0-rmse:0.86903\n",
      "[38]\tvalidation_0-rmse:0.86885\n",
      "[39]\tvalidation_0-rmse:0.86921\n",
      "[40]\tvalidation_0-rmse:0.86922\n",
      "[41]\tvalidation_0-rmse:0.86925\n",
      "[42]\tvalidation_0-rmse:0.86940\n",
      "[43]\tvalidation_0-rmse:0.86967\n",
      "[44]\tvalidation_0-rmse:0.86991\n",
      "[45]\tvalidation_0-rmse:0.87005\n",
      "[46]\tvalidation_0-rmse:0.87003\n",
      "[47]\tvalidation_0-rmse:0.86991\n",
      "[48]\tvalidation_0-rmse:0.86956\n",
      "[49]\tvalidation_0-rmse:0.86964\n",
      "[50]\tvalidation_0-rmse:0.86946\n",
      "[51]\tvalidation_0-rmse:0.86956\n",
      "[52]\tvalidation_0-rmse:0.86965\n",
      "[53]\tvalidation_0-rmse:0.86921\n",
      "[54]\tvalidation_0-rmse:0.86921\n",
      "[55]\tvalidation_0-rmse:0.86909\n",
      "[56]\tvalidation_0-rmse:0.87177\n",
      "Training Loss when max_depth=8 and min_child_weight=1 is 0.7096270322799683 \n",
      "Validation Loss when max_depth=8 and min_child_weight=1 is 0.8686753511428833 \n",
      "--------------------------------------------------\n",
      "Tuning parameter subsamle and cosample_bytree\n",
      "set subsamle = 8 and cosample_bytree = 10\n",
      "[13:11:34] WARNING: C:\\Users\\dev-admin\\croot2\\xgboost-split_1675461376218\\work\\src\\learner.cc:767: \n",
      "Parameters: { \"verbose\" } are not used.\n",
      "\n",
      "[0]\tvalidation_0-rmse:1.07303\n",
      "[1]\tvalidation_0-rmse:1.03573\n",
      "[2]\tvalidation_0-rmse:1.00499\n",
      "[3]\tvalidation_0-rmse:0.97955\n",
      "[4]\tvalidation_0-rmse:0.95879\n",
      "[5]\tvalidation_0-rmse:0.94221\n",
      "[6]\tvalidation_0-rmse:0.92862\n",
      "[7]\tvalidation_0-rmse:0.91747\n",
      "[8]\tvalidation_0-rmse:0.90813\n",
      "[9]\tvalidation_0-rmse:0.90056\n",
      "[10]\tvalidation_0-rmse:0.89424\n",
      "[11]\tvalidation_0-rmse:0.89005\n",
      "[12]\tvalidation_0-rmse:0.88619\n",
      "[13]\tvalidation_0-rmse:0.88301\n",
      "[14]\tvalidation_0-rmse:0.88005\n",
      "[15]\tvalidation_0-rmse:0.87812\n"
     ]
    },
    {
     "name": "stdout",
     "output_type": "stream",
     "text": [
      "[16]\tvalidation_0-rmse:0.87635\n",
      "[17]\tvalidation_0-rmse:0.87496\n",
      "[18]\tvalidation_0-rmse:0.87408\n",
      "[19]\tvalidation_0-rmse:0.87323\n",
      "[20]\tvalidation_0-rmse:0.87241\n",
      "[21]\tvalidation_0-rmse:0.87174\n",
      "[22]\tvalidation_0-rmse:0.87126\n",
      "[23]\tvalidation_0-rmse:0.87047\n",
      "[24]\tvalidation_0-rmse:0.87009\n",
      "[25]\tvalidation_0-rmse:0.87008\n",
      "[26]\tvalidation_0-rmse:0.86962\n",
      "[27]\tvalidation_0-rmse:0.86942\n",
      "[28]\tvalidation_0-rmse:0.86927\n",
      "[29]\tvalidation_0-rmse:0.86913\n",
      "[30]\tvalidation_0-rmse:0.86920\n",
      "[31]\tvalidation_0-rmse:0.86911\n",
      "[32]\tvalidation_0-rmse:0.86870\n",
      "[33]\tvalidation_0-rmse:0.86881\n",
      "[34]\tvalidation_0-rmse:0.86856\n",
      "[35]\tvalidation_0-rmse:0.86824\n",
      "[36]\tvalidation_0-rmse:0.86844\n",
      "[37]\tvalidation_0-rmse:0.86855\n",
      "[38]\tvalidation_0-rmse:0.86854\n",
      "[39]\tvalidation_0-rmse:0.86870\n",
      "[40]\tvalidation_0-rmse:0.86849\n",
      "[41]\tvalidation_0-rmse:0.86815\n",
      "[42]\tvalidation_0-rmse:0.86797\n",
      "[43]\tvalidation_0-rmse:0.86816\n",
      "[44]\tvalidation_0-rmse:0.86798\n",
      "[45]\tvalidation_0-rmse:0.86819\n",
      "[46]\tvalidation_0-rmse:0.86802\n",
      "[47]\tvalidation_0-rmse:0.86802\n",
      "[48]\tvalidation_0-rmse:0.86814\n",
      "[49]\tvalidation_0-rmse:0.86777\n",
      "[50]\tvalidation_0-rmse:0.86781\n",
      "[51]\tvalidation_0-rmse:0.86842\n",
      "[52]\tvalidation_0-rmse:0.86849\n",
      "[53]\tvalidation_0-rmse:0.86871\n",
      "[54]\tvalidation_0-rmse:0.86865\n",
      "[55]\tvalidation_0-rmse:0.86845\n",
      "[56]\tvalidation_0-rmse:0.86852\n",
      "[57]\tvalidation_0-rmse:0.86849\n",
      "[58]\tvalidation_0-rmse:0.86809\n",
      "[59]\tvalidation_0-rmse:0.86902\n",
      "[60]\tvalidation_0-rmse:0.87215\n",
      "[61]\tvalidation_0-rmse:0.87194\n",
      "[62]\tvalidation_0-rmse:0.87189\n",
      "[63]\tvalidation_0-rmse:0.87176\n",
      "[64]\tvalidation_0-rmse:0.87176\n",
      "[65]\tvalidation_0-rmse:0.87177\n",
      "[66]\tvalidation_0-rmse:0.87180\n",
      "[67]\tvalidation_0-rmse:0.87172\n",
      "[68]\tvalidation_0-rmse:0.87160\n",
      "Training Loss when max_depth=8 and min_child_weight=10 is 0.7021515369415283 \n",
      "Validation Loss when max_depth=8 and min_child_weight=10 is 0.8677611351013184 \n",
      "--------------------------------------------------\n",
      "Tuning parameter subsamle and cosample_bytree\n",
      "set subsamle = 8 and cosample_bytree = 100\n",
      "[13:13:44] WARNING: C:\\Users\\dev-admin\\croot2\\xgboost-split_1675461376218\\work\\src\\learner.cc:767: \n",
      "Parameters: { \"verbose\" } are not used.\n",
      "\n",
      "[0]\tvalidation_0-rmse:1.07235\n",
      "[1]\tvalidation_0-rmse:1.03496\n",
      "[2]\tvalidation_0-rmse:1.00409\n",
      "[3]\tvalidation_0-rmse:0.97861\n",
      "[4]\tvalidation_0-rmse:0.95829\n",
      "[5]\tvalidation_0-rmse:0.94196\n",
      "[6]\tvalidation_0-rmse:0.92895\n",
      "[7]\tvalidation_0-rmse:0.91776\n",
      "[8]\tvalidation_0-rmse:0.90904\n",
      "[9]\tvalidation_0-rmse:0.90183\n",
      "[10]\tvalidation_0-rmse:0.89611\n",
      "[11]\tvalidation_0-rmse:0.89007\n",
      "[12]\tvalidation_0-rmse:0.88679\n",
      "[13]\tvalidation_0-rmse:0.88374\n",
      "[14]\tvalidation_0-rmse:0.88122\n",
      "[15]\tvalidation_0-rmse:0.87897\n",
      "[16]\tvalidation_0-rmse:0.87725\n",
      "[17]\tvalidation_0-rmse:0.87601\n",
      "[18]\tvalidation_0-rmse:0.87504\n",
      "[19]\tvalidation_0-rmse:0.87424\n",
      "[20]\tvalidation_0-rmse:0.87339\n",
      "[21]\tvalidation_0-rmse:0.87299\n",
      "[22]\tvalidation_0-rmse:0.87252\n",
      "[23]\tvalidation_0-rmse:0.87204\n",
      "[24]\tvalidation_0-rmse:0.87175\n",
      "[25]\tvalidation_0-rmse:0.87150\n",
      "[26]\tvalidation_0-rmse:0.87153\n",
      "[27]\tvalidation_0-rmse:0.87146\n",
      "[28]\tvalidation_0-rmse:0.87153\n",
      "[29]\tvalidation_0-rmse:0.87114\n",
      "[30]\tvalidation_0-rmse:0.87103\n",
      "[31]\tvalidation_0-rmse:0.87144\n",
      "[32]\tvalidation_0-rmse:0.87212\n",
      "[33]\tvalidation_0-rmse:0.87183\n",
      "[34]\tvalidation_0-rmse:0.87219\n",
      "[35]\tvalidation_0-rmse:0.87214\n",
      "[36]\tvalidation_0-rmse:0.87231\n",
      "[37]\tvalidation_0-rmse:0.87248\n",
      "[38]\tvalidation_0-rmse:0.87244\n",
      "[39]\tvalidation_0-rmse:0.87243\n",
      "[40]\tvalidation_0-rmse:0.87244\n",
      "[41]\tvalidation_0-rmse:0.87266\n",
      "[42]\tvalidation_0-rmse:0.87270\n",
      "[43]\tvalidation_0-rmse:0.87236\n",
      "[44]\tvalidation_0-rmse:0.87228\n",
      "[45]\tvalidation_0-rmse:0.87211\n",
      "[46]\tvalidation_0-rmse:0.87216\n",
      "[47]\tvalidation_0-rmse:0.87225\n",
      "[48]\tvalidation_0-rmse:0.87234\n",
      "[49]\tvalidation_0-rmse:0.87224\n",
      "Training Loss when max_depth=8 and min_child_weight=100 is 0.723248302936554 \n",
      "Validation Loss when max_depth=8 and min_child_weight=100 is 0.8710314035415649 \n",
      "--------------------------------------------------\n",
      "Tuning parameter subsamle and cosample_bytree\n",
      "set subsamle = 10 and cosample_bytree = 1\n",
      "[13:15:28] WARNING: C:\\Users\\dev-admin\\croot2\\xgboost-split_1675461376218\\work\\src\\learner.cc:767: \n",
      "Parameters: { \"verbose\" } are not used.\n",
      "\n",
      "[0]\tvalidation_0-rmse:1.07300\n",
      "[1]\tvalidation_0-rmse:1.03568\n",
      "[2]\tvalidation_0-rmse:1.00417\n",
      "[3]\tvalidation_0-rmse:0.97880\n",
      "[4]\tvalidation_0-rmse:0.95848\n",
      "[5]\tvalidation_0-rmse:0.94204\n",
      "[6]\tvalidation_0-rmse:0.92850\n",
      "[7]\tvalidation_0-rmse:0.91743\n",
      "[8]\tvalidation_0-rmse:0.90910\n",
      "[9]\tvalidation_0-rmse:0.90193\n",
      "[10]\tvalidation_0-rmse:0.89508\n",
      "[11]\tvalidation_0-rmse:0.89055\n",
      "[12]\tvalidation_0-rmse:0.88673\n",
      "[13]\tvalidation_0-rmse:0.88298\n",
      "[14]\tvalidation_0-rmse:0.88095\n",
      "[15]\tvalidation_0-rmse:0.87949\n",
      "[16]\tvalidation_0-rmse:0.87758\n",
      "[17]\tvalidation_0-rmse:0.87589\n",
      "[18]\tvalidation_0-rmse:0.87711\n",
      "[19]\tvalidation_0-rmse:0.87633\n",
      "[20]\tvalidation_0-rmse:0.87644\n",
      "[21]\tvalidation_0-rmse:0.87587\n",
      "[22]\tvalidation_0-rmse:0.87519\n",
      "[23]\tvalidation_0-rmse:0.87545\n",
      "[24]\tvalidation_0-rmse:0.87518\n",
      "[25]\tvalidation_0-rmse:0.87475\n",
      "[26]\tvalidation_0-rmse:0.87493\n",
      "[27]\tvalidation_0-rmse:0.87488\n",
      "[28]\tvalidation_0-rmse:0.87488\n",
      "[29]\tvalidation_0-rmse:0.87497\n",
      "[30]\tvalidation_0-rmse:0.87470\n",
      "[31]\tvalidation_0-rmse:0.87481\n",
      "[32]\tvalidation_0-rmse:0.87518\n",
      "[33]\tvalidation_0-rmse:0.87506\n",
      "[34]\tvalidation_0-rmse:0.87502\n",
      "[35]\tvalidation_0-rmse:0.87549\n",
      "[36]\tvalidation_0-rmse:0.87553\n",
      "[37]\tvalidation_0-rmse:0.87542\n",
      "[38]\tvalidation_0-rmse:0.87506\n",
      "[39]\tvalidation_0-rmse:0.87487\n",
      "[40]\tvalidation_0-rmse:0.87559\n",
      "[41]\tvalidation_0-rmse:0.87553\n",
      "[42]\tvalidation_0-rmse:0.87534\n",
      "[43]\tvalidation_0-rmse:0.87544\n",
      "[44]\tvalidation_0-rmse:0.87600\n",
      "[45]\tvalidation_0-rmse:0.87604\n",
      "[46]\tvalidation_0-rmse:0.87605\n",
      "[47]\tvalidation_0-rmse:0.87633\n",
      "[48]\tvalidation_0-rmse:0.87623\n",
      "[49]\tvalidation_0-rmse:0.87622\n",
      "Training Loss when max_depth=10 and min_child_weight=1 is 0.6807390451431274 \n",
      "Validation Loss when max_depth=10 and min_child_weight=1 is 0.8746955990791321 \n",
      "--------------------------------------------------\n",
      "Tuning parameter subsamle and cosample_bytree\n",
      "set subsamle = 10 and cosample_bytree = 10\n",
      "[13:17:46] WARNING: C:\\Users\\dev-admin\\croot2\\xgboost-split_1675461376218\\work\\src\\learner.cc:767: \n",
      "Parameters: { \"verbose\" } are not used.\n",
      "\n",
      "[0]\tvalidation_0-rmse:1.07276\n",
      "[1]\tvalidation_0-rmse:1.03533\n",
      "[2]\tvalidation_0-rmse:1.00414\n",
      "[3]\tvalidation_0-rmse:0.97845\n",
      "[4]\tvalidation_0-rmse:0.95861\n",
      "[5]\tvalidation_0-rmse:0.94184\n",
      "[6]\tvalidation_0-rmse:0.92777\n",
      "[7]\tvalidation_0-rmse:0.91650\n",
      "[8]\tvalidation_0-rmse:0.90773\n",
      "[9]\tvalidation_0-rmse:0.89912\n",
      "[10]\tvalidation_0-rmse:0.89328\n",
      "[11]\tvalidation_0-rmse:0.88848\n",
      "[12]\tvalidation_0-rmse:0.88495\n",
      "[13]\tvalidation_0-rmse:0.88225\n",
      "[14]\tvalidation_0-rmse:0.88035\n",
      "[15]\tvalidation_0-rmse:0.87882\n",
      "[16]\tvalidation_0-rmse:0.87663\n",
      "[17]\tvalidation_0-rmse:0.87554\n",
      "[18]\tvalidation_0-rmse:0.87441\n",
      "[19]\tvalidation_0-rmse:0.87392\n",
      "[20]\tvalidation_0-rmse:0.87369\n",
      "[21]\tvalidation_0-rmse:0.87304\n",
      "[22]\tvalidation_0-rmse:0.87253\n",
      "[23]\tvalidation_0-rmse:0.87224\n",
      "[24]\tvalidation_0-rmse:0.87206\n",
      "[25]\tvalidation_0-rmse:0.87169\n",
      "[26]\tvalidation_0-rmse:0.87157\n",
      "[27]\tvalidation_0-rmse:0.87148\n",
      "[28]\tvalidation_0-rmse:0.87161\n",
      "[29]\tvalidation_0-rmse:0.87170\n",
      "[30]\tvalidation_0-rmse:0.87193\n",
      "[31]\tvalidation_0-rmse:0.87193\n",
      "[32]\tvalidation_0-rmse:0.87179\n",
      "[33]\tvalidation_0-rmse:0.87185\n",
      "[34]\tvalidation_0-rmse:0.87235\n",
      "[35]\tvalidation_0-rmse:0.87248\n",
      "[36]\tvalidation_0-rmse:0.87386\n",
      "[37]\tvalidation_0-rmse:0.87398\n",
      "[38]\tvalidation_0-rmse:0.87398\n",
      "[39]\tvalidation_0-rmse:0.87388\n",
      "[40]\tvalidation_0-rmse:0.87424\n",
      "[41]\tvalidation_0-rmse:0.87414\n",
      "[42]\tvalidation_0-rmse:0.87414\n",
      "[43]\tvalidation_0-rmse:0.87408\n",
      "[44]\tvalidation_0-rmse:0.87349\n",
      "[45]\tvalidation_0-rmse:0.87342\n",
      "[46]\tvalidation_0-rmse:0.87342\n",
      "[47]\tvalidation_0-rmse:0.87353\n",
      "Training Loss when max_depth=10 and min_child_weight=10 is 0.6895233392715454 \n",
      "Validation Loss when max_depth=10 and min_child_weight=10 is 0.8714814782142639 \n",
      "--------------------------------------------------\n",
      "Tuning parameter subsamle and cosample_bytree\n",
      "set subsamle = 10 and cosample_bytree = 100\n",
      "[13:19:58] WARNING: C:\\Users\\dev-admin\\croot2\\xgboost-split_1675461376218\\work\\src\\learner.cc:767: \n",
      "Parameters: { \"verbose\" } are not used.\n",
      "\n",
      "[0]\tvalidation_0-rmse:1.07206\n",
      "[1]\tvalidation_0-rmse:1.03495\n",
      "[2]\tvalidation_0-rmse:1.00330\n",
      "[3]\tvalidation_0-rmse:0.97804\n",
      "[4]\tvalidation_0-rmse:0.95779\n",
      "[5]\tvalidation_0-rmse:0.94157\n",
      "[6]\tvalidation_0-rmse:0.92815\n",
      "[7]\tvalidation_0-rmse:0.91679\n"
     ]
    },
    {
     "name": "stdout",
     "output_type": "stream",
     "text": [
      "[8]\tvalidation_0-rmse:0.90846\n",
      "[9]\tvalidation_0-rmse:0.90178\n",
      "[10]\tvalidation_0-rmse:0.89608\n",
      "[11]\tvalidation_0-rmse:0.89176\n",
      "[12]\tvalidation_0-rmse:0.88776\n",
      "[13]\tvalidation_0-rmse:0.88458\n",
      "[14]\tvalidation_0-rmse:0.88215\n",
      "[15]\tvalidation_0-rmse:0.87998\n",
      "[16]\tvalidation_0-rmse:0.87857\n",
      "[17]\tvalidation_0-rmse:0.87754\n",
      "[18]\tvalidation_0-rmse:0.87600\n",
      "[19]\tvalidation_0-rmse:0.87545\n",
      "[20]\tvalidation_0-rmse:0.87461\n",
      "[21]\tvalidation_0-rmse:0.87401\n",
      "[22]\tvalidation_0-rmse:0.87337\n",
      "[23]\tvalidation_0-rmse:0.87271\n",
      "[24]\tvalidation_0-rmse:0.87215\n",
      "[25]\tvalidation_0-rmse:0.87235\n",
      "[26]\tvalidation_0-rmse:0.87199\n",
      "[27]\tvalidation_0-rmse:0.87167\n",
      "[28]\tvalidation_0-rmse:0.87190\n",
      "[29]\tvalidation_0-rmse:0.87149\n",
      "[30]\tvalidation_0-rmse:0.87124\n",
      "[31]\tvalidation_0-rmse:0.87136\n",
      "[32]\tvalidation_0-rmse:0.87099\n",
      "[33]\tvalidation_0-rmse:0.87106\n",
      "[34]\tvalidation_0-rmse:0.87085\n",
      "[35]\tvalidation_0-rmse:0.87073\n",
      "[36]\tvalidation_0-rmse:0.87117\n",
      "[37]\tvalidation_0-rmse:0.87122\n",
      "[38]\tvalidation_0-rmse:0.87136\n",
      "[39]\tvalidation_0-rmse:0.87142\n",
      "[40]\tvalidation_0-rmse:0.87124\n",
      "[41]\tvalidation_0-rmse:0.87110\n",
      "[42]\tvalidation_0-rmse:0.87115\n",
      "[43]\tvalidation_0-rmse:0.87123\n",
      "[44]\tvalidation_0-rmse:0.87119\n",
      "[45]\tvalidation_0-rmse:0.87059\n",
      "[46]\tvalidation_0-rmse:0.87102\n",
      "[47]\tvalidation_0-rmse:0.87175\n",
      "[48]\tvalidation_0-rmse:0.87165\n",
      "[49]\tvalidation_0-rmse:0.87179\n",
      "[50]\tvalidation_0-rmse:0.87178\n",
      "[51]\tvalidation_0-rmse:0.87178\n",
      "[52]\tvalidation_0-rmse:0.87219\n",
      "[53]\tvalidation_0-rmse:0.87194\n",
      "[54]\tvalidation_0-rmse:0.87210\n",
      "[55]\tvalidation_0-rmse:0.87216\n",
      "[56]\tvalidation_0-rmse:0.87196\n",
      "[57]\tvalidation_0-rmse:0.87167\n",
      "[58]\tvalidation_0-rmse:0.87160\n",
      "[59]\tvalidation_0-rmse:0.87144\n",
      "[60]\tvalidation_0-rmse:0.87160\n",
      "[61]\tvalidation_0-rmse:0.87160\n",
      "[62]\tvalidation_0-rmse:0.87155\n",
      "[63]\tvalidation_0-rmse:0.87164\n",
      "[64]\tvalidation_0-rmse:0.87189\n",
      "Training Loss when max_depth=10 and min_child_weight=100 is 0.6937012672424316 \n",
      "Validation Loss when max_depth=10 and min_child_weight=100 is 0.8705798983573914 \n",
      "--------------------------------------------------\n",
      "Tuning parameter subsamle and cosample_bytree\n",
      "set subsamle = 12 and cosample_bytree = 1\n",
      "[13:22:33] WARNING: C:\\Users\\dev-admin\\croot2\\xgboost-split_1675461376218\\work\\src\\learner.cc:767: \n",
      "Parameters: { \"verbose\" } are not used.\n",
      "\n",
      "[0]\tvalidation_0-rmse:1.07320\n",
      "[1]\tvalidation_0-rmse:1.03518\n",
      "[2]\tvalidation_0-rmse:1.00482\n",
      "[3]\tvalidation_0-rmse:0.97943\n",
      "[4]\tvalidation_0-rmse:0.95899\n",
      "[5]\tvalidation_0-rmse:0.94199\n",
      "[6]\tvalidation_0-rmse:0.92898\n",
      "[7]\tvalidation_0-rmse:0.91885\n",
      "[8]\tvalidation_0-rmse:0.90990\n",
      "[9]\tvalidation_0-rmse:0.90338\n",
      "[10]\tvalidation_0-rmse:0.89784\n",
      "[11]\tvalidation_0-rmse:0.89384\n",
      "[12]\tvalidation_0-rmse:0.89044\n",
      "[13]\tvalidation_0-rmse:0.88771\n",
      "[14]\tvalidation_0-rmse:0.88521\n",
      "[15]\tvalidation_0-rmse:0.88286\n",
      "[16]\tvalidation_0-rmse:0.88201\n",
      "[17]\tvalidation_0-rmse:0.88070\n",
      "[18]\tvalidation_0-rmse:0.87981\n",
      "[19]\tvalidation_0-rmse:0.87915\n",
      "[20]\tvalidation_0-rmse:0.87888\n",
      "[21]\tvalidation_0-rmse:0.87993\n",
      "[22]\tvalidation_0-rmse:0.88003\n",
      "[23]\tvalidation_0-rmse:0.87996\n",
      "[24]\tvalidation_0-rmse:0.87993\n",
      "[25]\tvalidation_0-rmse:0.88042\n",
      "[26]\tvalidation_0-rmse:0.88056\n",
      "[27]\tvalidation_0-rmse:0.88108\n",
      "[28]\tvalidation_0-rmse:0.88116\n",
      "[29]\tvalidation_0-rmse:0.88159\n",
      "[30]\tvalidation_0-rmse:0.88144\n",
      "[31]\tvalidation_0-rmse:0.88143\n",
      "[32]\tvalidation_0-rmse:0.88212\n",
      "[33]\tvalidation_0-rmse:0.88213\n",
      "[34]\tvalidation_0-rmse:0.88316\n",
      "[35]\tvalidation_0-rmse:0.88319\n",
      "[36]\tvalidation_0-rmse:0.88328\n",
      "[37]\tvalidation_0-rmse:0.88328\n",
      "[38]\tvalidation_0-rmse:0.88340\n",
      "[39]\tvalidation_0-rmse:0.88346\n",
      "[40]\tvalidation_0-rmse:0.88353\n",
      "Training Loss when max_depth=12 and min_child_weight=1 is 0.6574857831001282 \n",
      "Validation Loss when max_depth=12 and min_child_weight=1 is 0.8788374066352844 \n",
      "--------------------------------------------------\n",
      "Tuning parameter subsamle and cosample_bytree\n",
      "set subsamle = 12 and cosample_bytree = 10\n",
      "[13:25:19] WARNING: C:\\Users\\dev-admin\\croot2\\xgboost-split_1675461376218\\work\\src\\learner.cc:767: \n",
      "Parameters: { \"verbose\" } are not used.\n",
      "\n",
      "[0]\tvalidation_0-rmse:1.07257\n",
      "[1]\tvalidation_0-rmse:1.03472\n",
      "[2]\tvalidation_0-rmse:1.00478\n",
      "[3]\tvalidation_0-rmse:0.97886\n",
      "[4]\tvalidation_0-rmse:0.95768\n",
      "[5]\tvalidation_0-rmse:0.94087\n",
      "[6]\tvalidation_0-rmse:0.92764\n",
      "[7]\tvalidation_0-rmse:0.91711\n",
      "[8]\tvalidation_0-rmse:0.90874\n",
      "[9]\tvalidation_0-rmse:0.90134\n",
      "[10]\tvalidation_0-rmse:0.89656\n",
      "[11]\tvalidation_0-rmse:0.89241\n",
      "[12]\tvalidation_0-rmse:0.88824\n",
      "[13]\tvalidation_0-rmse:0.88569\n",
      "[14]\tvalidation_0-rmse:0.88314\n",
      "[15]\tvalidation_0-rmse:0.88199\n",
      "[16]\tvalidation_0-rmse:0.88057\n",
      "[17]\tvalidation_0-rmse:0.87947\n",
      "[18]\tvalidation_0-rmse:0.87880\n",
      "[19]\tvalidation_0-rmse:0.87812\n",
      "[20]\tvalidation_0-rmse:0.87897\n",
      "[21]\tvalidation_0-rmse:0.87862\n",
      "[22]\tvalidation_0-rmse:0.87840\n",
      "[23]\tvalidation_0-rmse:0.87817\n",
      "[24]\tvalidation_0-rmse:0.87810\n",
      "[25]\tvalidation_0-rmse:0.87836\n",
      "[26]\tvalidation_0-rmse:0.87865\n",
      "[27]\tvalidation_0-rmse:0.87889\n",
      "[28]\tvalidation_0-rmse:0.87871\n",
      "[29]\tvalidation_0-rmse:0.87857\n",
      "[30]\tvalidation_0-rmse:0.87854\n",
      "[31]\tvalidation_0-rmse:0.87854\n",
      "[32]\tvalidation_0-rmse:0.87854\n",
      "[33]\tvalidation_0-rmse:0.87863\n",
      "[34]\tvalidation_0-rmse:0.87867\n",
      "[35]\tvalidation_0-rmse:0.87866\n",
      "[36]\tvalidation_0-rmse:0.87831\n",
      "[37]\tvalidation_0-rmse:0.87831\n",
      "[38]\tvalidation_0-rmse:0.87821\n",
      "[39]\tvalidation_0-rmse:0.87819\n",
      "[40]\tvalidation_0-rmse:0.87819\n",
      "[41]\tvalidation_0-rmse:0.87844\n",
      "[42]\tvalidation_0-rmse:0.87861\n",
      "[43]\tvalidation_0-rmse:0.87919\n",
      "Training Loss when max_depth=12 and min_child_weight=10 is 0.6543328166007996 \n",
      "Validation Loss when max_depth=12 and min_child_weight=10 is 0.8778810501098633 \n",
      "--------------------------------------------------\n",
      "Tuning parameter subsamle and cosample_bytree\n",
      "set subsamle = 12 and cosample_bytree = 100\n",
      "[13:28:10] WARNING: C:\\Users\\dev-admin\\croot2\\xgboost-split_1675461376218\\work\\src\\learner.cc:767: \n",
      "Parameters: { \"verbose\" } are not used.\n",
      "\n",
      "[0]\tvalidation_0-rmse:1.07174\n",
      "[1]\tvalidation_0-rmse:1.03393\n",
      "[2]\tvalidation_0-rmse:1.00255\n",
      "[3]\tvalidation_0-rmse:0.97836\n",
      "[4]\tvalidation_0-rmse:0.95827\n",
      "[5]\tvalidation_0-rmse:0.94115\n",
      "[6]\tvalidation_0-rmse:0.92832\n",
      "[7]\tvalidation_0-rmse:0.91673\n",
      "[8]\tvalidation_0-rmse:0.90824\n",
      "[9]\tvalidation_0-rmse:0.90152\n",
      "[10]\tvalidation_0-rmse:0.89551\n",
      "[11]\tvalidation_0-rmse:0.89083\n",
      "[12]\tvalidation_0-rmse:0.88816\n",
      "[13]\tvalidation_0-rmse:0.88534\n",
      "[14]\tvalidation_0-rmse:0.88285\n",
      "[15]\tvalidation_0-rmse:0.88090\n",
      "[16]\tvalidation_0-rmse:0.88095\n",
      "[17]\tvalidation_0-rmse:0.88003\n",
      "[18]\tvalidation_0-rmse:0.87955\n",
      "[19]\tvalidation_0-rmse:0.87968\n",
      "[20]\tvalidation_0-rmse:0.87961\n",
      "[21]\tvalidation_0-rmse:0.87953\n",
      "[22]\tvalidation_0-rmse:0.87914\n",
      "[23]\tvalidation_0-rmse:0.87914\n",
      "[24]\tvalidation_0-rmse:0.87872\n",
      "[25]\tvalidation_0-rmse:0.87866\n",
      "[26]\tvalidation_0-rmse:0.87840\n",
      "[27]\tvalidation_0-rmse:0.87833\n",
      "[28]\tvalidation_0-rmse:0.87845\n",
      "[29]\tvalidation_0-rmse:0.87818\n",
      "[30]\tvalidation_0-rmse:0.87803\n",
      "[31]\tvalidation_0-rmse:0.87801\n",
      "[32]\tvalidation_0-rmse:0.87809\n",
      "[33]\tvalidation_0-rmse:0.87795\n",
      "[34]\tvalidation_0-rmse:0.87778\n",
      "[35]\tvalidation_0-rmse:0.87777\n",
      "[36]\tvalidation_0-rmse:0.87746\n",
      "[37]\tvalidation_0-rmse:0.87694\n",
      "[38]\tvalidation_0-rmse:0.87729\n",
      "[39]\tvalidation_0-rmse:0.87731\n",
      "[40]\tvalidation_0-rmse:0.87736\n",
      "[41]\tvalidation_0-rmse:0.87756\n",
      "[42]\tvalidation_0-rmse:0.87747\n",
      "[43]\tvalidation_0-rmse:0.87730\n",
      "[44]\tvalidation_0-rmse:0.87740\n",
      "[45]\tvalidation_0-rmse:0.87746\n",
      "[46]\tvalidation_0-rmse:0.87720\n",
      "[47]\tvalidation_0-rmse:0.87706\n",
      "[48]\tvalidation_0-rmse:0.87692\n",
      "[49]\tvalidation_0-rmse:0.87673\n",
      "[50]\tvalidation_0-rmse:0.87666\n",
      "[51]\tvalidation_0-rmse:0.87667\n",
      "[52]\tvalidation_0-rmse:0.87661\n",
      "[53]\tvalidation_0-rmse:0.87703\n",
      "[54]\tvalidation_0-rmse:0.87694\n",
      "[55]\tvalidation_0-rmse:0.87672\n",
      "[56]\tvalidation_0-rmse:0.87678\n",
      "[57]\tvalidation_0-rmse:0.87683\n",
      "[58]\tvalidation_0-rmse:0.87677\n",
      "[59]\tvalidation_0-rmse:0.87679\n",
      "[60]\tvalidation_0-rmse:0.87641\n",
      "[61]\tvalidation_0-rmse:0.87652\n",
      "[62]\tvalidation_0-rmse:0.87634\n",
      "[63]\tvalidation_0-rmse:0.87625\n",
      "[64]\tvalidation_0-rmse:0.87648\n",
      "[65]\tvalidation_0-rmse:0.87634\n",
      "[66]\tvalidation_0-rmse:0.87628\n",
      "[67]\tvalidation_0-rmse:0.87641\n",
      "[68]\tvalidation_0-rmse:0.87636\n",
      "[69]\tvalidation_0-rmse:0.87697\n",
      "[70]\tvalidation_0-rmse:0.87707\n",
      "[71]\tvalidation_0-rmse:0.87702\n",
      "[72]\tvalidation_0-rmse:0.87711\n",
      "[73]\tvalidation_0-rmse:0.87701\n",
      "[74]\tvalidation_0-rmse:0.87713\n",
      "[75]\tvalidation_0-rmse:0.87826\n",
      "[76]\tvalidation_0-rmse:0.87813\n",
      "[77]\tvalidation_0-rmse:0.87847\n",
      "[78]\tvalidation_0-rmse:0.87840\n",
      "[79]\tvalidation_0-rmse:0.88026\n",
      "[80]\tvalidation_0-rmse:0.88115\n"
     ]
    },
    {
     "name": "stdout",
     "output_type": "stream",
     "text": [
      "[81]\tvalidation_0-rmse:0.88122\n",
      "[82]\tvalidation_0-rmse:0.88132\n",
      "[83]\tvalidation_0-rmse:0.88233\n",
      "Training Loss when max_depth=12 and min_child_weight=100 is 0.6634701490402222 \n",
      "Validation Loss when max_depth=12 and min_child_weight=100 is 0.8761856555938721 \n",
      "--------------------------------------------------\n"
     ]
    }
   ],
   "source": [
    "max_depth = [4, 6, 8, 10, 12]\n",
    "min_child_weight = [1, 10, 100]\n",
    "\n",
    "fit_params={\"early_stopping_rounds\":20, \n",
    "            \"eval_metric\" : \"rmse\", \n",
    "            \"eval_set\" : [[X_val, y_val]] }\n",
    "\n",
    "train_score = []\n",
    "val_score = []\n",
    "params = []\n",
    "cgs_best_train_loss=0\n",
    "cgs_best_val_loss=0\n",
    "for i in max_depth:\n",
    "    for j in min_child_weight:\n",
    "        print(\"Настройка параметра subsamle и cosample_bytree\")\n",
    "        print(\"subsamle = {}, cosample_bytree = {}\".format(i,j))\n",
    "        _model = XGBRegressor(eta = 0.1, n_estimators=1000,max_depth=i ,min_child_weight=j, verbose=100)\n",
    "        _model.fit(X_train, y_train, verbose=True, **fit_params)\n",
    "        rmse_train = mean_squared_error(_model.predict(X_train).clip(0,20),y_train, squared=False)\n",
    "        rmse_val = mean_squared_error(_model.predict(X_val).clip(0,20),y_val, squared=False)\n",
    "\n",
    "        if val_score:\n",
    "            if sorted(val_score)[0] > rmse_val:\n",
    "                print(\"сохранение модели.....\")\n",
    "                pickle.dump(_model, open('cgs_model.pkl', 'wb'))\n",
    "                cgs_best_train_loss=rmse_train\n",
    "                cgs_best_val_loss=rmse_val\n",
    "        else:\n",
    "            print(\"сохранение модели.....\")\n",
    "            pickle.dump(_model, open('cgs_model.pkl', 'wb'))\n",
    "            cgs_best_train_loss=rmse_train\n",
    "            cgs_best_val_loss=rmse_val\n",
    "\n",
    "        train_score.append(rmse_train)\n",
    "        val_score.append(rmse_val)\n",
    "        params.append((i,j))\n",
    "\n",
    "        print(\"Training Loss при max_depth={} и min_child_weight={} - {} \".format(i,j,rmse_train))\n",
    "        print(\"Validation Loss при max_depth={} и min_child_weight={} - {} \".format(i,j,rmse_val))\n",
    "        print(\"-\"*50)\n",
    "pickle.dump((train_score,val_score,params), open('xgb_log_1.pkl', 'wb'))"
   ]
  },
  {
   "cell_type": "code",
   "execution_count": 20,
   "id": "905f9db2",
   "metadata": {},
   "outputs": [],
   "source": [
    "train_score,val_score,params = pickle.load(open('xgb_log_1.pkl', 'rb'))\n",
    "best_xgb_1 = pickle.load(open('cgs_model.pkl', 'rb'))"
   ]
  },
  {
   "cell_type": "code",
   "execution_count": 22,
   "id": "98e3b98c",
   "metadata": {},
   "outputs": [
    {
     "data": {
      "image/png": "[encoded data removed]",
      "text/plain": [
       "<Figure size 1080x720 with 1 Axes>"
      ]
     },
     "metadata": {
      "needs_background": "light"
     },
     "output_type": "display_data"
    }
   ],
   "source": [
    "params = [str(i) for i in params]\n",
    "fig, ax = plt.subplots(figsize=(15,10))\n",
    "ax.plot(params, val_score,c='g')\n",
    "for i, txt in enumerate(np.round(val_score,3)):\n",
    "    ax.annotate((params[i],np.round(txt,3)), (params[i],val_score[i]))\n",
    "plt.grid()\n",
    "plt.title(\"Cross Validation rmse\")\n",
    "plt.xlabel(\"(max_depth , min_child_weight)\")\n",
    "plt.ylabel(\"Validation Loss\")\n",
    "plt.show()"
   ]
  },
  {
   "cell_type": "code",
   "execution_count": 23,
   "id": "131a8cb4",
   "metadata": {},
   "outputs": [
    {
     "data": {
      "text/plain": [
       "<AxesSubplot:title={'center':'Feature importance'}, xlabel='F score', ylabel='Features'>"
      ]
     },
     "execution_count": 23,
     "metadata": {},
     "output_type": "execute_result"
    },
    {
     "data": {
      "image/png": "[encoded data removed]",
      "text/plain": [
       "<Figure size 720x1008 with 1 Axes>"
      ]
     },
     "metadata": {
      "needs_background": "light"
     },
     "output_type": "display_data"
    }
   ],
   "source": [
    "# Plot feature importance\n",
    "def plot_features(booster, figsize):    \n",
    "    fig, ax = plt.subplots(1,1,figsize=figsize)\n",
    "    return plot_importance(booster=booster, ax=ax, grid=False)\n",
    "plot_features(best_xgb_1, (10,14))"
   ]
  },
  {
   "cell_type": "markdown",
   "id": "405b638a",
   "metadata": {},
   "source": [
    "LightGBM"
   ]
  },
  {
   "cell_type": "code",
   "execution_count": 52,
   "id": "bbab95ae",
   "metadata": {},
   "outputs": [
    {
     "name": "stdout",
     "output_type": "stream",
     "text": [
      "[LightGBM] [Info] Total Bins 4768\n",
      "[LightGBM] [Info] Number of data points in the train set: 6426000, number of used features: 30\n",
      "[LightGBM] [Info] Start training from score 0.194736\n",
      "Training until validation scores don't improve for 100 rounds\n",
      "[10]\ttraining's rmse: 0.806892\tvalid_1's rmse: 0.902548\n",
      "[20]\ttraining's rmse: 0.755111\tvalid_1's rmse: 0.874314\n",
      "[30]\ttraining's rmse: 0.739271\tvalid_1's rmse: 0.868946\n",
      "[40]\ttraining's rmse: 0.731351\tvalid_1's rmse: 0.867268\n",
      "[50]\ttraining's rmse: 0.726252\tvalid_1's rmse: 0.869843\n",
      "[60]\ttraining's rmse: 0.72165\tvalid_1's rmse: 0.868964\n",
      "[70]\ttraining's rmse: 0.71715\tvalid_1's rmse: 0.873551\n",
      "[80]\ttraining's rmse: 0.7139\tvalid_1's rmse: 0.872963\n",
      "[90]\ttraining's rmse: 0.710441\tvalid_1's rmse: 0.8731\n",
      "[100]\ttraining's rmse: 0.706421\tvalid_1's rmse: 0.873662\n",
      "[110]\ttraining's rmse: 0.704275\tvalid_1's rmse: 0.873877\n",
      "[120]\ttraining's rmse: 0.700447\tvalid_1's rmse: 0.873483\n",
      "[130]\ttraining's rmse: 0.698124\tvalid_1's rmse: 0.872974\n",
      "[140]\ttraining's rmse: 0.695863\tvalid_1's rmse: 0.872683\n",
      "Early stopping, best iteration is:\n",
      "[40]\ttraining's rmse: 0.731351\tvalid_1's rmse: 0.867268\n"
     ]
    }
   ],
   "source": [
    "params = {\n",
    "    'metric': 'rmse',\n",
    "    'seed': 1,\n",
    "    'verbose': 1,\n",
    "    'force_row_wise' : True }\n",
    "\n",
    "cat_feature_names = ['item_category_id', 'month', 'shop_id']\n",
    "\n",
    "lgb_train = lgb.Dataset(X_train, y_train, categorical_feature=None)\n",
    "lgb_eval  = lgb.Dataset(X_val, y_val, categorical_feature=None, reference=lgb_train)\n",
    "\n",
    "gbm = lgb_tuner.train(\n",
    "        params, \n",
    "        lgb_train,\n",
    "        num_boost_round = 1000,\n",
    "        valid_sets = (lgb_train, lgb_eval), \n",
    "        categorical_feature = cat_feature_names,\n",
    "        verbose_eval = 10, \n",
    "        early_stopping_rounds = 100)\n",
    "pickle.dump(gbm, open('lgbm_model.pkl', 'wb'))   "
   ]
  },
  {
   "cell_type": "code",
   "execution_count": 61,
   "id": "01c9e446",
   "metadata": {},
   "outputs": [],
   "source": [
    "lgb_grid =  pickle.load( open('lgbm_model.pkl', 'rb'))"
   ]
  },
  {
   "cell_type": "code",
   "execution_count": 62,
   "id": "49426d39",
   "metadata": {},
   "outputs": [
    {
     "data": {
      "text/plain": [
       "<AxesSubplot:title={'center':'Feature importance'}, xlabel='Feature importance', ylabel='Features'>"
      ]
     },
     "execution_count": 62,
     "metadata": {},
     "output_type": "execute_result"
    },
    {
     "data": {
      "image/png": "[encoded data removed]",
      "text/plain": [
       "<Figure size 864x1008 with 1 Axes>"
      ]
     },
     "metadata": {
      "needs_background": "light"
     },
     "output_type": "display_data"
    }
   ],
   "source": [
    "lgb.plot_importance(\n",
    "    lgb_grid, \n",
    "    max_num_features=50, \n",
    "    importance_type='gain', \n",
    "    figsize=(12,14)) "
   ]
  },
  {
   "cell_type": "markdown",
   "id": "36ef3f9b",
   "metadata": {},
   "source": [
    "Ensemble Model"
   ]
  },
  {
   "cell_type": "code",
   "execution_count": 26,
   "id": "7019b2ae",
   "metadata": {},
   "outputs": [
    {
     "data": {
      "text/html": [
       "<style>#sk-container-id-1 {color: black;background-color: white;}#sk-container-id-1 pre{padding: 0;}#sk-container-id-1 div.sk-toggleable {background-color: white;}#sk-container-id-1 label.sk-toggleable__label {cursor: pointer;display: block;width: 100%;margin-bottom: 0;padding: 0.3em;box-sizing: border-box;text-align: center;}#sk-container-id-1 label.sk-toggleable__label-arrow:before {content: \"▸\";float: left;margin-right: 0.25em;color: #696969;}#sk-container-id-1 label.sk-toggleable__label-arrow:hover:before {color: black;}#sk-container-id-1 div.sk-estimator:hover label.sk-toggleable__label-arrow:before {color: black;}#sk-container-id-1 div.sk-toggleable__content {max-height: 0;max-width: 0;overflow: hidden;text-align: left;background-color: #f0f8ff;}#sk-container-id-1 div.sk-toggleable__content pre {margin: 0.2em;color: black;border-radius: 0.25em;background-color: #f0f8ff;}#sk-container-id-1 input.sk-toggleable__control:checked~div.sk-toggleable__content {max-height: 200px;max-width: 100%;overflow: auto;}#sk-container-id-1 input.sk-toggleable__control:checked~label.sk-toggleable__label-arrow:before {content: \"▾\";}#sk-container-id-1 div.sk-estimator input.sk-toggleable__control:checked~label.sk-toggleable__label {background-color: #d4ebff;}#sk-container-id-1 div.sk-label input.sk-toggleable__control:checked~label.sk-toggleable__label {background-color: #d4ebff;}#sk-container-id-1 input.sk-hidden--visually {border: 0;clip: rect(1px 1px 1px 1px);clip: rect(1px, 1px, 1px, 1px);height: 1px;margin: -1px;overflow: hidden;padding: 0;position: absolute;width: 1px;}#sk-container-id-1 div.sk-estimator {font-family: monospace;background-color: #f0f8ff;border: 1px dotted black;border-radius: 0.25em;box-sizing: border-box;margin-bottom: 0.5em;}#sk-container-id-1 div.sk-estimator:hover {background-color: #d4ebff;}#sk-container-id-1 div.sk-parallel-item::after {content: \"\";width: 100%;border-bottom: 1px solid gray;flex-grow: 1;}#sk-container-id-1 div.sk-label:hover label.sk-toggleable__label {background-color: #d4ebff;}#sk-container-id-1 div.sk-serial::before {content: \"\";position: absolute;border-left: 1px solid gray;box-sizing: border-box;top: 0;bottom: 0;left: 50%;z-index: 0;}#sk-container-id-1 div.sk-serial {display: flex;flex-direction: column;align-items: center;background-color: white;padding-right: 0.2em;padding-left: 0.2em;position: relative;}#sk-container-id-1 div.sk-item {position: relative;z-index: 1;}#sk-container-id-1 div.sk-parallel {display: flex;align-items: stretch;justify-content: center;background-color: white;position: relative;}#sk-container-id-1 div.sk-item::before, #sk-container-id-1 div.sk-parallel-item::before {content: \"\";position: absolute;border-left: 1px solid gray;box-sizing: border-box;top: 0;bottom: 0;left: 50%;z-index: -1;}#sk-container-id-1 div.sk-parallel-item {display: flex;flex-direction: column;z-index: 1;position: relative;background-color: white;}#sk-container-id-1 div.sk-parallel-item:first-child::after {align-self: flex-end;width: 50%;}#sk-container-id-1 div.sk-parallel-item:last-child::after {align-self: flex-start;width: 50%;}#sk-container-id-1 div.sk-parallel-item:only-child::after {width: 0;}#sk-container-id-1 div.sk-dashed-wrapped {border: 1px dashed gray;margin: 0 0.4em 0.5em 0.4em;box-sizing: border-box;padding-bottom: 0.4em;background-color: white;}#sk-container-id-1 div.sk-label label {font-family: monospace;font-weight: bold;display: inline-block;line-height: 1.2em;}#sk-container-id-1 div.sk-label-container {text-align: center;}#sk-container-id-1 div.sk-container {/* jupyter's `normalize.less` sets `[hidden] { display: none; }` but bootstrap.min.css set `[hidden] { display: none !important; }` so we also need the `!important` here to be able to override the default hidden behavior on the sphinx rendered scikit-learn.org. See: https://github.com/scikit-learn/scikit-learn/issues/21755 */display: inline-block !important;position: relative;}#sk-container-id-1 div.sk-text-repr-fallback {display: none;}</style><div id=\"sk-container-id-1\" class=\"sk-top-container\"><div class=\"sk-text-repr-fallback\"><pre>LGBMRegressor(categorical_column=[1, 2, 4], force_row_wise=True,\n",
       "              num_iterations=500, seed=1, verbose=1)</pre><b>In a Jupyter environment, please rerun this cell to show the HTML representation or trust the notebook. <br />On GitHub, the HTML representation is unable to render, please try loading this page with nbviewer.org.</b></div><div class=\"sk-container\" hidden><div class=\"sk-item\"><div class=\"sk-estimator sk-toggleable\"><input class=\"sk-toggleable__control sk-hidden--visually\" id=\"sk-estimator-id-1\" type=\"checkbox\" checked><label for=\"sk-estimator-id-1\" class=\"sk-toggleable__label sk-toggleable__label-arrow\">LGBMRegressor</label><div class=\"sk-toggleable__content\"><pre>LGBMRegressor(categorical_column=[1, 2, 4], force_row_wise=True,\n",
       "              num_iterations=500, seed=1, verbose=1)</pre></div></div></div></div></div>"
      ],
      "text/plain": [
       "LGBMRegressor(categorical_column=[1, 2, 4], force_row_wise=True,\n",
       "              num_iterations=500, seed=1, verbose=1)"
      ]
     },
     "execution_count": 26,
     "metadata": {},
     "output_type": "execute_result"
    }
   ],
   "source": [
    "gbm = pickle.load( open('lgbm_model.pkl', 'rb'))\n",
    "best_xgb_2 = pickle.load(open('cgs2_model.pkl', 'rb'))\n",
    "best_xgb_1 = pickle.load(open('cgs_model.pkl', 'rb'))\n",
    "best_rf = pickle.load(open('rfr_model.pkl', 'rb'))\n",
    "best_dt = pickle.load(open('dtr_model.pkl', 'rb'))\n",
    "best_ridge = pickle.load(open('rr_model.pkl', 'rb'))\n",
    "best_lasso = pickle.load(open('lr_model.pkl', 'rb'))\n",
    "    \n",
    "lightgbm = lgb.LGBMRegressor()\n",
    "params = gbm.params\n",
    "del params['metric']\n",
    "del params['early_stopping_round']\n",
    "params['num_iterations'] = 500\n",
    "lightgbm.set_params(**params)"
   ]
  },
  {
   "cell_type": "code",
   "execution_count": 27,
   "id": "6d0dda02",
   "metadata": {},
   "outputs": [],
   "source": [
    "estimators = [('lgb',lightgbm),('xgb_1',best_xgb_1), ('xgb_2',best_xgb_2), ('rf',best_rf), \n",
    "              ('dt',best_dt), ('ridge',best_ridge), ('lasso',best_lasso)]\n",
    "cv = TimeSeriesSplit(n_splits=2).get_n_splits(X_train,y_train)\n",
    "ensemble = StackingRegressor(estimators, cv=cv, final_estimator=lightgbm , verbose=1)"
   ]
  },
  {
   "cell_type": "code",
   "execution_count": 28,
   "id": "b6818545",
   "metadata": {},
   "outputs": [
    {
     "name": "stdout",
     "output_type": "stream",
     "text": [
      "[LightGBM] [Info] Total Bins 4768\n",
      "[LightGBM] [Info] Number of data points in the train set: 6426000, number of used features: 30\n",
      "[LightGBM] [Info] Start training from score 0.194736\n",
      "[14:01:50] WARNING: C:\\Users\\dev-admin\\croot2\\xgboost-split_1675461376218\\work\\src\\learner.cc:767: \n",
      "Parameters: { \"verbose\" } are not used.\n",
      "\n",
      "[14:14:42] WARNING: C:\\Users\\dev-admin\\croot2\\xgboost-split_1675461376218\\work\\src\\learner.cc:767: \n",
      "Parameters: { \"cosample_bytree\" } are not used.\n",
      "\n"
     ]
    },
    {
     "name": "stderr",
     "output_type": "stream",
     "text": [
      "[Parallel(n_jobs=1)]: Using backend SequentialBackend with 1 concurrent workers.\n"
     ]
    },
    {
     "name": "stdout",
     "output_type": "stream",
     "text": [
      "[LightGBM] [Info] Total Bins 4780\n",
      "[LightGBM] [Info] Number of data points in the train set: 3213000, number of used features: 30\n",
      "[LightGBM] [Info] Start training from score 0.241067\n",
      "[LightGBM] [Info] Total Bins 4685\n",
      "[LightGBM] [Info] Number of data points in the train set: 3213000, number of used features: 30\n",
      "[LightGBM] [Info] Start training from score 0.148405\n"
     ]
    },
    {
     "name": "stderr",
     "output_type": "stream",
     "text": [
      "[Parallel(n_jobs=1)]: Done   2 out of   2 | elapsed:  2.7min finished\n",
      "[Parallel(n_jobs=1)]: Using backend SequentialBackend with 1 concurrent workers.\n"
     ]
    },
    {
     "name": "stdout",
     "output_type": "stream",
     "text": [
      "[16:10:33] WARNING: C:\\Users\\dev-admin\\croot2\\xgboost-split_1675461376218\\work\\src\\learner.cc:767: \n",
      "Parameters: { \"verbose\" } are not used.\n",
      "\n",
      "[16:55:27] WARNING: C:\\Users\\dev-admin\\croot2\\xgboost-split_1675461376218\\work\\src\\learner.cc:767: \n",
      "Parameters: { \"verbose\" } are not used.\n",
      "\n"
     ]
    },
    {
     "name": "stderr",
     "output_type": "stream",
     "text": [
      "[Parallel(n_jobs=1)]: Done   2 out of   2 | elapsed: 82.2min finished\n",
      "[Parallel(n_jobs=1)]: Using backend SequentialBackend with 1 concurrent workers.\n"
     ]
    },
    {
     "name": "stdout",
     "output_type": "stream",
     "text": [
      "[17:32:50] WARNING: C:\\Users\\dev-admin\\croot2\\xgboost-split_1675461376218\\work\\src\\learner.cc:767: \n",
      "Parameters: { \"cosample_bytree\" } are not used.\n",
      "\n",
      "[18:17:09] WARNING: C:\\Users\\dev-admin\\croot2\\xgboost-split_1675461376218\\work\\src\\learner.cc:767: \n",
      "Parameters: { \"cosample_bytree\" } are not used.\n",
      "\n"
     ]
    },
    {
     "name": "stderr",
     "output_type": "stream",
     "text": [
      "[Parallel(n_jobs=1)]: Done   2 out of   2 | elapsed: 89.0min finished\n",
      "[Parallel(n_jobs=1)]: Using backend SequentialBackend with 1 concurrent workers.\n",
      "[Parallel(n_jobs=1)]: Done   2 out of   2 | elapsed: 81.2min finished\n",
      "[Parallel(n_jobs=1)]: Using backend SequentialBackend with 1 concurrent workers.\n",
      "[Parallel(n_jobs=1)]: Done   2 out of   2 | elapsed:  1.5min finished\n",
      "[Parallel(n_jobs=1)]: Using backend SequentialBackend with 1 concurrent workers.\n",
      "[Parallel(n_jobs=1)]: Done   2 out of   2 | elapsed:   21.4s finished\n",
      "[Parallel(n_jobs=1)]: Using backend SequentialBackend with 1 concurrent workers.\n",
      "[Parallel(n_jobs=1)]: Done   2 out of   2 | elapsed: 10.5min finished\n"
     ]
    },
    {
     "name": "stdout",
     "output_type": "stream",
     "text": [
      "[LightGBM] [Info] Total Bins 1088\n",
      "[LightGBM] [Info] Number of data points in the train set: 6426000, number of used features: 7\n",
      "[LightGBM] [Info] Start training from score 0.194736\n"
     ]
    }
   ],
   "source": [
    "ensemble.fit(X_train,y_train)\n",
    "pickle.dump(ensemble, open('ensemble.pkl', 'wb'))  "
   ]
  },
  {
   "cell_type": "markdown",
   "id": "fdec91e0",
   "metadata": {},
   "source": [
    "Результаты"
   ]
  },
  {
   "cell_type": "code",
   "execution_count": 6,
   "id": "28e7129d",
   "metadata": {},
   "outputs": [],
   "source": [
    "best_lasso = pickle.load(open('lr_model.pkl', 'rb'))\n",
    "lasso_log = pickle.load(open('lr_log.pkl', 'rb'))\n",
    "best_ridge = pickle.load(open('rr_model.pkl', 'rb'))\n",
    "ridge_log = pickle.load(open('rr_log.pkl', 'rb'))\n",
    "best_dt = pickle.load(open('dtr_model.pkl', 'rb'))\n",
    "dt_log = pickle.load(open('dtr_log.pkl', 'rb'))\n",
    "best_rf = pickle.load(open('rfr_model.pkl', 'rb'))\n",
    "rf_log = pickle.load(open('rfr_log.pkl', 'rb'))\n",
    "best_xgb_1 = pickle.load(open('cgs_model.pkl', 'rb'))\n",
    "xgb_log_1 = pickle.load(open('xgb_log_1.pkl', 'rb'))\n",
    "lgb_grid = pickle.load( open('lgbm_model.pkl', 'rb'))\n",
    "ensemble = pickle.load( open('ensemble.pkl', 'rb'))"
   ]
  },
  {
   "cell_type": "code",
   "execution_count": 10,
   "id": "e0713060",
   "metadata": {},
   "outputs": [
    {
     "name": "stdout",
     "output_type": "stream",
     "text": [
      "+-------------------------+------------+----------+\n",
      "|          Model          | train_rmse | val_rmse |\n",
      "+-------------------------+------------+----------+\n",
      "|     Lasso Regression    |  0.77688   |  0.896   |\n",
      "|     Ridge Regression    |  0.77733   | 0.89641  |\n",
      "| Decision tree Regressor |  0.74485   | 0.89979  |\n",
      "| Random Forest Regressor |  0.73373   | 0.88666  |\n",
      "|     XGB Regressor 1     |  0.72148   | 0.86635  |\n",
      "|         LightGBM        |  0.73135   | 0.86727  |\n",
      "|         Ensemble        |  0.69975   | 0.86972  |\n",
      "+-------------------------+------------+----------+\n"
     ]
    }
   ],
   "source": [
    "lgb_train_rmse = mean_squared_error(lgb_grid.predict(X_train).clip(0,20),y_train, squared = False)\n",
    "lgb_test_rmse = mean_squared_error(lgb_grid.predict(X_val).clip(0,20),y_val, squared = False)\n",
    "\n",
    "ensemble_train = mean_squared_error(ensemble.predict(X_train).clip(0,20),y_train, squared=False)\n",
    "ensemble_val = mean_squared_error(ensemble.predict(X_val).clip(0,20),y_val, squared=False)\n",
    "\n",
    "x = PrettyTable()\n",
    "x.field_names = [\"Model\", \"train_rmse\" , \"val_rmse\"]\n",
    "x.add_row([\"Lasso Regression\", round(lasso_log[0][np.argmin(lasso_log[1])],5), round(min(lasso_log[1]),5)])\n",
    "x.add_row([\"Ridge Regression\", round(ridge_log[0][np.argmin(ridge_log[1])],5), round(min(ridge_log[1]),5)])\n",
    "x.add_row([\"Decision tree Regressor\", round(dt_log[0][np.argmin(dt_log[1])],5), round(min(dt_log[1]),5)])\n",
    "x.add_row([\"Random Forest Regressor\", round(rf_log[0][np.argmin(rf_log[1])],5), round(min(rf_log[1]),5)])\n",
    "x.add_row([\"XGB Regressor 1\", round(xgb_log_1[0][np.argmin(xgb_log_1[1])],5), round(min(xgb_log_1[1]),5)])\n",
    "x.add_row([\"LightGBM\", round(lgb_train_rmse,5), round(lgb_test_rmse,5)])\n",
    "x.add_row([\"Ensemble\", round(ensemble_train,5), round(ensemble_val,5)])\n",
    "print(x)"
   ]
  },
  {
   "cell_type": "code",
   "execution_count": 6,
   "id": "1b3ac18c",
   "metadata": {},
   "outputs": [],
   "source": [
    "# функция предсказания количества продаж\n",
    "def predict_sales(shop_id,item_id,model):\n",
    "    \n",
    "    best_model = pickle.load(open(model, 'rb'))\n",
    "        \n",
    "    \n",
    "        \n",
    "    try: \n",
    "        pred = best_model.predict(X_test[X_test.shop_id == shop_id][X_test.item_id == item_id]).clip(0,20)\n",
    "        return print('Прогноз количества проданных товаров : {}'.format(int(pred)))\n",
    "    \n",
    "    except:\n",
    "        return print(\"Введеного shop_id/item_id нет\")"
   ]
  },
  {
   "cell_type": "code",
   "execution_count": 8,
   "id": "6eef721b",
   "metadata": {},
   "outputs": [],
   "source": [
    "# функция подсчета ошибки\n",
    "def predict_score(shop_id,item_id,model):\n",
    "    \n",
    "    best_model = pickle.load(open(model, 'rb')) \n",
    "    \n",
    "        \n",
    "    try: \n",
    "        pred = best_model.predict(X_val[X_val.shop_id == shop_id][X_val.item_id == item_id]).clip(0,20)\n",
    "        y = y_val[X_val.shop_id == shop_id][X_val.item_id == item_id]\n",
    "        return print('вероятность ошибки: {}'.format(mean_squared_error(pred,y,squared= False)))\n",
    "    \n",
    "    except:\n",
    "        return print(\"Введеного shop_id/item_id нет\") "
   ]
  },
  {
   "cell_type": "code",
   "execution_count": 9,
   "id": "934e46fb",
   "metadata": {},
   "outputs": [
    {
     "name": "stdout",
     "output_type": "stream",
     "text": [
      "Прогноз количества проданных товаров : 9\n",
      "вероятность ошибки: 0.13468680541070605\n"
     ]
    }
   ],
   "source": [
    "predict_sales(shop_id=28,item_id=17031,model='lgbm_model.pkl')\n",
    "predict_score(shop_id=28,item_id=17031,model='lgbm_model.pkl')"
   ]
  },
  {
   "cell_type": "code",
   "execution_count": null,
   "id": "e6acb62d",
   "metadata": {},
   "outputs": [],
   "source": [
    "pred_clip = gbm.predict(X_test).clip(0,20)\n",
    "pred_1 = test\n",
    "pred_1['item_cnt_month'] = pred_clip\n",
    "pred_1.to_csv('predict_ensemble',index=False)"
   ]
  },
  {
   "cell_type": "code",
   "execution_count": null,
   "id": "6d57d01d",
   "metadata": {},
   "outputs": [],
   "source": []
  },
  {
   "cell_type": "code",
   "execution_count": null,
   "id": "fcafa940",
   "metadata": {},
   "outputs": [],
   "source": []
  },
  {
   "cell_type": "code",
   "execution_count": null,
   "id": "d146f322",
   "metadata": {},
   "outputs": [],
   "source": []
  }
 ],
 "metadata": {
  "kernelspec": {
   "display_name": "Python 3 (ipykernel)",
   "language": "python",
   "name": "python3"
  },
  "language_info": {
   "codemirror_mode": {
    "name": "ipython",
    "version": 3
   },
   "file_extension": ".py",
   "mimetype": "text/x-python",
   "name": "python",
   "nbconvert_exporter": "python",
   "pygments_lexer": "ipython3",
   "version": "3.9.7"
  }
 },
 "nbformat": 4,
 "nbformat_minor": 5
}
